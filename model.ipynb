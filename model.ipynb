{
 "metadata": {
  "language_info": {
   "codemirror_mode": {
    "name": "ipython",
    "version": 3
   },
   "file_extension": ".py",
   "mimetype": "text/x-python",
   "name": "python",
   "nbconvert_exporter": "python",
   "pygments_lexer": "ipython3",
   "version": "3.9.4"
  },
  "orig_nbformat": 2,
  "kernelspec": {
   "name": "python394jvsc74a57bd0e636835de041e8eb54f53ce635f43f3394409a2877f9076e2ef55a9fb0ce79b3",
   "display_name": "Python 3.9.4 64-bit ('ir': conda)"
  },
  "metadata": {
   "interpreter": {
    "hash": "e636835de041e8eb54f53ce635f43f3394409a2877f9076e2ef55a9fb0ce79b3"
   }
  }
 },
 "nbformat": 4,
 "nbformat_minor": 2,
 "cells": [
  {
   "source": [
    "# Imports"
   ],
   "cell_type": "markdown",
   "metadata": {}
  },
  {
   "cell_type": "code",
   "execution_count": 119,
   "metadata": {},
   "outputs": [],
   "source": [
    "## Numerical Calculations\n",
    "import numpy as np\n",
    "\n",
    "## Data\n",
    "import pandas as pd\n",
    "import collections\n",
    "import json\n",
    "\n",
    "## Plotting\n",
    "import matplotlib.pyplot as plt\n",
    "import seaborn as sns\n",
    "\n",
    "## Text Processing\n",
    "import re\n",
    "import nltk\n",
    "from nltk.stem import PorterStemmer\n",
    "porter = PorterStemmer()\n",
    "\n",
    "## Spacy\n",
    "import spacy\n",
    "from spacy.tokenizer import Tokenizer\n",
    "from spacy.lang.en import English\n",
    "nlp = English()\n",
    "tokenizer = Tokenizer(nlp.vocab)\n",
    "\n",
    "# ## Language Detection\n",
    "# import langdetect \n",
    "\n",
    "# ## Sentiment\n",
    "# from textblob import TextBlob\n",
    "\n",
    "## NER\n",
    "import spacy\n",
    "\n",
    "## SKLEARN\n",
    "\n",
    "### Vectorizing\n",
    "from sklearn import feature_extraction, manifold\n",
    "\n",
    "### TF-IDF\n",
    "from sklearn.feature_extraction.text import TfidfVectorizer, CountVectorizer, TfidfTransformer\n",
    "\n",
    "### Label\n",
    "from sklearn.preprocessing import OneHotEncoder, LabelEncoder\n",
    "\n",
    "## Word Embedding\n",
    "import gensim.downloader as gensim_api\n",
    "\n",
    "## Topic Modeling\n",
    "import gensim\n",
    "\n",
    "## Python Libraries\n",
    "import math\n",
    "\n",
    "## HTML Parsing\n",
    "import bs4\n",
    "from bs4 import BeautifulSoup, UnicodeDammit\n",
    "\n",
    "## LXML parsing\n",
    "from lxml import html"
   ]
  },
  {
   "source": [
    "# Dataset"
   ],
   "cell_type": "markdown",
   "metadata": {}
  },
  {
   "source": [
    "## Training Data"
   ],
   "cell_type": "markdown",
   "metadata": {}
  },
  {
   "cell_type": "code",
   "execution_count": 28,
   "metadata": {},
   "outputs": [],
   "source": [
    "init_training_data = pd.read_csv('data/training/data_train.csv', sep=',', names=['country', 'sku_id', 'title', 'category_lvl_1', 'category_lvl_2', 'category_lvl_3', 'short_description', 'price', 'product_type'])\n",
    "clarity_training_data = pd.read_csv('data/training/clarity_train.csv', sep=',', names=['clarity',''], usecols=['clarity'])\n",
    "conciseness_training_data = pd.read_csv('data/training/conciseness_train.csv', sep=',', names=['conciseness',''], usecols=['conciseness'])\n",
    "\n",
    "# Separately storing the data\n",
    "training_data = init_training_data.copy()\n",
    "training_data['clarity'] = clarity_training_data['clarity']\n",
    "training_data['conciseness'] = conciseness_training_data['conciseness']"
   ]
  },
  {
   "source": [
    "## Validation Data"
   ],
   "cell_type": "markdown",
   "metadata": {}
  },
  {
   "cell_type": "code",
   "execution_count": 29,
   "metadata": {},
   "outputs": [],
   "source": [
    "validation_data = pd.read_csv('data/validation/data_valid.csv', sep=',', names = ['country', 'sku_id', 'title', 'category_lvl_1', 'category_lvl_2', 'category_lvl_3', 'short_description', 'price', 'product_type'])\n",
    "clarity_validation_data = pd.read_csv('data/validation/clarity_valid.csv', sep=',', names=['clarity',''], usecols=['clarity'])\n",
    "conciseness_validation_data = pd.read_csv('data/validation/conciseness_valid.csv', sep=',', names=['conciseness',''], usecols=['conciseness'])"
   ]
  },
  {
   "source": [
    "## Testing Data"
   ],
   "cell_type": "markdown",
   "metadata": {}
  },
  {
   "cell_type": "code",
   "execution_count": 30,
   "metadata": {},
   "outputs": [],
   "source": [
    "testing_data = pd.read_csv('data/testing/data_test.csv', sep=',', names = ['country', 'sku_id', 'title', 'category_lvl_1', 'category_lvl_2', 'category_lvl_3', 'short_description', 'price', 'product_type'])\n",
    "clarity_testing_data = pd.read_csv('data/testing/clarity_test.csv', sep=',', names=['clarity',''], usecols=['clarity'])\n",
    "conciseness_testing_data = pd.read_csv('data/testing/conciseness_test.csv', sep=',', names=['conciseness',''], usecols=['conciseness'])"
   ]
  },
  {
   "source": [
    "There are a lot of fields which depend on the string values. These all have to be preprocessed accordingly and made into newer features before we move on to exploring what these features contain. Accordingly, finding the correlation of these features also does not give anything of value."
   ],
   "cell_type": "markdown",
   "metadata": {}
  },
  {
   "cell_type": "code",
   "execution_count": 31,
   "metadata": {},
   "outputs": [
    {
     "output_type": "execute_result",
     "data": {
      "text/plain": [
       "                price   clarity  conciseness\n",
       "price        1.000000  0.003322     0.009616\n",
       "clarity      0.003322  1.000000     0.361611\n",
       "conciseness  0.009616  0.361611     1.000000"
      ],
      "text/html": "<div>\n<style scoped>\n    .dataframe tbody tr th:only-of-type {\n        vertical-align: middle;\n    }\n\n    .dataframe tbody tr th {\n        vertical-align: top;\n    }\n\n    .dataframe thead th {\n        text-align: right;\n    }\n</style>\n<table border=\"1\" class=\"dataframe\">\n  <thead>\n    <tr style=\"text-align: right;\">\n      <th></th>\n      <th>price</th>\n      <th>clarity</th>\n      <th>conciseness</th>\n    </tr>\n  </thead>\n  <tbody>\n    <tr>\n      <th>price</th>\n      <td>1.000000</td>\n      <td>0.003322</td>\n      <td>0.009616</td>\n    </tr>\n    <tr>\n      <th>clarity</th>\n      <td>0.003322</td>\n      <td>1.000000</td>\n      <td>0.361611</td>\n    </tr>\n    <tr>\n      <th>conciseness</th>\n      <td>0.009616</td>\n      <td>0.361611</td>\n      <td>1.000000</td>\n    </tr>\n  </tbody>\n</table>\n</div>"
     },
     "metadata": {},
     "execution_count": 31
    }
   ],
   "source": [
    "training_data.corr()"
   ]
  },
  {
   "source": [
    "# Preprocessing"
   ],
   "cell_type": "markdown",
   "metadata": {}
  },
  {
   "source": [
    "## Missing Values - Imputation"
   ],
   "cell_type": "markdown",
   "metadata": {}
  },
  {
   "source": [
    "### Column - Category_Lvl_3"
   ],
   "cell_type": "markdown",
   "metadata": {}
  },
  {
   "cell_type": "code",
   "execution_count": 32,
   "metadata": {},
   "outputs": [],
   "source": [
    "def printColumnWithNA(data):\n",
    "    for column in data.columns:\n",
    "        print(column, data[column].isnull().sum())"
   ]
  },
  {
   "cell_type": "code",
   "execution_count": 33,
   "metadata": {},
   "outputs": [],
   "source": [
    "def printColumnWithUnique(data):\n",
    "    for column in data.columns:\n",
    "        print(column, len(data[column].unique()))"
   ]
  },
  {
   "cell_type": "code",
   "execution_count": 34,
   "metadata": {
    "tags": []
   },
   "outputs": [
    {
     "output_type": "stream",
     "name": "stdout",
     "text": [
      "country 0\nsku_id 0\ntitle 0\ncategory_lvl_1 0\ncategory_lvl_2 0\ncategory_lvl_3 2135\nshort_description 33\nprice 0\nproduct_type 277\nclarity 0\nconciseness 0\n"
     ]
    }
   ],
   "source": [
    "printColumnWithNA(training_data)"
   ]
  },
  {
   "cell_type": "code",
   "execution_count": 35,
   "metadata": {},
   "outputs": [],
   "source": [
    "for idx in range(0 , len(training_data)):\n",
    "    training_data.loc[idx, 'category_lvl_3'] = training_data.loc[idx]['category_lvl_1'] + \" \" + training_data.loc[idx]['category_lvl_2']"
   ]
  },
  {
   "cell_type": "code",
   "execution_count": 36,
   "metadata": {},
   "outputs": [
    {
     "output_type": "execute_result",
     "data": {
      "text/plain": [
       "   country              sku_id  \\\n",
       "4       my    AR511HBAXNWAANMY   \n",
       "5       my    AS575ELCMZ4WANMY   \n",
       "6       my  AS727ELAA9LLV1ANMY   \n",
       "7       my  BU512HBAA4WUVTANMY   \n",
       "8       my    CL787ELAW29LANMY   \n",
       "9       my  CO633HLAABREKOANMY   \n",
       "10      my  EL802HLAA51ZZVANMY   \n",
       "11      my  EM688OTAA9H8S8ANMY   \n",
       "12      my  FE090OTAAAPW6VANMY   \n",
       "13      my  FI087ELAA7Z6D7ANMY   \n",
       "14      my    FO862HBAZ6LWANMY   \n",
       "15      my  HA543FAAAA8IHWANMY   \n",
       "16      my  JI013OTAA5FMEDANMY   \n",
       "17      my  JI733ELAA3XWA1ANMY   \n",
       "18      my  JO156ELAA6CO0MANMY   \n",
       "19      my  JO511HBAA7CGMGANMY   \n",
       "20      my    JU816FAAPKMIANMY   \n",
       "21      my  KD209HAAAA8EEEANMY   \n",
       "22      my  KE294HLAA8EBUZANMY   \n",
       "23      my  KO422HBAA8WEQ8ANMY   \n",
       "24      my    LE106ELAVO5SANMY   \n",
       "25      my  LU316ELAA8O9BQANMY   \n",
       "26      my    LY834FABEWC9ANMY   \n",
       "27      my  MO158HAAA30BBCANMY   \n",
       "28      my    MO554ELBMC5YANMY   \n",
       "29      my    MO554ELCHBVMANMY   \n",
       "\n",
       "                                                title  \\\n",
       "4   Argital Argiltubo Green Clay For Face and Body...   \n",
       "5   Asus TP300LJ-DW004H Transformer Book Flip 4GB ...   \n",
       "6   NG-40C Ring-Shaped 40W 3166lm 5400K Macro Phot...   \n",
       "7             Buytra Exfoliating Peel Foot Mask 1Pair   \n",
       "8   CLiPtec OCC121 Slim Flat USB 3.0 Extension Cab...   \n",
       "9   McDonald's Coke Can Glass Limited Edition 12oz...   \n",
       "10  ELENXS Stainless Steel Tea Ball Strainer Mesh ...   \n",
       "11       7mm Natural Prehnite Crystal Bracelet(Green)   \n",
       "12  Feelontop Punk Rock Rhinestone Star Shape Long...   \n",
       "13  Fitbit Charge Wireless Activity Wristband, Blu...   \n",
       "14            Foltene Eyelash &amp; Eyebrow Treatment   \n",
       "15  Hanyu Men PU Leather Lace Up Cap-Toe Business ...   \n",
       "16  JinGle Winner Mens women Skeleton Rose Gold St...   \n",
       "17  JIANSE Cranes Sky Flight Couple Cloud Hard Bac...   \n",
       "18  joyliveCY Universal Lazy Android Mobile Phone ...   \n",
       "19  Joop Le Bain Soft Moments Eau De Parfum Spray ...   \n",
       "20     Juju Milky Emerald Eye Rhinestone Cheetah Stud   \n",
       "21  Kdk 16\" Wall Fan (Remote) &nbsp;Oscillation Co...   \n",
       "22  DIY Marble Contact Paper PVC Removable Wallpap...   \n",
       "23  5 units of Korea Soothing &amp; Moisture 99% A...   \n",
       "24                       Lenovo Battery BL203 1500mAH   \n",
       "25  LUOWAN Galaxy S7 Edge Case - Silicone Soft TPU...   \n",
       "26  Prado2u LYY Korean Canvas Crossbody Bag FLISH ...   \n",
       "27          Morgan Garment Steamer MSI-GA220B (1500w)   \n",
       "28  Moonmini Case for iPhone 5 5S (Hot Pink + Blue...   \n",
       "29  Moonmini Case for Apple iPhone 6 Plus 5.5 inch...   \n",
       "\n",
       "                           category_lvl_1       category_lvl_2  \\\n",
       "4                         Health & Beauty           Men's Care   \n",
       "5                     Computers & Laptops              Laptops   \n",
       "6                                 Cameras   Camera Accessories   \n",
       "7                         Health & Beauty          Bath & Body   \n",
       "8                     Computers & Laptops              Laptops   \n",
       "9                           Home & Living     Kitchen & Dining   \n",
       "10                          Home & Living     Kitchen & Dining   \n",
       "11           Watches Sunglasses Jewellery            Jewellery   \n",
       "12           Watches Sunglasses Jewellery            Jewellery   \n",
       "13  TV, Audio / Video, Gaming & Wearables  Wearable Technology   \n",
       "14                        Health & Beauty               Makeup   \n",
       "15                                Fashion                  Men   \n",
       "16           Watches Sunglasses Jewellery              Watches   \n",
       "17                      Mobiles & Tablets          Accessories   \n",
       "18                      Mobiles & Tablets          Accessories   \n",
       "19                        Health & Beauty           Fragrances   \n",
       "20           Watches Sunglasses Jewellery            Jewellery   \n",
       "21                        Home Appliances    Cooling & Heating   \n",
       "22                          Home & Living           Home Décor   \n",
       "23                        Health & Beauty            Skin Care   \n",
       "24                      Mobiles & Tablets          Accessories   \n",
       "25                      Mobiles & Tablets          Accessories   \n",
       "26                                Fashion                  Men   \n",
       "27                        Home Appliances         Garment Care   \n",
       "28                      Mobiles & Tablets          Accessories   \n",
       "29                      Mobiles & Tablets          Accessories   \n",
       "\n",
       "                                       category_lvl_3  \\\n",
       "4                          Health & Beauty Men's Care   \n",
       "5                         Computers & Laptops Laptops   \n",
       "6                          Cameras Camera Accessories   \n",
       "7                         Health & Beauty Bath & Body   \n",
       "8                         Computers & Laptops Laptops   \n",
       "9                      Home & Living Kitchen & Dining   \n",
       "10                     Home & Living Kitchen & Dining   \n",
       "11             Watches Sunglasses Jewellery Jewellery   \n",
       "12             Watches Sunglasses Jewellery Jewellery   \n",
       "13  TV, Audio / Video, Gaming & Wearables Wearable...   \n",
       "14                             Health & Beauty Makeup   \n",
       "15                                        Fashion Men   \n",
       "16               Watches Sunglasses Jewellery Watches   \n",
       "17                      Mobiles & Tablets Accessories   \n",
       "18                      Mobiles & Tablets Accessories   \n",
       "19                         Health & Beauty Fragrances   \n",
       "20             Watches Sunglasses Jewellery Jewellery   \n",
       "21                  Home Appliances Cooling & Heating   \n",
       "22                           Home & Living Home Décor   \n",
       "23                          Health & Beauty Skin Care   \n",
       "24                      Mobiles & Tablets Accessories   \n",
       "25                      Mobiles & Tablets Accessories   \n",
       "26                                        Fashion Men   \n",
       "27                       Home Appliances Garment Care   \n",
       "28                      Mobiles & Tablets Accessories   \n",
       "29                      Mobiles & Tablets Accessories   \n",
       "\n",
       "                                    short_description    price   product_type  \\\n",
       "4   <ul> <li>100% Authentic</li> <li>Rrefresh and ...   114.80  international   \n",
       "5   <div class=\"prod_content\"> <div class=\"prod_de...  2599.00          local   \n",
       "6   <ul> <li>1. Color Temperature: 5400K</li> <li>...   388.99  international   \n",
       "7   <ul> <li>Reviving like a new born baby.</li> <...    10.40  international   \n",
       "8   <ul style= \"padding: 0px; margin: 20px 0px 0px...    29.00          local   \n",
       "9   <ul> <li>Genuine issued McDonald's Coca Cola m...    25.00          local   \n",
       "10  <ul> <li>Stainless Steel Filter</li> <li>Stain...     9.48  international   \n",
       "11  <ul> <li>Material: Genuine Prehnite Crystal Be...    78.00          local   \n",
       "12  <ul> <li>Lead and Nickle Free</li> <li>Good Qu...    15.55  international   \n",
       "13  <ul> <li>Accurately track all-day stats like s...   499.00  international   \n",
       "14  <ul> <li>Apply morning and evening&nbsp;</li> ...   120.00          local   \n",
       "15  <ul style=\"list-style-type:disc\"> <li>100% Bra...    56.18  international   \n",
       "16  <div> <ul> <li>Gender Men's</li> <li>Movement ...    84.60  international   \n",
       "17  <ul> <li>Print on all sides, glossy finish</li...    30.00  international   \n",
       "18  <ul> <li>Item Type:Phone Holder</li> <li>Size:...    16.66  international   \n",
       "19  <ul> <li>100% Genuine and Authentic products</...   170.00  international   \n",
       "20  <ul><li>Size : 9.5cm length x 1.5cm width&nbsp...    19.00          local   \n",
       "21  <ul> <li>1,3,6 Hours Timer</li> <li>3 Speed Co...   278.00          local   \n",
       "22  <div> <ul> <li>size: 5meter x 60cm</li> <li>wi...    75.00          local   \n",
       "23  <ul> <li>The most popular and best aloe Vera s...    59.00          local   \n",
       "24  <ul> <li> &nbsp;Ideal replacement or spare bat...    32.80          local   \n",
       "25  <ul> <li>DESIGN: The Luowan Samsung Galaxy S7 ...    18.00  international   \n",
       "26  <ul style= \"font-style: normal; font-variant: ...    42.00          local   \n",
       "27  <ul> <li>Power Rating : 1500 W</li> <li>See Th...   159.00          local   \n",
       "28  Opening to all connections and controls - Anti...    19.99  international   \n",
       "29  <ul><li>Premium look and feel</li> <li>Perfect...    29.99  international   \n",
       "\n",
       "    clarity  conciseness  \n",
       "4         1            1  \n",
       "5         1            1  \n",
       "6         1            1  \n",
       "7         1            1  \n",
       "8         1            1  \n",
       "9         1            1  \n",
       "10        1            1  \n",
       "11        1            1  \n",
       "12        1            1  \n",
       "13        1            1  \n",
       "14        1            1  \n",
       "15        1            1  \n",
       "16        1            1  \n",
       "17        1            1  \n",
       "18        0            0  \n",
       "19        1            1  \n",
       "20        1            1  \n",
       "21        1            1  \n",
       "22        1            1  \n",
       "23        0            0  \n",
       "24        1            1  \n",
       "25        1            1  \n",
       "26        1            1  \n",
       "27        1            1  \n",
       "28        1            1  \n",
       "29        1            1  "
      ],
      "text/html": "<div>\n<style scoped>\n    .dataframe tbody tr th:only-of-type {\n        vertical-align: middle;\n    }\n\n    .dataframe tbody tr th {\n        vertical-align: top;\n    }\n\n    .dataframe thead th {\n        text-align: right;\n    }\n</style>\n<table border=\"1\" class=\"dataframe\">\n  <thead>\n    <tr style=\"text-align: right;\">\n      <th></th>\n      <th>country</th>\n      <th>sku_id</th>\n      <th>title</th>\n      <th>category_lvl_1</th>\n      <th>category_lvl_2</th>\n      <th>category_lvl_3</th>\n      <th>short_description</th>\n      <th>price</th>\n      <th>product_type</th>\n      <th>clarity</th>\n      <th>conciseness</th>\n    </tr>\n  </thead>\n  <tbody>\n    <tr>\n      <th>4</th>\n      <td>my</td>\n      <td>AR511HBAXNWAANMY</td>\n      <td>Argital Argiltubo Green Clay For Face and Body...</td>\n      <td>Health &amp; Beauty</td>\n      <td>Men's Care</td>\n      <td>Health &amp; Beauty Men's Care</td>\n      <td>&lt;ul&gt; &lt;li&gt;100% Authentic&lt;/li&gt; &lt;li&gt;Rrefresh and ...</td>\n      <td>114.80</td>\n      <td>international</td>\n      <td>1</td>\n      <td>1</td>\n    </tr>\n    <tr>\n      <th>5</th>\n      <td>my</td>\n      <td>AS575ELCMZ4WANMY</td>\n      <td>Asus TP300LJ-DW004H Transformer Book Flip 4GB ...</td>\n      <td>Computers &amp; Laptops</td>\n      <td>Laptops</td>\n      <td>Computers &amp; Laptops Laptops</td>\n      <td>&lt;div class=\"prod_content\"&gt; &lt;div class=\"prod_de...</td>\n      <td>2599.00</td>\n      <td>local</td>\n      <td>1</td>\n      <td>1</td>\n    </tr>\n    <tr>\n      <th>6</th>\n      <td>my</td>\n      <td>AS727ELAA9LLV1ANMY</td>\n      <td>NG-40C Ring-Shaped 40W 3166lm 5400K Macro Phot...</td>\n      <td>Cameras</td>\n      <td>Camera Accessories</td>\n      <td>Cameras Camera Accessories</td>\n      <td>&lt;ul&gt; &lt;li&gt;1. Color Temperature: 5400K&lt;/li&gt; &lt;li&gt;...</td>\n      <td>388.99</td>\n      <td>international</td>\n      <td>1</td>\n      <td>1</td>\n    </tr>\n    <tr>\n      <th>7</th>\n      <td>my</td>\n      <td>BU512HBAA4WUVTANMY</td>\n      <td>Buytra Exfoliating Peel Foot Mask 1Pair</td>\n      <td>Health &amp; Beauty</td>\n      <td>Bath &amp; Body</td>\n      <td>Health &amp; Beauty Bath &amp; Body</td>\n      <td>&lt;ul&gt; &lt;li&gt;Reviving like a new born baby.&lt;/li&gt; &lt;...</td>\n      <td>10.40</td>\n      <td>international</td>\n      <td>1</td>\n      <td>1</td>\n    </tr>\n    <tr>\n      <th>8</th>\n      <td>my</td>\n      <td>CL787ELAW29LANMY</td>\n      <td>CLiPtec OCC121 Slim Flat USB 3.0 Extension Cab...</td>\n      <td>Computers &amp; Laptops</td>\n      <td>Laptops</td>\n      <td>Computers &amp; Laptops Laptops</td>\n      <td>&lt;ul style= \"padding: 0px; margin: 20px 0px 0px...</td>\n      <td>29.00</td>\n      <td>local</td>\n      <td>1</td>\n      <td>1</td>\n    </tr>\n    <tr>\n      <th>9</th>\n      <td>my</td>\n      <td>CO633HLAABREKOANMY</td>\n      <td>McDonald's Coke Can Glass Limited Edition 12oz...</td>\n      <td>Home &amp; Living</td>\n      <td>Kitchen &amp; Dining</td>\n      <td>Home &amp; Living Kitchen &amp; Dining</td>\n      <td>&lt;ul&gt; &lt;li&gt;Genuine issued McDonald's Coca Cola m...</td>\n      <td>25.00</td>\n      <td>local</td>\n      <td>1</td>\n      <td>1</td>\n    </tr>\n    <tr>\n      <th>10</th>\n      <td>my</td>\n      <td>EL802HLAA51ZZVANMY</td>\n      <td>ELENXS Stainless Steel Tea Ball Strainer Mesh ...</td>\n      <td>Home &amp; Living</td>\n      <td>Kitchen &amp; Dining</td>\n      <td>Home &amp; Living Kitchen &amp; Dining</td>\n      <td>&lt;ul&gt; &lt;li&gt;Stainless Steel Filter&lt;/li&gt; &lt;li&gt;Stain...</td>\n      <td>9.48</td>\n      <td>international</td>\n      <td>1</td>\n      <td>1</td>\n    </tr>\n    <tr>\n      <th>11</th>\n      <td>my</td>\n      <td>EM688OTAA9H8S8ANMY</td>\n      <td>7mm Natural Prehnite Crystal Bracelet(Green)</td>\n      <td>Watches Sunglasses Jewellery</td>\n      <td>Jewellery</td>\n      <td>Watches Sunglasses Jewellery Jewellery</td>\n      <td>&lt;ul&gt; &lt;li&gt;Material: Genuine Prehnite Crystal Be...</td>\n      <td>78.00</td>\n      <td>local</td>\n      <td>1</td>\n      <td>1</td>\n    </tr>\n    <tr>\n      <th>12</th>\n      <td>my</td>\n      <td>FE090OTAAAPW6VANMY</td>\n      <td>Feelontop Punk Rock Rhinestone Star Shape Long...</td>\n      <td>Watches Sunglasses Jewellery</td>\n      <td>Jewellery</td>\n      <td>Watches Sunglasses Jewellery Jewellery</td>\n      <td>&lt;ul&gt; &lt;li&gt;Lead and Nickle Free&lt;/li&gt; &lt;li&gt;Good Qu...</td>\n      <td>15.55</td>\n      <td>international</td>\n      <td>1</td>\n      <td>1</td>\n    </tr>\n    <tr>\n      <th>13</th>\n      <td>my</td>\n      <td>FI087ELAA7Z6D7ANMY</td>\n      <td>Fitbit Charge Wireless Activity Wristband, Blu...</td>\n      <td>TV, Audio / Video, Gaming &amp; Wearables</td>\n      <td>Wearable Technology</td>\n      <td>TV, Audio / Video, Gaming &amp; Wearables Wearable...</td>\n      <td>&lt;ul&gt; &lt;li&gt;Accurately track all-day stats like s...</td>\n      <td>499.00</td>\n      <td>international</td>\n      <td>1</td>\n      <td>1</td>\n    </tr>\n    <tr>\n      <th>14</th>\n      <td>my</td>\n      <td>FO862HBAZ6LWANMY</td>\n      <td>Foltene Eyelash &amp;amp; Eyebrow Treatment</td>\n      <td>Health &amp; Beauty</td>\n      <td>Makeup</td>\n      <td>Health &amp; Beauty Makeup</td>\n      <td>&lt;ul&gt; &lt;li&gt;Apply morning and evening&amp;nbsp;&lt;/li&gt; ...</td>\n      <td>120.00</td>\n      <td>local</td>\n      <td>1</td>\n      <td>1</td>\n    </tr>\n    <tr>\n      <th>15</th>\n      <td>my</td>\n      <td>HA543FAAAA8IHWANMY</td>\n      <td>Hanyu Men PU Leather Lace Up Cap-Toe Business ...</td>\n      <td>Fashion</td>\n      <td>Men</td>\n      <td>Fashion Men</td>\n      <td>&lt;ul style=\"list-style-type:disc\"&gt; &lt;li&gt;100% Bra...</td>\n      <td>56.18</td>\n      <td>international</td>\n      <td>1</td>\n      <td>1</td>\n    </tr>\n    <tr>\n      <th>16</th>\n      <td>my</td>\n      <td>JI013OTAA5FMEDANMY</td>\n      <td>JinGle Winner Mens women Skeleton Rose Gold St...</td>\n      <td>Watches Sunglasses Jewellery</td>\n      <td>Watches</td>\n      <td>Watches Sunglasses Jewellery Watches</td>\n      <td>&lt;div&gt; &lt;ul&gt; &lt;li&gt;Gender Men's&lt;/li&gt; &lt;li&gt;Movement ...</td>\n      <td>84.60</td>\n      <td>international</td>\n      <td>1</td>\n      <td>1</td>\n    </tr>\n    <tr>\n      <th>17</th>\n      <td>my</td>\n      <td>JI733ELAA3XWA1ANMY</td>\n      <td>JIANSE Cranes Sky Flight Couple Cloud Hard Bac...</td>\n      <td>Mobiles &amp; Tablets</td>\n      <td>Accessories</td>\n      <td>Mobiles &amp; Tablets Accessories</td>\n      <td>&lt;ul&gt; &lt;li&gt;Print on all sides, glossy finish&lt;/li...</td>\n      <td>30.00</td>\n      <td>international</td>\n      <td>1</td>\n      <td>1</td>\n    </tr>\n    <tr>\n      <th>18</th>\n      <td>my</td>\n      <td>JO156ELAA6CO0MANMY</td>\n      <td>joyliveCY Universal Lazy Android Mobile Phone ...</td>\n      <td>Mobiles &amp; Tablets</td>\n      <td>Accessories</td>\n      <td>Mobiles &amp; Tablets Accessories</td>\n      <td>&lt;ul&gt; &lt;li&gt;Item Type:Phone Holder&lt;/li&gt; &lt;li&gt;Size:...</td>\n      <td>16.66</td>\n      <td>international</td>\n      <td>0</td>\n      <td>0</td>\n    </tr>\n    <tr>\n      <th>19</th>\n      <td>my</td>\n      <td>JO511HBAA7CGMGANMY</td>\n      <td>Joop Le Bain Soft Moments Eau De Parfum Spray ...</td>\n      <td>Health &amp; Beauty</td>\n      <td>Fragrances</td>\n      <td>Health &amp; Beauty Fragrances</td>\n      <td>&lt;ul&gt; &lt;li&gt;100% Genuine and Authentic products&lt;/...</td>\n      <td>170.00</td>\n      <td>international</td>\n      <td>1</td>\n      <td>1</td>\n    </tr>\n    <tr>\n      <th>20</th>\n      <td>my</td>\n      <td>JU816FAAPKMIANMY</td>\n      <td>Juju Milky Emerald Eye Rhinestone Cheetah Stud</td>\n      <td>Watches Sunglasses Jewellery</td>\n      <td>Jewellery</td>\n      <td>Watches Sunglasses Jewellery Jewellery</td>\n      <td>&lt;ul&gt;&lt;li&gt;Size : 9.5cm length x 1.5cm width&amp;nbsp...</td>\n      <td>19.00</td>\n      <td>local</td>\n      <td>1</td>\n      <td>1</td>\n    </tr>\n    <tr>\n      <th>21</th>\n      <td>my</td>\n      <td>KD209HAAAA8EEEANMY</td>\n      <td>Kdk 16\" Wall Fan (Remote) &amp;nbsp;Oscillation Co...</td>\n      <td>Home Appliances</td>\n      <td>Cooling &amp; Heating</td>\n      <td>Home Appliances Cooling &amp; Heating</td>\n      <td>&lt;ul&gt; &lt;li&gt;1,3,6 Hours Timer&lt;/li&gt; &lt;li&gt;3 Speed Co...</td>\n      <td>278.00</td>\n      <td>local</td>\n      <td>1</td>\n      <td>1</td>\n    </tr>\n    <tr>\n      <th>22</th>\n      <td>my</td>\n      <td>KE294HLAA8EBUZANMY</td>\n      <td>DIY Marble Contact Paper PVC Removable Wallpap...</td>\n      <td>Home &amp; Living</td>\n      <td>Home Décor</td>\n      <td>Home &amp; Living Home Décor</td>\n      <td>&lt;div&gt; &lt;ul&gt; &lt;li&gt;size: 5meter x 60cm&lt;/li&gt; &lt;li&gt;wi...</td>\n      <td>75.00</td>\n      <td>local</td>\n      <td>1</td>\n      <td>1</td>\n    </tr>\n    <tr>\n      <th>23</th>\n      <td>my</td>\n      <td>KO422HBAA8WEQ8ANMY</td>\n      <td>5 units of Korea Soothing &amp;amp; Moisture 99% A...</td>\n      <td>Health &amp; Beauty</td>\n      <td>Skin Care</td>\n      <td>Health &amp; Beauty Skin Care</td>\n      <td>&lt;ul&gt; &lt;li&gt;The most popular and best aloe Vera s...</td>\n      <td>59.00</td>\n      <td>local</td>\n      <td>0</td>\n      <td>0</td>\n    </tr>\n    <tr>\n      <th>24</th>\n      <td>my</td>\n      <td>LE106ELAVO5SANMY</td>\n      <td>Lenovo Battery BL203 1500mAH</td>\n      <td>Mobiles &amp; Tablets</td>\n      <td>Accessories</td>\n      <td>Mobiles &amp; Tablets Accessories</td>\n      <td>&lt;ul&gt; &lt;li&gt; &amp;nbsp;Ideal replacement or spare bat...</td>\n      <td>32.80</td>\n      <td>local</td>\n      <td>1</td>\n      <td>1</td>\n    </tr>\n    <tr>\n      <th>25</th>\n      <td>my</td>\n      <td>LU316ELAA8O9BQANMY</td>\n      <td>LUOWAN Galaxy S7 Edge Case - Silicone Soft TPU...</td>\n      <td>Mobiles &amp; Tablets</td>\n      <td>Accessories</td>\n      <td>Mobiles &amp; Tablets Accessories</td>\n      <td>&lt;ul&gt; &lt;li&gt;DESIGN: The Luowan Samsung Galaxy S7 ...</td>\n      <td>18.00</td>\n      <td>international</td>\n      <td>1</td>\n      <td>1</td>\n    </tr>\n    <tr>\n      <th>26</th>\n      <td>my</td>\n      <td>LY834FABEWC9ANMY</td>\n      <td>Prado2u LYY Korean Canvas Crossbody Bag FLISH ...</td>\n      <td>Fashion</td>\n      <td>Men</td>\n      <td>Fashion Men</td>\n      <td>&lt;ul style= \"font-style: normal; font-variant: ...</td>\n      <td>42.00</td>\n      <td>local</td>\n      <td>1</td>\n      <td>1</td>\n    </tr>\n    <tr>\n      <th>27</th>\n      <td>my</td>\n      <td>MO158HAAA30BBCANMY</td>\n      <td>Morgan Garment Steamer MSI-GA220B (1500w)</td>\n      <td>Home Appliances</td>\n      <td>Garment Care</td>\n      <td>Home Appliances Garment Care</td>\n      <td>&lt;ul&gt; &lt;li&gt;Power Rating : 1500 W&lt;/li&gt; &lt;li&gt;See Th...</td>\n      <td>159.00</td>\n      <td>local</td>\n      <td>1</td>\n      <td>1</td>\n    </tr>\n    <tr>\n      <th>28</th>\n      <td>my</td>\n      <td>MO554ELBMC5YANMY</td>\n      <td>Moonmini Case for iPhone 5 5S (Hot Pink + Blue...</td>\n      <td>Mobiles &amp; Tablets</td>\n      <td>Accessories</td>\n      <td>Mobiles &amp; Tablets Accessories</td>\n      <td>Opening to all connections and controls - Anti...</td>\n      <td>19.99</td>\n      <td>international</td>\n      <td>1</td>\n      <td>1</td>\n    </tr>\n    <tr>\n      <th>29</th>\n      <td>my</td>\n      <td>MO554ELCHBVMANMY</td>\n      <td>Moonmini Case for Apple iPhone 6 Plus 5.5 inch...</td>\n      <td>Mobiles &amp; Tablets</td>\n      <td>Accessories</td>\n      <td>Mobiles &amp; Tablets Accessories</td>\n      <td>&lt;ul&gt;&lt;li&gt;Premium look and feel&lt;/li&gt; &lt;li&gt;Perfect...</td>\n      <td>29.99</td>\n      <td>international</td>\n      <td>1</td>\n      <td>1</td>\n    </tr>\n  </tbody>\n</table>\n</div>"
     },
     "metadata": {},
     "execution_count": 36
    }
   ],
   "source": [
    "training_data[4:30]"
   ]
  },
  {
   "cell_type": "code",
   "execution_count": 37,
   "metadata": {},
   "outputs": [
    {
     "output_type": "stream",
     "name": "stdout",
     "text": [
      "country 0\nsku_id 0\ntitle 0\ncategory_lvl_1 0\ncategory_lvl_2 0\ncategory_lvl_3 0\nshort_description 33\nprice 0\nproduct_type 277\nclarity 0\nconciseness 0\n"
     ]
    }
   ],
   "source": [
    "printColumnWithNA(training_data)"
   ]
  },
  {
   "source": [
    "### Column - Short Description"
   ],
   "cell_type": "markdown",
   "metadata": {}
  },
  {
   "cell_type": "code",
   "execution_count": 38,
   "metadata": {},
   "outputs": [
    {
     "output_type": "execute_result",
     "data": {
      "text/plain": [
       "     country              sku_id  \\\n",
       "924       my    BG674ELALY2IANMY   \n",
       "1381      ph  AS595ELAA1FGGPANPH   \n",
       "2797      ph    BE718HLAX94DANPH   \n",
       "4463      ph    OR212HBABMTYANPH   \n",
       "5349      ph  OL364HBAA3LYPLANPH   \n",
       "\n",
       "                                                  title  \\\n",
       "924   EGO-LT-6 Aluminum Alloy Electronic Cigarette w...   \n",
       "1381  $Asus Fonepad 7\" Android 4.1 WiFi/3G ME371MG-7...   \n",
       "2797     Klestar Pinoy Fan 10\" stand fan KSF-10 (blue)#   \n",
       "4463  Ogx Renewing Moroccan Argan Oil 3-piece Starte...   \n",
       "5349  Olay Regenerist Micro-Sculpting Cream Moisturi...   \n",
       "\n",
       "                             category_lvl_1     category_lvl_2  \\\n",
       "924   TV, Audio / Video, Gaming & Wearables            Gadgets   \n",
       "1381                      Mobiles & Tablets            Tablets   \n",
       "2797                        Home Appliances  Cooling & Heating   \n",
       "4463                        Health & Beauty          Hair Care   \n",
       "5349                        Health & Beauty          Skin Care   \n",
       "\n",
       "                                     category_lvl_3 short_description  \\\n",
       "924   TV, Audio / Video, Gaming & Wearables Gadgets               NaN   \n",
       "1381                      Mobiles & Tablets Tablets               NaN   \n",
       "2797              Home Appliances Cooling & Heating               NaN   \n",
       "4463                      Health & Beauty Hair Care               NaN   \n",
       "5349                      Health & Beauty Skin Care               NaN   \n",
       "\n",
       "        price   product_type  clarity  conciseness  \n",
       "924      94.0  international        1            1  \n",
       "1381  25700.0            NaN        1            1  \n",
       "2797   1400.0            NaN        1            1  \n",
       "4463    699.0            NaN        1            1  \n",
       "5349    999.0            NaN        1            1  "
      ],
      "text/html": "<div>\n<style scoped>\n    .dataframe tbody tr th:only-of-type {\n        vertical-align: middle;\n    }\n\n    .dataframe tbody tr th {\n        vertical-align: top;\n    }\n\n    .dataframe thead th {\n        text-align: right;\n    }\n</style>\n<table border=\"1\" class=\"dataframe\">\n  <thead>\n    <tr style=\"text-align: right;\">\n      <th></th>\n      <th>country</th>\n      <th>sku_id</th>\n      <th>title</th>\n      <th>category_lvl_1</th>\n      <th>category_lvl_2</th>\n      <th>category_lvl_3</th>\n      <th>short_description</th>\n      <th>price</th>\n      <th>product_type</th>\n      <th>clarity</th>\n      <th>conciseness</th>\n    </tr>\n  </thead>\n  <tbody>\n    <tr>\n      <th>924</th>\n      <td>my</td>\n      <td>BG674ELALY2IANMY</td>\n      <td>EGO-LT-6 Aluminum Alloy Electronic Cigarette w...</td>\n      <td>TV, Audio / Video, Gaming &amp; Wearables</td>\n      <td>Gadgets</td>\n      <td>TV, Audio / Video, Gaming &amp; Wearables Gadgets</td>\n      <td>NaN</td>\n      <td>94.0</td>\n      <td>international</td>\n      <td>1</td>\n      <td>1</td>\n    </tr>\n    <tr>\n      <th>1381</th>\n      <td>ph</td>\n      <td>AS595ELAA1FGGPANPH</td>\n      <td>$Asus Fonepad 7\" Android 4.1 WiFi/3G ME371MG-7...</td>\n      <td>Mobiles &amp; Tablets</td>\n      <td>Tablets</td>\n      <td>Mobiles &amp; Tablets Tablets</td>\n      <td>NaN</td>\n      <td>25700.0</td>\n      <td>NaN</td>\n      <td>1</td>\n      <td>1</td>\n    </tr>\n    <tr>\n      <th>2797</th>\n      <td>ph</td>\n      <td>BE718HLAX94DANPH</td>\n      <td>Klestar Pinoy Fan 10\" stand fan KSF-10 (blue)#</td>\n      <td>Home Appliances</td>\n      <td>Cooling &amp; Heating</td>\n      <td>Home Appliances Cooling &amp; Heating</td>\n      <td>NaN</td>\n      <td>1400.0</td>\n      <td>NaN</td>\n      <td>1</td>\n      <td>1</td>\n    </tr>\n    <tr>\n      <th>4463</th>\n      <td>ph</td>\n      <td>OR212HBABMTYANPH</td>\n      <td>Ogx Renewing Moroccan Argan Oil 3-piece Starte...</td>\n      <td>Health &amp; Beauty</td>\n      <td>Hair Care</td>\n      <td>Health &amp; Beauty Hair Care</td>\n      <td>NaN</td>\n      <td>699.0</td>\n      <td>NaN</td>\n      <td>1</td>\n      <td>1</td>\n    </tr>\n    <tr>\n      <th>5349</th>\n      <td>ph</td>\n      <td>OL364HBAA3LYPLANPH</td>\n      <td>Olay Regenerist Micro-Sculpting Cream Moisturi...</td>\n      <td>Health &amp; Beauty</td>\n      <td>Skin Care</td>\n      <td>Health &amp; Beauty Skin Care</td>\n      <td>NaN</td>\n      <td>999.0</td>\n      <td>NaN</td>\n      <td>1</td>\n      <td>1</td>\n    </tr>\n  </tbody>\n</table>\n</div>"
     },
     "metadata": {},
     "execution_count": 38
    }
   ],
   "source": [
    "training_data[training_data['short_description'].isna()][:5]"
   ]
  },
  {
   "cell_type": "code",
   "execution_count": 39,
   "metadata": {},
   "outputs": [
    {
     "output_type": "execute_result",
     "data": {
      "text/plain": [
       "True"
      ]
     },
     "metadata": {},
     "execution_count": 39
    }
   ],
   "source": [
    "# How to check for NaN\n",
    "np.isnan(training_data.loc[924, 'short_description'])"
   ]
  },
  {
   "source": [
    "### HTML Preprocessing, for column 'Short Description'"
   ],
   "cell_type": "markdown",
   "metadata": {}
  },
  {
   "cell_type": "code",
   "execution_count": 40,
   "metadata": {
    "tags": []
   },
   "outputs": [],
   "source": [
    "training_data['new_description'] = training_data['short_description']\n",
    "\n",
    "for idx in range(0, len(training_data)):\n",
    "    entry = training_data.loc[idx, 'short_description']\n",
    "\n",
    "    # Avoiding NaN values\n",
    "    if not type(entry) is float:\n",
    "\n",
    "        # If it's a simple string without HTML parsing required \n",
    "        if '<ul' not in entry and '<li' not in entry and '<div' not in entry:\n",
    "\n",
    "            training_data.loc[idx, 'new_description'] = entry\n",
    "        \n",
    "        # Else if the <div> tag exists in the description\n",
    "        elif '<div' in entry:\n",
    "            # Extract from div\n",
    "            soup = BeautifulSoup(entry)\n",
    "\n",
    "            # Find all div\n",
    "            soup_div = soup.find_all('div')\n",
    "\n",
    "            # Extracing the inner most div\n",
    "            children = soup_div[len(soup_div) - 1].findChildren('li')\n",
    "\n",
    "            # Making a new string for the new description\n",
    "            finalNewDescription = ''\n",
    "\n",
    "            # Traversing through each children\n",
    "            for child in children:\n",
    "                \n",
    "                if len(child.contents) > 1 or r'</(.*)' in str(child.contents[0]) or isinstance(child.contents[0], (bs4.element.Tag)):\n",
    "                    continue\n",
    "\n",
    "                # Extracting a stripped version of the contents.\n",
    "                # The [0] exists because contents create a list\n",
    "                # of len 1\n",
    "                __temp_str = child.contents[0].strip()\n",
    "\n",
    "                # This acts as a replacement method for weird strings and other\n",
    "                # oddities for cleaning them up, and replacing with what seems more\n",
    "                # appropriate\n",
    "                for (substr, replacement) in zip(['< li>', '< ul>', '< div>', '( ', ' -', '  ', ' li>', '- '], ['', '', '', '(', '-', ' ', '', '-']):\n",
    "\n",
    "                    # Keep replacing as a loop\n",
    "                    __temp_str = __temp_str.replace(substr, replacement)\n",
    "                \n",
    "                # Concatenate the new resultant clean string\n",
    "                finalNewDescription += f'{__temp_str} '\n",
    "\n",
    "            # Set the new row of 'new_description' to this finalNewDescription string\n",
    "            training_data.loc[idx, 'new_description'] = finalNewDescription\n",
    "\n",
    "        # Else if either the <ul> or the <li> tag exists in the code\n",
    "        elif '<ul' in entry or '<li' in entry:\n",
    "\n",
    "            # Get an object for the BeautifulSoup parsing tree\n",
    "            soup = BeautifulSoup(entry)\n",
    "            \n",
    "            # Find all existences of <li> tags\n",
    "            soup_li = soup.find_all('li')\n",
    "\n",
    "            # Let the new string for the new description be\n",
    "            # called 'finalNewDescription'\n",
    "            finalNewDescription = ''\n",
    "\n",
    "            # Going through all the <li> tags\n",
    "            for soup_len in range(0, len(soup_li)):\n",
    "                \n",
    "                # Appending to the finalNewDescription\n",
    "                finalNewDescription += \"\\n\" + soup_li[soup_len].get_text()\n",
    "\n",
    "            # Setting to our dataframe\n",
    "            training_data.loc[idx, 'new_description'] = finalNewDescription\n",
    "        \n",
    "        elif '<p' in entry:\n",
    "\n",
    "            # Get an object for the BeautifulSoup parsing tree\n",
    "            soup = BeautifulSoup(entry)\n",
    "\n",
    "            # Find all existences of <li> tags\n",
    "            soup_p = soup.find_all('p')\n",
    "\n",
    "            # Let the new string for the new description be\n",
    "            # called 'finalNewDescription'\n",
    "            finalNewDescription = ''\n",
    "\n",
    "            # Going through all the <li> tags\n",
    "            for soup_len in range(0, len(soup_u)):\n",
    "\n",
    "                # Appending to the finalNewDescription\n",
    "                finalNewDescription += '\\n' + soup_p[soup_len].contents[0]\n",
    "\n",
    "            # Setting to our dataframe\n",
    "            training_data.loc[idx, 'new_description'] = finalNewDescription            \n",
    "\n",
    "        # Creating a temporary string\n",
    "        __temp_str = training_data.loc[idx, 'new_description']\n",
    "\n",
    "        # Replacing strings with more than \n",
    "        for (substr, replacement) in zip([', ', 'x ' '\\n', '：', ':', '\\xa0', '/ ', '.', ',', ';', ' ', '  ', '   ', ' -', '\\n', ' x ', '  '], [' ', 'x', ' ', '', '', ' ', '/', ' ', '', ' ', ' ', ' ', '-', ' ', 'x', ' ']):\n",
    "            # Keep replacing as a loop\n",
    "            __temp_str = __temp_str.replace(substr, replacement)\n",
    "\n",
    "        # TODO: Go through texts that require replacements with regex\n",
    "        # __temp_str = re.sub(r'[0-9]+ 0+', r'[0-9]+.0+', __temp_str)\n",
    "\n",
    "        training_data.loc[idx, 'new_description'] = __temp_str.strip().lower()"
   ]
  },
  {
   "cell_type": "code",
   "execution_count": 41,
   "metadata": {},
   "outputs": [
    {
     "output_type": "stream",
     "name": "stdout",
     "text": [
      "'compatible with apple iphone 7 plus 5/5 inch/ not for iphone 7 4/7 inch flexible rugged tpu case with lattice treatment for tight grid prevent phone from drops hybrid case-[impact resistant/scratch-proof] rubber case + shockproof hard pc cover precise cutouts complete access to all ports buttons and features easy to press for a seamless experience with the responsive button premium protection dual layer protection/made of soft tpu and hard pc back can protect your iphone from dropping shocking and scratching etc/'\n<ul class=\"a-vertical a-spacing-none\" style= \"box-sizing:border-box;margin-top:0px;margin-right:0px;margin-left:18px;color:#949494;padding:0px;font-family:Arial, sans-serif;font-size:13px;line-height:19px;white-space:normal;margin-bottom:0px !important;background-color:#FFFFFF;\"> <li style= \"box-sizing:border-box;list-style:disc;word-wrap:break-word;margin:0px;\"> Compatible with : Apple iPhone 7 Plus 5.5 inch. NOT for iPhone 7 4.7 inch</li> <li style= \"box-sizing:border-box;list-style:disc;word-wrap:break-word;margin:0px;\"> Flexible rugged TPU case with lattice treatment for tight grid, prevent phone from drops</li> <li style= \"box-sizing:border-box;list-style:disc;word-wrap:break-word;margin:0px;\"> Hybrid Case-[impact resistant/scratch-proof] rubber case + shockproof hard PC cover</li> <li style= \"box-sizing:border-box;list-style:disc;word-wrap:break-word;margin:0px;\"> Precise Cutouts: Complete access to all ports, buttons and features, easy to press for a seamless experience with the responsive button</li> <li style= \"box-sizing:border-box;list-style:disc;word-wrap:break-word;margin:0px;\"> Premium Protection: Dual layer protection.Made of soft TPU and hard PC back can protect your iPhone from dropping, shocking and scratching etc.</li> </ul> \n"
     ]
    }
   ],
   "source": [
    "# 115, 128,\n",
    "print(f'\\'{training_data.iloc[180][\"new_description\"]}\\'')\n",
    "print(training_data.iloc[180]['short_description'])"
   ]
  },
  {
   "cell_type": "code",
   "execution_count": 42,
   "metadata": {},
   "outputs": [
    {
     "output_type": "stream",
     "name": "stdout",
     "text": [
      "country 0\nsku_id 0\ntitle 0\ncategory_lvl_1 0\ncategory_lvl_2 0\ncategory_lvl_3 0\nshort_description 33\nprice 0\nproduct_type 277\nclarity 0\nconciseness 0\nnew_description 33\n"
     ]
    }
   ],
   "source": [
    "printColumnWithNA(training_data)"
   ]
  },
  {
   "cell_type": "code",
   "execution_count": 43,
   "metadata": {},
   "outputs": [],
   "source": [
    "for idx in range(0, len(training_data)):\n",
    "\n",
    "    entry = training_data.loc[idx, 'short_description']\n",
    "\n",
    "    if type(entry) is float:\n",
    "        training_data.loc[idx, 'new_description'] = training_data.loc[idx, 'category_lvl_3']"
   ]
  },
  {
   "cell_type": "code",
   "execution_count": 44,
   "metadata": {},
   "outputs": [
    {
     "output_type": "stream",
     "name": "stdout",
     "text": [
      "country 0\nsku_id 0\ntitle 0\ncategory_lvl_1 0\ncategory_lvl_2 0\ncategory_lvl_3 0\nshort_description 33\nprice 0\nproduct_type 277\nclarity 0\nconciseness 0\nnew_description 0\n"
     ]
    }
   ],
   "source": [
    "printColumnWithNA(training_data)"
   ]
  },
  {
   "cell_type": "code",
   "execution_count": 45,
   "metadata": {},
   "outputs": [],
   "source": [
    "del training_data['short_description']"
   ]
  },
  {
   "source": [
    "### Column - Product Type"
   ],
   "cell_type": "markdown",
   "metadata": {}
  },
  {
   "cell_type": "code",
   "execution_count": 46,
   "metadata": {},
   "outputs": [],
   "source": [
    "international_perc = list(training_data['product_type'].value_counts())[0] / len(training_data)\n",
    "local_perc = list(training_data['product_type'].value_counts())[1] / len(training_data)\n",
    "\n",
    "international_count = 0\n",
    "local_count = 0\n",
    "\n",
    "international_floor_count = math.floor(international_perc * 277)\n",
    "local_floor_count = math.floor(local_perc * 277)\n",
    "\n",
    "for idx in range(0, len(training_data)):\n",
    "\n",
    "    entry = training_data.loc[idx, 'product_type']\n",
    "\n",
    "    if type(entry) is float:\n",
    "\n",
    "        if international_count < international_floor_count:\n",
    "\n",
    "            training_data.loc[idx, 'product_type'] = 'international'\n",
    "            international_count += 1\n",
    "\n",
    "        elif local_count < local_floor_count:\n",
    "\n",
    "            training_data.loc[idx, 'product_type'] = 'local'\n",
    "            local_count +=1"
   ]
  },
  {
   "cell_type": "code",
   "execution_count": 47,
   "metadata": {},
   "outputs": [
    {
     "output_type": "stream",
     "name": "stdout",
     "text": [
      "country 0\nsku_id 0\ntitle 0\ncategory_lvl_1 0\ncategory_lvl_2 0\ncategory_lvl_3 0\nprice 0\nproduct_type 3\nclarity 0\nconciseness 0\nnew_description 0\n"
     ]
    }
   ],
   "source": [
    "printColumnWithNA(training_data)"
   ]
  },
  {
   "source": [
    "### Final Preprocessing Results"
   ],
   "cell_type": "markdown",
   "metadata": {}
  },
  {
   "cell_type": "code",
   "execution_count": 48,
   "metadata": {},
   "outputs": [
    {
     "output_type": "execute_result",
     "data": {
      "text/plain": [
       "Index(['country', 'sku_id', 'title', 'category_lvl_1', 'category_lvl_2',\n",
       "       'category_lvl_3', 'price', 'product_type', 'clarity', 'conciseness',\n",
       "       'new_description'],\n",
       "      dtype='object')"
      ]
     },
     "metadata": {},
     "execution_count": 48
    }
   ],
   "source": [
    "training_data.columns"
   ]
  },
  {
   "cell_type": "code",
   "execution_count": 49,
   "metadata": {},
   "outputs": [],
   "source": [
    "column_names = ['sku_id', 'country', 'title', 'new_description', 'price', 'product_type', 'category_lvl_1', 'category_lvl_2', 'category_lvl_3', 'clarity', 'conciseness']\n",
    "\n",
    "training_data = training_data.reindex(columns=column_names)"
   ]
  },
  {
   "cell_type": "code",
   "execution_count": 50,
   "metadata": {},
   "outputs": [
    {
     "output_type": "execute_result",
     "data": {
      "text/plain": [
       "               sku_id country  \\\n",
       "0    AD674FAASTLXANMY      my   \n",
       "1  AE068HBAA3RPRDANMY      my   \n",
       "2  AN680ELAA9VN57ANMY      my   \n",
       "3  AN957HBAAAHDF4ANMY      my   \n",
       "4    AR511HBAXNWAANMY      my   \n",
       "\n",
       "                                               title  \\\n",
       "0       Adana Gallery Suri Square Hijab – Light Pink   \n",
       "1  Cuba Heartbreaker Eau De Parfum Spray 100ml/3.3oz   \n",
       "2  Andoer 150cm Cellphone Smartphone Mini Dual-He...   \n",
       "3  ANMYNA Complaint Silky Set 柔顺洗发配套 (Shampoo 520...   \n",
       "4  Argital Argiltubo Green Clay For Face and Body...   \n",
       "\n",
       "                                     new_description   price   product_type  \\\n",
       "0  material non sheer shimmer chiffon sizes 52x52...   49.00          local   \n",
       "1  formulated with oil-free hydrating botanicals ...  128.00  international   \n",
       "2  150cm mini microphone compatible for iphone va...   25.07  international   \n",
       "3  anmyna complaint silky set (shampoo 520ml + co...  118.00          local   \n",
       "4  100% authentic rrefresh and brighten skin anti...  114.80  international   \n",
       "\n",
       "                          category_lvl_1 category_lvl_2  \\\n",
       "0                                Fashion          Women   \n",
       "1                        Health & Beauty    Bath & Body   \n",
       "2  TV, Audio / Video, Gaming & Wearables          Audio   \n",
       "3                        Health & Beauty      Hair Care   \n",
       "4                        Health & Beauty     Men's Care   \n",
       "\n",
       "                                category_lvl_3  clarity  conciseness  \n",
       "0                                Fashion Women        1            1  \n",
       "1                  Health & Beauty Bath & Body        1            1  \n",
       "2  TV, Audio / Video, Gaming & Wearables Audio        1            0  \n",
       "3                    Health & Beauty Hair Care        1            1  \n",
       "4                   Health & Beauty Men's Care        1            1  "
      ],
      "text/html": "<div>\n<style scoped>\n    .dataframe tbody tr th:only-of-type {\n        vertical-align: middle;\n    }\n\n    .dataframe tbody tr th {\n        vertical-align: top;\n    }\n\n    .dataframe thead th {\n        text-align: right;\n    }\n</style>\n<table border=\"1\" class=\"dataframe\">\n  <thead>\n    <tr style=\"text-align: right;\">\n      <th></th>\n      <th>sku_id</th>\n      <th>country</th>\n      <th>title</th>\n      <th>new_description</th>\n      <th>price</th>\n      <th>product_type</th>\n      <th>category_lvl_1</th>\n      <th>category_lvl_2</th>\n      <th>category_lvl_3</th>\n      <th>clarity</th>\n      <th>conciseness</th>\n    </tr>\n  </thead>\n  <tbody>\n    <tr>\n      <th>0</th>\n      <td>AD674FAASTLXANMY</td>\n      <td>my</td>\n      <td>Adana Gallery Suri Square Hijab – Light Pink</td>\n      <td>material non sheer shimmer chiffon sizes 52x52...</td>\n      <td>49.00</td>\n      <td>local</td>\n      <td>Fashion</td>\n      <td>Women</td>\n      <td>Fashion Women</td>\n      <td>1</td>\n      <td>1</td>\n    </tr>\n    <tr>\n      <th>1</th>\n      <td>AE068HBAA3RPRDANMY</td>\n      <td>my</td>\n      <td>Cuba Heartbreaker Eau De Parfum Spray 100ml/3.3oz</td>\n      <td>formulated with oil-free hydrating botanicals ...</td>\n      <td>128.00</td>\n      <td>international</td>\n      <td>Health &amp; Beauty</td>\n      <td>Bath &amp; Body</td>\n      <td>Health &amp; Beauty Bath &amp; Body</td>\n      <td>1</td>\n      <td>1</td>\n    </tr>\n    <tr>\n      <th>2</th>\n      <td>AN680ELAA9VN57ANMY</td>\n      <td>my</td>\n      <td>Andoer 150cm Cellphone Smartphone Mini Dual-He...</td>\n      <td>150cm mini microphone compatible for iphone va...</td>\n      <td>25.07</td>\n      <td>international</td>\n      <td>TV, Audio / Video, Gaming &amp; Wearables</td>\n      <td>Audio</td>\n      <td>TV, Audio / Video, Gaming &amp; Wearables Audio</td>\n      <td>1</td>\n      <td>0</td>\n    </tr>\n    <tr>\n      <th>3</th>\n      <td>AN957HBAAAHDF4ANMY</td>\n      <td>my</td>\n      <td>ANMYNA Complaint Silky Set 柔顺洗发配套 (Shampoo 520...</td>\n      <td>anmyna complaint silky set (shampoo 520ml + co...</td>\n      <td>118.00</td>\n      <td>local</td>\n      <td>Health &amp; Beauty</td>\n      <td>Hair Care</td>\n      <td>Health &amp; Beauty Hair Care</td>\n      <td>1</td>\n      <td>1</td>\n    </tr>\n    <tr>\n      <th>4</th>\n      <td>AR511HBAXNWAANMY</td>\n      <td>my</td>\n      <td>Argital Argiltubo Green Clay For Face and Body...</td>\n      <td>100% authentic rrefresh and brighten skin anti...</td>\n      <td>114.80</td>\n      <td>international</td>\n      <td>Health &amp; Beauty</td>\n      <td>Men's Care</td>\n      <td>Health &amp; Beauty Men's Care</td>\n      <td>1</td>\n      <td>1</td>\n    </tr>\n  </tbody>\n</table>\n</div>"
     },
     "metadata": {},
     "execution_count": 50
    }
   ],
   "source": [
    "training_data.head()"
   ]
  },
  {
   "cell_type": "code",
   "execution_count": 51,
   "metadata": {},
   "outputs": [
    {
     "output_type": "stream",
     "name": "stdout",
     "text": [
      "sku_id 0\ncountry 0\ntitle 0\nnew_description 0\nprice 0\nproduct_type 3\ncategory_lvl_1 0\ncategory_lvl_2 0\ncategory_lvl_3 0\nclarity 0\nconciseness 0\n"
     ]
    }
   ],
   "source": [
    "printColumnWithNA(training_data)"
   ]
  },
  {
   "source": [
    "## Stemming"
   ],
   "cell_type": "markdown",
   "metadata": {}
  },
  {
   "source": [
    "### For column 'title'"
   ],
   "cell_type": "markdown",
   "metadata": {}
  },
  {
   "cell_type": "code",
   "execution_count": 52,
   "metadata": {
    "tags": []
   },
   "outputs": [],
   "source": [
    "test_training_data = training_data.copy()\n",
    "\n",
    "\n",
    "for idx in range(0, len(training_data)):\n",
    "\n",
    "    entry = test_training_data.loc[idx, 'title']\n",
    "    newEntry = ''\n",
    "\n",
    "    for token in tokenizer(entry):\n",
    "        if not token.is_digit:\n",
    "            newEntry += porter.stem(str(token)) + ' '\n",
    "        else:\n",
    "            newEntry += str(token) + ' '\n",
    "\n",
    "    test_training_data.loc[idx, 'title'] = newEntry.lower()"
   ]
  },
  {
   "cell_type": "code",
   "execution_count": 53,
   "metadata": {},
   "outputs": [
    {
     "output_type": "execute_result",
     "data": {
      "text/plain": [
       "                    sku_id country  \\\n",
       "0         AD674FAASTLXANMY      my   \n",
       "1       AE068HBAA3RPRDANMY      my   \n",
       "2       AN680ELAA9VN57ANMY      my   \n",
       "3       AN957HBAAAHDF4ANMY      my   \n",
       "4         AR511HBAXNWAANMY      my   \n",
       "...                    ...     ...   \n",
       "36278  SA584ELAA4G4W0SGAMZ      sg   \n",
       "36279  SO499HAAA4CCLASGAMZ      sg   \n",
       "36280  TI990ELAA5ZV1JSGAMZ      sg   \n",
       "36281  WO203HLAA3KFPCSGAMZ      sg   \n",
       "36282  ZO445ELAA848V9SGAMZ      sg   \n",
       "\n",
       "                                                   title  \\\n",
       "0           adana galleri suri squar hijab – light pink    \n",
       "1       cuba heartbreak eau de parfum spray 100ml/3.3oz    \n",
       "2      andoer 150cm cellphon smartphon mini dual-head...   \n",
       "3      anmyna complaint silki set 柔顺洗发配套 (shampoo 520...   \n",
       "4      argit argiltubo green clay for face and bodi 2...   \n",
       "...                                                  ...   \n",
       "36278  sade k10 led backlit wire usb mechan game keyb...   \n",
       "36279                     sona 20l electr oven seo 2220    \n",
       "36280  op1001 portabl wireless bluetooth 2.1 speaker ...   \n",
       "36281            woot-woot tictacto pillow case (white)    \n",
       "36282  new smart wristband d21 smart bracelet heart r...   \n",
       "\n",
       "                                         new_description   price  \\\n",
       "0      material non sheer shimmer chiffon sizes 52x52...   49.00   \n",
       "1      formulated with oil-free hydrating botanicals ...  128.00   \n",
       "2      150cm mini microphone compatible for iphone va...   25.07   \n",
       "3      anmyna complaint silky set (shampoo 520ml + co...  118.00   \n",
       "4      100% authentic rrefresh and brighten skin anti...  114.80   \n",
       "...                                                  ...     ...   \n",
       "36278  no driver needed/blue switches is the core of ...   67.09   \n",
       "36279  2 years warranty thermal fuse safety protectio...   69.00   \n",
       "36280  with colorful lights on the button light up yo...   35.00   \n",
       "36281  100% cotton safe for sensitive skin cool and c...   23.00   \n",
       "36282  compatibility requires android 4/3 or above io...   31.00   \n",
       "\n",
       "        product_type                         category_lvl_1  \\\n",
       "0              local                                Fashion   \n",
       "1      international                        Health & Beauty   \n",
       "2      international  TV, Audio / Video, Gaming & Wearables   \n",
       "3              local                        Health & Beauty   \n",
       "4      international                        Health & Beauty   \n",
       "...              ...                                    ...   \n",
       "36278  international                    Computers & Laptops   \n",
       "36279          local                        Home Appliances   \n",
       "36280  international                    Computers & Laptops   \n",
       "36281          local                          Home & Living   \n",
       "36282  international  TV, Audio / Video, Gaming & Wearables   \n",
       "\n",
       "             category_lvl_2  \\\n",
       "0                     Women   \n",
       "1               Bath & Body   \n",
       "2                     Audio   \n",
       "3                 Hair Care   \n",
       "4                Men's Care   \n",
       "...                     ...   \n",
       "36278  Computer Accessories   \n",
       "36279      Large Appliances   \n",
       "36280  Computer Accessories   \n",
       "36281               Bedding   \n",
       "36282   Wearable Technology   \n",
       "\n",
       "                                          category_lvl_3  clarity  conciseness  \n",
       "0                                          Fashion Women        1            1  \n",
       "1                            Health & Beauty Bath & Body        1            1  \n",
       "2            TV, Audio / Video, Gaming & Wearables Audio        1            0  \n",
       "3                              Health & Beauty Hair Care        1            1  \n",
       "4                             Health & Beauty Men's Care        1            1  \n",
       "...                                                  ...      ...          ...  \n",
       "36278           Computers & Laptops Computer Accessories        1            1  \n",
       "36279                   Home Appliances Large Appliances        1            1  \n",
       "36280           Computers & Laptops Computer Accessories        1            0  \n",
       "36281                              Home & Living Bedding        1            1  \n",
       "36282  TV, Audio / Video, Gaming & Wearables Wearable...        1            0  \n",
       "\n",
       "[36283 rows x 11 columns]"
      ],
      "text/html": "<div>\n<style scoped>\n    .dataframe tbody tr th:only-of-type {\n        vertical-align: middle;\n    }\n\n    .dataframe tbody tr th {\n        vertical-align: top;\n    }\n\n    .dataframe thead th {\n        text-align: right;\n    }\n</style>\n<table border=\"1\" class=\"dataframe\">\n  <thead>\n    <tr style=\"text-align: right;\">\n      <th></th>\n      <th>sku_id</th>\n      <th>country</th>\n      <th>title</th>\n      <th>new_description</th>\n      <th>price</th>\n      <th>product_type</th>\n      <th>category_lvl_1</th>\n      <th>category_lvl_2</th>\n      <th>category_lvl_3</th>\n      <th>clarity</th>\n      <th>conciseness</th>\n    </tr>\n  </thead>\n  <tbody>\n    <tr>\n      <th>0</th>\n      <td>AD674FAASTLXANMY</td>\n      <td>my</td>\n      <td>adana galleri suri squar hijab – light pink</td>\n      <td>material non sheer shimmer chiffon sizes 52x52...</td>\n      <td>49.00</td>\n      <td>local</td>\n      <td>Fashion</td>\n      <td>Women</td>\n      <td>Fashion Women</td>\n      <td>1</td>\n      <td>1</td>\n    </tr>\n    <tr>\n      <th>1</th>\n      <td>AE068HBAA3RPRDANMY</td>\n      <td>my</td>\n      <td>cuba heartbreak eau de parfum spray 100ml/3.3oz</td>\n      <td>formulated with oil-free hydrating botanicals ...</td>\n      <td>128.00</td>\n      <td>international</td>\n      <td>Health &amp; Beauty</td>\n      <td>Bath &amp; Body</td>\n      <td>Health &amp; Beauty Bath &amp; Body</td>\n      <td>1</td>\n      <td>1</td>\n    </tr>\n    <tr>\n      <th>2</th>\n      <td>AN680ELAA9VN57ANMY</td>\n      <td>my</td>\n      <td>andoer 150cm cellphon smartphon mini dual-head...</td>\n      <td>150cm mini microphone compatible for iphone va...</td>\n      <td>25.07</td>\n      <td>international</td>\n      <td>TV, Audio / Video, Gaming &amp; Wearables</td>\n      <td>Audio</td>\n      <td>TV, Audio / Video, Gaming &amp; Wearables Audio</td>\n      <td>1</td>\n      <td>0</td>\n    </tr>\n    <tr>\n      <th>3</th>\n      <td>AN957HBAAAHDF4ANMY</td>\n      <td>my</td>\n      <td>anmyna complaint silki set 柔顺洗发配套 (shampoo 520...</td>\n      <td>anmyna complaint silky set (shampoo 520ml + co...</td>\n      <td>118.00</td>\n      <td>local</td>\n      <td>Health &amp; Beauty</td>\n      <td>Hair Care</td>\n      <td>Health &amp; Beauty Hair Care</td>\n      <td>1</td>\n      <td>1</td>\n    </tr>\n    <tr>\n      <th>4</th>\n      <td>AR511HBAXNWAANMY</td>\n      <td>my</td>\n      <td>argit argiltubo green clay for face and bodi 2...</td>\n      <td>100% authentic rrefresh and brighten skin anti...</td>\n      <td>114.80</td>\n      <td>international</td>\n      <td>Health &amp; Beauty</td>\n      <td>Men's Care</td>\n      <td>Health &amp; Beauty Men's Care</td>\n      <td>1</td>\n      <td>1</td>\n    </tr>\n    <tr>\n      <th>...</th>\n      <td>...</td>\n      <td>...</td>\n      <td>...</td>\n      <td>...</td>\n      <td>...</td>\n      <td>...</td>\n      <td>...</td>\n      <td>...</td>\n      <td>...</td>\n      <td>...</td>\n      <td>...</td>\n    </tr>\n    <tr>\n      <th>36278</th>\n      <td>SA584ELAA4G4W0SGAMZ</td>\n      <td>sg</td>\n      <td>sade k10 led backlit wire usb mechan game keyb...</td>\n      <td>no driver needed/blue switches is the core of ...</td>\n      <td>67.09</td>\n      <td>international</td>\n      <td>Computers &amp; Laptops</td>\n      <td>Computer Accessories</td>\n      <td>Computers &amp; Laptops Computer Accessories</td>\n      <td>1</td>\n      <td>1</td>\n    </tr>\n    <tr>\n      <th>36279</th>\n      <td>SO499HAAA4CCLASGAMZ</td>\n      <td>sg</td>\n      <td>sona 20l electr oven seo 2220</td>\n      <td>2 years warranty thermal fuse safety protectio...</td>\n      <td>69.00</td>\n      <td>local</td>\n      <td>Home Appliances</td>\n      <td>Large Appliances</td>\n      <td>Home Appliances Large Appliances</td>\n      <td>1</td>\n      <td>1</td>\n    </tr>\n    <tr>\n      <th>36280</th>\n      <td>TI990ELAA5ZV1JSGAMZ</td>\n      <td>sg</td>\n      <td>op1001 portabl wireless bluetooth 2.1 speaker ...</td>\n      <td>with colorful lights on the button light up yo...</td>\n      <td>35.00</td>\n      <td>international</td>\n      <td>Computers &amp; Laptops</td>\n      <td>Computer Accessories</td>\n      <td>Computers &amp; Laptops Computer Accessories</td>\n      <td>1</td>\n      <td>0</td>\n    </tr>\n    <tr>\n      <th>36281</th>\n      <td>WO203HLAA3KFPCSGAMZ</td>\n      <td>sg</td>\n      <td>woot-woot tictacto pillow case (white)</td>\n      <td>100% cotton safe for sensitive skin cool and c...</td>\n      <td>23.00</td>\n      <td>local</td>\n      <td>Home &amp; Living</td>\n      <td>Bedding</td>\n      <td>Home &amp; Living Bedding</td>\n      <td>1</td>\n      <td>1</td>\n    </tr>\n    <tr>\n      <th>36282</th>\n      <td>ZO445ELAA848V9SGAMZ</td>\n      <td>sg</td>\n      <td>new smart wristband d21 smart bracelet heart r...</td>\n      <td>compatibility requires android 4/3 or above io...</td>\n      <td>31.00</td>\n      <td>international</td>\n      <td>TV, Audio / Video, Gaming &amp; Wearables</td>\n      <td>Wearable Technology</td>\n      <td>TV, Audio / Video, Gaming &amp; Wearables Wearable...</td>\n      <td>1</td>\n      <td>0</td>\n    </tr>\n  </tbody>\n</table>\n<p>36283 rows × 11 columns</p>\n</div>"
     },
     "metadata": {},
     "execution_count": 53
    }
   ],
   "source": [
    "test_training_data"
   ]
  },
  {
   "cell_type": "code",
   "execution_count": 54,
   "metadata": {},
   "outputs": [],
   "source": [
    "training_data = test_training_data.copy()"
   ]
  },
  {
   "source": [
    "### For column 'new_description'"
   ],
   "cell_type": "markdown",
   "metadata": {}
  },
  {
   "cell_type": "code",
   "execution_count": 55,
   "metadata": {},
   "outputs": [],
   "source": [
    "test_training_data = training_data.copy()\n",
    "\n",
    "\n",
    "for idx in range(0, len(training_data)):\n",
    "\n",
    "    entry = test_training_data.loc[idx, 'new_description']\n",
    "    newEntry = ''\n",
    "\n",
    "    for token in tokenizer(entry):\n",
    "        if not token.is_digit:\n",
    "            newEntry += porter.stem(str(token)) + ' '\n",
    "        else:\n",
    "            newEntry += str(token) + ' '\n",
    "\n",
    "    test_training_data.loc[idx, 'new_description'] = newEntry.lower()"
   ]
  },
  {
   "cell_type": "code",
   "execution_count": 56,
   "metadata": {},
   "outputs": [
    {
     "output_type": "execute_result",
     "data": {
      "text/plain": [
       "                    sku_id country  \\\n",
       "0         AD674FAASTLXANMY      my   \n",
       "1       AE068HBAA3RPRDANMY      my   \n",
       "2       AN680ELAA9VN57ANMY      my   \n",
       "3       AN957HBAAAHDF4ANMY      my   \n",
       "4         AR511HBAXNWAANMY      my   \n",
       "...                    ...     ...   \n",
       "36278  SA584ELAA4G4W0SGAMZ      sg   \n",
       "36279  SO499HAAA4CCLASGAMZ      sg   \n",
       "36280  TI990ELAA5ZV1JSGAMZ      sg   \n",
       "36281  WO203HLAA3KFPCSGAMZ      sg   \n",
       "36282  ZO445ELAA848V9SGAMZ      sg   \n",
       "\n",
       "                                                   title  \\\n",
       "0           adana galleri suri squar hijab – light pink    \n",
       "1       cuba heartbreak eau de parfum spray 100ml/3.3oz    \n",
       "2      andoer 150cm cellphon smartphon mini dual-head...   \n",
       "3      anmyna complaint silki set 柔顺洗发配套 (shampoo 520...   \n",
       "4      argit argiltubo green clay for face and bodi 2...   \n",
       "...                                                  ...   \n",
       "36278  sade k10 led backlit wire usb mechan game keyb...   \n",
       "36279                     sona 20l electr oven seo 2220    \n",
       "36280  op1001 portabl wireless bluetooth 2.1 speaker ...   \n",
       "36281            woot-woot tictacto pillow case (white)    \n",
       "36282  new smart wristband d21 smart bracelet heart r...   \n",
       "\n",
       "                                         new_description   price  \\\n",
       "0      materi non sheer shimmer chiffon size 52x52 in...   49.00   \n",
       "1      formul with oil-fre hydrat botan remark improv...  128.00   \n",
       "2      150cm mini microphon compat for iphon variou s...   25.07   \n",
       "3      anmyna complaint silki set (shampoo 520ml + co...  118.00   \n",
       "4      100% authent rrefresh and brighten skin anti-w...  114.80   \n",
       "...                                                  ...     ...   \n",
       "36278  no driver needed/blu switch is the core of the...   67.09   \n",
       "36279  2 year warranti thermal fuse safeti protect 6 ...   69.00   \n",
       "36280  with color light on the button light up your m...   35.00   \n",
       "36281  100% cotton safe for sensit skin cool and comf...   23.00   \n",
       "36282  compat requir android 4/3 or abov io 7/0 or ab...   31.00   \n",
       "\n",
       "        product_type                         category_lvl_1  \\\n",
       "0              local                                Fashion   \n",
       "1      international                        Health & Beauty   \n",
       "2      international  TV, Audio / Video, Gaming & Wearables   \n",
       "3              local                        Health & Beauty   \n",
       "4      international                        Health & Beauty   \n",
       "...              ...                                    ...   \n",
       "36278  international                    Computers & Laptops   \n",
       "36279          local                        Home Appliances   \n",
       "36280  international                    Computers & Laptops   \n",
       "36281          local                          Home & Living   \n",
       "36282  international  TV, Audio / Video, Gaming & Wearables   \n",
       "\n",
       "             category_lvl_2  \\\n",
       "0                     Women   \n",
       "1               Bath & Body   \n",
       "2                     Audio   \n",
       "3                 Hair Care   \n",
       "4                Men's Care   \n",
       "...                     ...   \n",
       "36278  Computer Accessories   \n",
       "36279      Large Appliances   \n",
       "36280  Computer Accessories   \n",
       "36281               Bedding   \n",
       "36282   Wearable Technology   \n",
       "\n",
       "                                          category_lvl_3  clarity  conciseness  \n",
       "0                                          Fashion Women        1            1  \n",
       "1                            Health & Beauty Bath & Body        1            1  \n",
       "2            TV, Audio / Video, Gaming & Wearables Audio        1            0  \n",
       "3                              Health & Beauty Hair Care        1            1  \n",
       "4                             Health & Beauty Men's Care        1            1  \n",
       "...                                                  ...      ...          ...  \n",
       "36278           Computers & Laptops Computer Accessories        1            1  \n",
       "36279                   Home Appliances Large Appliances        1            1  \n",
       "36280           Computers & Laptops Computer Accessories        1            0  \n",
       "36281                              Home & Living Bedding        1            1  \n",
       "36282  TV, Audio / Video, Gaming & Wearables Wearable...        1            0  \n",
       "\n",
       "[36283 rows x 11 columns]"
      ],
      "text/html": "<div>\n<style scoped>\n    .dataframe tbody tr th:only-of-type {\n        vertical-align: middle;\n    }\n\n    .dataframe tbody tr th {\n        vertical-align: top;\n    }\n\n    .dataframe thead th {\n        text-align: right;\n    }\n</style>\n<table border=\"1\" class=\"dataframe\">\n  <thead>\n    <tr style=\"text-align: right;\">\n      <th></th>\n      <th>sku_id</th>\n      <th>country</th>\n      <th>title</th>\n      <th>new_description</th>\n      <th>price</th>\n      <th>product_type</th>\n      <th>category_lvl_1</th>\n      <th>category_lvl_2</th>\n      <th>category_lvl_3</th>\n      <th>clarity</th>\n      <th>conciseness</th>\n    </tr>\n  </thead>\n  <tbody>\n    <tr>\n      <th>0</th>\n      <td>AD674FAASTLXANMY</td>\n      <td>my</td>\n      <td>adana galleri suri squar hijab – light pink</td>\n      <td>materi non sheer shimmer chiffon size 52x52 in...</td>\n      <td>49.00</td>\n      <td>local</td>\n      <td>Fashion</td>\n      <td>Women</td>\n      <td>Fashion Women</td>\n      <td>1</td>\n      <td>1</td>\n    </tr>\n    <tr>\n      <th>1</th>\n      <td>AE068HBAA3RPRDANMY</td>\n      <td>my</td>\n      <td>cuba heartbreak eau de parfum spray 100ml/3.3oz</td>\n      <td>formul with oil-fre hydrat botan remark improv...</td>\n      <td>128.00</td>\n      <td>international</td>\n      <td>Health &amp; Beauty</td>\n      <td>Bath &amp; Body</td>\n      <td>Health &amp; Beauty Bath &amp; Body</td>\n      <td>1</td>\n      <td>1</td>\n    </tr>\n    <tr>\n      <th>2</th>\n      <td>AN680ELAA9VN57ANMY</td>\n      <td>my</td>\n      <td>andoer 150cm cellphon smartphon mini dual-head...</td>\n      <td>150cm mini microphon compat for iphon variou s...</td>\n      <td>25.07</td>\n      <td>international</td>\n      <td>TV, Audio / Video, Gaming &amp; Wearables</td>\n      <td>Audio</td>\n      <td>TV, Audio / Video, Gaming &amp; Wearables Audio</td>\n      <td>1</td>\n      <td>0</td>\n    </tr>\n    <tr>\n      <th>3</th>\n      <td>AN957HBAAAHDF4ANMY</td>\n      <td>my</td>\n      <td>anmyna complaint silki set 柔顺洗发配套 (shampoo 520...</td>\n      <td>anmyna complaint silki set (shampoo 520ml + co...</td>\n      <td>118.00</td>\n      <td>local</td>\n      <td>Health &amp; Beauty</td>\n      <td>Hair Care</td>\n      <td>Health &amp; Beauty Hair Care</td>\n      <td>1</td>\n      <td>1</td>\n    </tr>\n    <tr>\n      <th>4</th>\n      <td>AR511HBAXNWAANMY</td>\n      <td>my</td>\n      <td>argit argiltubo green clay for face and bodi 2...</td>\n      <td>100% authent rrefresh and brighten skin anti-w...</td>\n      <td>114.80</td>\n      <td>international</td>\n      <td>Health &amp; Beauty</td>\n      <td>Men's Care</td>\n      <td>Health &amp; Beauty Men's Care</td>\n      <td>1</td>\n      <td>1</td>\n    </tr>\n    <tr>\n      <th>...</th>\n      <td>...</td>\n      <td>...</td>\n      <td>...</td>\n      <td>...</td>\n      <td>...</td>\n      <td>...</td>\n      <td>...</td>\n      <td>...</td>\n      <td>...</td>\n      <td>...</td>\n      <td>...</td>\n    </tr>\n    <tr>\n      <th>36278</th>\n      <td>SA584ELAA4G4W0SGAMZ</td>\n      <td>sg</td>\n      <td>sade k10 led backlit wire usb mechan game keyb...</td>\n      <td>no driver needed/blu switch is the core of the...</td>\n      <td>67.09</td>\n      <td>international</td>\n      <td>Computers &amp; Laptops</td>\n      <td>Computer Accessories</td>\n      <td>Computers &amp; Laptops Computer Accessories</td>\n      <td>1</td>\n      <td>1</td>\n    </tr>\n    <tr>\n      <th>36279</th>\n      <td>SO499HAAA4CCLASGAMZ</td>\n      <td>sg</td>\n      <td>sona 20l electr oven seo 2220</td>\n      <td>2 year warranti thermal fuse safeti protect 6 ...</td>\n      <td>69.00</td>\n      <td>local</td>\n      <td>Home Appliances</td>\n      <td>Large Appliances</td>\n      <td>Home Appliances Large Appliances</td>\n      <td>1</td>\n      <td>1</td>\n    </tr>\n    <tr>\n      <th>36280</th>\n      <td>TI990ELAA5ZV1JSGAMZ</td>\n      <td>sg</td>\n      <td>op1001 portabl wireless bluetooth 2.1 speaker ...</td>\n      <td>with color light on the button light up your m...</td>\n      <td>35.00</td>\n      <td>international</td>\n      <td>Computers &amp; Laptops</td>\n      <td>Computer Accessories</td>\n      <td>Computers &amp; Laptops Computer Accessories</td>\n      <td>1</td>\n      <td>0</td>\n    </tr>\n    <tr>\n      <th>36281</th>\n      <td>WO203HLAA3KFPCSGAMZ</td>\n      <td>sg</td>\n      <td>woot-woot tictacto pillow case (white)</td>\n      <td>100% cotton safe for sensit skin cool and comf...</td>\n      <td>23.00</td>\n      <td>local</td>\n      <td>Home &amp; Living</td>\n      <td>Bedding</td>\n      <td>Home &amp; Living Bedding</td>\n      <td>1</td>\n      <td>1</td>\n    </tr>\n    <tr>\n      <th>36282</th>\n      <td>ZO445ELAA848V9SGAMZ</td>\n      <td>sg</td>\n      <td>new smart wristband d21 smart bracelet heart r...</td>\n      <td>compat requir android 4/3 or abov io 7/0 or ab...</td>\n      <td>31.00</td>\n      <td>international</td>\n      <td>TV, Audio / Video, Gaming &amp; Wearables</td>\n      <td>Wearable Technology</td>\n      <td>TV, Audio / Video, Gaming &amp; Wearables Wearable...</td>\n      <td>1</td>\n      <td>0</td>\n    </tr>\n  </tbody>\n</table>\n<p>36283 rows × 11 columns</p>\n</div>"
     },
     "metadata": {},
     "execution_count": 56
    }
   ],
   "source": [
    "test_training_data"
   ]
  },
  {
   "cell_type": "code",
   "execution_count": 57,
   "metadata": {},
   "outputs": [],
   "source": [
    "training_data = test_training_data.copy()"
   ]
  },
  {
   "source": [
    "## Stop Words Removal\n",
    "\n",
    "This aspect is actually very confusing. We expect descriptions to describe relations with what it is actually saying. Simply having buzz words in a description does not say anything about clarity, in fact, it should intuitively harm it. What does the product do? With what relations? Whom does it concern? Pausing work on stop words at the moment."
   ],
   "cell_type": "markdown",
   "metadata": {}
  },
  {
   "source": [
    "## Feature representation\n",
    "\n",
    "In a bag-of-word representation, how to give each word a feature value is anissue.  The simplest method is a binary representation so that each featureis 0 or 1 to indicate the appearance of a word.  This setting can be easily extended to term frequency (TF), which indicates the number of occurrences of a word in a text.  Some more sophisticated feature representations havebeen proposed.  TF-IDF is a popular one defined as \n",
    "\n",
    "$$xi,j= TFi,j×IDFj - (1)$$\n",
    "\n",
    "where $x_{ij}$ is thejth feature of the *i*th feature vector $x_i$, $TF_{i,j}$ is the term frequency, and $IDF_{j}$ is the inverse document frequency,\n",
    "\n",
    "$$IDF_{j}=log\\frac{TrainingInstances}{TrainingInstancesWithWord_{j}}$$\n",
    "\n",
    "Because popular words may appear in the same document several times and cause large TF values, IDF is used to avoid their dominance. A common step after generating feature  vectors is to normalize each instance to a unit vector. That is,\n",
    "\n",
    "$$xi← \\frac{xi}{‖xi‖}$$"
   ],
   "cell_type": "markdown",
   "metadata": {}
  },
  {
   "source": [
    "### TF, IDF for column 'title'\n",
    "\n",
    "The below code is extremely inefficent. It's also much better to not reinvent the wheel and use `sklearn.feature_extraction.text.TfidfVectorizer`.\n",
    "\n",
    "```python\n",
    "\n",
    "import pandas as pd\n",
    "import numpy as np\n",
    "\n",
    "unique_words = []\n",
    "training_data.apply(lambda row: [unique_words.append(token) for token in row['title'].split(' ') if token not in unique_words], axis=1)\n",
    "\n",
    "tf_matrix = np.zeros((len(unique_words), len(training_data['title'])))\n",
    "print(tf_matrix.shape)\n",
    "\n",
    "columnSize = 363283\n",
    "rowSize = 42445\n",
    "\n",
    "tf_matrix = pd.DataFrame(data=np.array([[0] * columnSize]), columns=[val for val in range(0, columns)])\n",
    "\n",
    "for i in range(0, rows):\n",
    "    tf_matrix.append(pd.Series([[0] * columnSize]), ignore_index=True)\n",
    "\n",
    "print(tf_matrix)\n",
    "```"
   ],
   "cell_type": "markdown",
   "metadata": {}
  },
  {
   "cell_type": "code",
   "execution_count": 105,
   "metadata": {},
   "outputs": [],
   "source": [
    "# Extracing the title corpus from the dataFrame\n",
    "corpus = training_data.apply(lambda row: row['title'], axis=1)\n",
    "\n",
    "# Converting pd.Series to a list\n",
    "corpus = list(corpus)"
   ]
  },
  {
   "source": [
    "### TF IDF Vectorizer"
   ],
   "cell_type": "markdown",
   "metadata": {}
  },
  {
   "cell_type": "code",
   "execution_count": 106,
   "metadata": {
    "tags": [
     "outputPrepend"
    ]
   },
   "outputs": [
    {
     "output_type": "stream",
     "name": "stdout",
     "text": [
      " 'veil', 'vein', 'veithdia', 'velcro', 'velec', 'velishi', 'veloc', 'velvet', 'velveteen', 'velveti', 'velvetin', 'vendoor', 'veneer', 'venesa', 'venetian', 'vengeanc', 'vengeance', 'venic', 'venicen', 'venom', 'vent', 'venta', 'venter', 'ventil', 'vention', 'venu', 'veowalk', 'ver', 'vera', 'verbena', 'verdon', 'verg', 'vergeturyl', 'veri', 'verisimilitud', 'veriton', 'verizon', 'verne', 'vernier', 'verona', 'veronica', 'vers', 'versa', 'versac', 'versatil', 'versavu', 'version', 'version3', 'versu', 'vert', 'vertebra', 'vertex', 'vertic', 'vertical', 'vertigo', 'vertigrow', 'veru', 'verve', 'verygood', 'vespa', 'vessel', 'vest', 'vesta', 'vestibul', 'vestido', 'vestidos', 'vestiti', 'vetiv', 'vf4110', 'vg', 'vga', 'vga11', 'vgg08', 'vgn', 'vgp', 'vh', 'vhb', 'vhdci', 'vhf', 'vi', 'vi10', 'vi8', 'via', 'vial', 'viartril', 'vibe', 'vibrant', 'vibrat', 'vibrissa', 'vibroact', 'viburnum', 'vicar', 'vice', 'vichi', 'vici', 'victori', 'victoria', 'victorian', 'victorinox', 'vidalsassoon', 'video', 'videoactioncamera', 'videoadapt', 'videobroadcastingterrestri', 'videocamera', 'videocamerawg', 'videocard', 'videoeu', 'videophoto', 'videorecord', 'videorecordercamcord', 'videorecorderdvdvrspi', 'videorecorderdvrminicamera', 'videorecordersurveillance1080p', 'videoshoot', 'videospy720', 'videosurveillancemicro600tvl', 'videovoicerecorderpcsurveil', 'vidtech', 'vie', 'vienna', 'viera', 'view', 'viewback', 'viewbackup2', 'viewcamera', 'viewer', 'viewmulti', 'viewrevers', 'viewson', 'vigilant', 'vign', 'vigor', 'vii', 'viitamin', 'viivria', 'viki', 'vilam', 'villag', 'villain', 'villeroy', 'villi', 'viltrox', 'vimax', 'vinc', 'vine', 'vinegar', 'vini', 'vinilo', 'vinle', 'vinli', 'vinll', 'vinnfier', 'vinomet', 'vinoperfect', 'vintaeyewear', 'vintag', 'vintage', 'vintagebangl', 'vintaunisex', 'vintawomen', 'vinyl', 'vinylux', 'vio4', 'viofo', 'violet', 'violin', 'vip', 'vipos', 'viq', 'viral', 'virgin', 'virgo', 'viril', 'virsion', 'virtual', 'virtualrealitymovi', 'viru', 'vis', 'visastar', 'viscos', 'vise', 'visibl', 'vision', 'vision4', 'visioncarcamera', 'visionhidden', 'visioninfraredp2pinternet', 'visionnair', 'visiontek', 'visitor', 'visor', 'vista', 'vistasik', 'vistro', 'visual', 'vit', 'vita', 'vitacrem', 'vitag', 'vitahealth', 'vital', 'vitali', 'vitalit', 'vitamin', 'vitamino', 'vitamix', 'vitantonio', 'vitapack', 'vitar', 'vitarlean', 'vitasen', 'vite', 'vitelity', 'vitello', 'vitex', 'vitmossa', 'vitton', 'viva', 'vivacor', 'vivaz', 'vive', 'viver', 'vivi', 'vivid', 'vivifi', 'vivitar', 'vivo', 'vivoact', 'vivobook', 'vivofit', 'vivopc', 'vivosmart', 'vivostick', 'vivotab', 'vivowatch', 'vivox7', 'vivreal', 'vizio', 'vizion', 'vk100', 'vkcjfi', 'vktech', 'vkworld', 'vl', 'vl02', 'vl812', 'vlcc', 'vlg', 'vlone', 'vlt', 'vm42', 'vm62n', 'vmxlf4', 'vn', 'vn0003z4ife', 'vn000vowil0', 'vn7', 'vneck', 'vnjhf', 'vnr11146rg', 'vo4012', 'vocal', 'vocaloid', 'vococ', 'vod', 'vodafon', 'vodka', 'vodool', 'vogu', 'voguish', 'voic', 'voice', 'voicerecordercamera', 'voicerecordercamerapin', 'voicerecorderpcsurveil', 'voil', 'voip', 'voitur', 'volag', 'volcan', 'volcano', 'voligood', 'volkswagen', 'volleybal', 'volo', 'volt', 'voltag', 'voltage', 'voltiq', 'voltmet', 'volum', 'volume', 'volumetr', 'volumin', 'volumis', 'volvey', 'volym', 'von', 'vonshef', 'voogol', 'voombox', 'voouhoof', 'voovrof', 'vorson', 'vortex', 'vosch', 'vostro', 'voucher', 'vov', 'voxlink', 'voyag', 'voze', 'vp', 'vp15tf', 'vp278h', 'vp9', 'vpc', 'vpccw13fx', 'vpceh28fj', 'vpcf22l1e', 'vprove', 'vr', 'vr01', 'vr2', 'vr28j011i', 'vr35j009i', 'vr46', 'vr5', 'vr6', 'vr7011', 'vr_tech', 'vrbox', 'vrii', 'vrt352', 'vrthousand', 'vs', 'vs008', 'vs314', 'vs910pik', 'vs986', 'vs999', 'vsgo', 'vsin', 'vsof5', 'vsp', 'vss', 'vstarcam', 'vt', 'vtc', 'vtey', 'vulcan', 'vv', 'vvgcam', 'vw', 'vx037d', 'vx2363smhl', 'vx278h', 'vxjfo', 'vz2113', 'vztec', 'vívoactiv', 'w000031', 'w000970', 'w00104g', 'w009', 'w0172g2', 'w017tu', 'w021a', 'w042602', 'w045', 'w0822l2', 'w0838l1', 'w1', 'w10', 'w1020', 'w105', 'w10h', 'w10pro', 'w1210m', 'w13', 'w137cm', 'w150', 'w160', 'w1687', 'w1744', 'w2016', 'w209', 'w2140', 'w215h', 'w23', 'w230', 'w24', 'w240', 'w2400', 'w25', 'w250', 'w27', 'w273sp', 'w2e8d', 'w2k16', 'w2pte', 'w2u03aa', 'w3', 'w305', 'w309r', 'w3113l', 'w311ma', 'w3128l', 'w3530', 'w388', 'w3pta', 'w4', 'w410t', 'w4673', 'w4r', 'w500', 'w500p', 'w50208l', 'w51', 'w510', 'w519l', 'w5w', 'w6', 'w601', 'w609', 'w610mm', 'w6110g', 'w67', 'w7', 'w700', 'w730', 'w7c', 'w7pro', 'w8', 'w800', 'w810', 'w810sl', 'w820', 'w830', 'w8less', 'w9', 'w90', 'w9b', 'wa', 'wa13j5750ss', 'wa70h4000sg', 'wa75h4400ss', 'wach', 'wacom', 'wad', 'waf', 'waffl', 'wafyar', 'wag', 'wag160n', 'wagner', 'wahl', 'waifu', 'wainstband', 'waist', 'waistband', 'waistbelt', 'waistcoat', 'waistlin', 'waistline', 'waistslim', 'wait', 'waiter', 'waitress', 'wajah', 'wak', 'wak20060sg', 'wakaizumi', 'wake', 'wal', 'wale', 'walet', 'walk', 'walker', 'walkera', 'walki', 'walkie', 'walkman', 'walkway', 'wall', 'wallapp', 'wallet', 'walletcoin', 'wallets', 'wallfor', 'walli', 'wallmark', 'wallmount', 'wallpap', 'wallpaper', 'wallpapers', 'walnut', 'walplu', 'walt', 'walton', 'wam', 'wan', 'wand', 'wanderwisp', 'wani', 'wanita', 'wanscam', 'want', 'wapiti', 'war', 'waratah', 'wardrob', 'wardrobe', 'ware', 'warehous', 'warfar', 'warm', 'warmer', 'warmth', 'warn', 'warna', 'warp', 'warranti', 'warranty', 'warrior', 'wars', 'warwolf', 'wasabi', 'wash', 'washabl', 'washable', 'washcloth', 'washer', 'washhous', 'washi', 'washington', 'washroom', 'wassernison', 'wast', 'wastebasket', 'wat', 'wat24480sg', 'watch', 'watchband', 'watchbox', 'watches', 'watchfre', 'watchios', 'watchm0008', 'watchmak', 'watchv239s', 'watchï¼ˆorangeï¼', 'water', 'waterburi', 'watercolor', 'watercolour', 'waterdrop', 'waterfal', 'wateri', 'waterless', 'watermark', 'watermelon', 'waterpoof', 'waterproof', 'waterproof30m', 'waterproofir15m', 'waterproofmini', 'waterproofsportsoutdoorcamera', 'waterproofwifi1080p', 'waterwash', 'watrproof', 'watson', 'watt', 'wattagecurr', 'wattmet', 'watts', 'wau', 'wav', 'wave', 'waveform', 'wavepod', 'waver', 'waveshar', 'wavi', 'wawawei', 'wax', 'waxi', 'waxtail', 'way', 'waya', 'wayaudio', 'waylif', 'wayth', 'wb', 'wb2', 'wb20', 'wc3ptac', 'wcarg006e', 'wcarg006ea', 'wcarg008ee2', 'wcary10ec', 'wcdma', 'wcg', 'wck', 'wcr', 'wd', 'wd1003fzex', 'wd10eal', 'wd10jpvx', 'wd12f9c9u4x', 'wd20efrx', 'wd3', 'wd5000lpvx', 'wd7500bpvt', 'wd80efzx', 'wdbbkd0020bbi', 'wdbbkd0020brd', 'wdbbkd0030bbl', 'wdbgpu0010bbi', 'wdbpgc5000ard', 'wdf10', 'wdf20', 'wdh', 'wdm527t', 'wdn', 'wdoo', 'wdpr', 'wdr', 'wdr4300', 'we', 'we503', 'weak', 'wealth', 'wear', 'wearability', 'wearabl', 'wearproof', 'weath', 'weather', 'weatherbond', 'weatherproof', 'weathershield', 'weav', 'weaven', 'weaver', 'web', 'webcam', 'webos3', 'wecast', 'wed', 'wed72hedw', 'wedding', 'wedg', 'wedzw', 'weed', 'weee', 'week', 'weekend', 'weekli', 'weezer', 'weft', 'wei', 'weid', 'weifeng', 'weigh', 'weigher', 'weight', 'weightlift', 'weightlifting', 'weightloss', 'weilin', 'weiqin', 'weishi', 'weisizhong', 'weitu', 'weizh', 'wel', 'welcom', 'weld', 'welder', 'weleda', 'welfar', 'welink', 'well', 'wella', 'wellesley', 'wellet', 'wellington', 'wellmax', 'weloop', 'weng', 'wenge', 'wengski', 'wepo', 'were', 'wes610n', 'west', 'westchi', 'western', 'westinghous', 'westmark', 'wet', 'wettersteingebirg', 'wezel', 'wf', 'wf220', 'wf55591', 'wf670', 'wfd009', 'wfhd', 'wfsp90', 'wft8061dd', 'wg50', 'wgn03301', 'wh', 'wh0004b', 'wh0041i', 'wh0047d', 'wh0048z', 'wh0052a', 'wh0084', 'wh2306', 'wh3700fi', 'whale', 'wharfedal', 'what', 'whatsapp', 'whd', 'wheat', 'wheatgrass', 'wheel', 'when', 'where', 'whetston', 'whey', 'whhb004', 'whi', 'which', 'while', 'whip', 'whipper', 'whirlpool', 'whisk', 'whisker', 'whiskey', 'whiski', 'whisper', 'whistl', 'whit', 'white', 'white3', 'whitebear', 'whiteblack', 'whiteboard', 'whitebox', 'whitecloud', 'whitedot', 'whitegen', 'whitemost', 'whiten', 'whitenup', 'whitered', 'whitestrip', 'whitewhit', 'whitworth', 'who', 'whoinshop', 'whole', 'wholesal', 'wholesale', 'wholesalehigh', 'wholli', 'whoo', 'whoope', 'whr', 'wht', 'whyu', 'whyus', 'whyyl0013', 'wi', 'wick', 'wicker', 'wid', 'wide', 'wideangl', 'wideangle', 'wideangle1', 'widemeasur', 'widescreen', 'widi', 'widow', 'width', 'wife', 'wifi', 'wificamerapan', 'wifimini', 'wig', 'wigfre', 'wigs', 'wii', 'wiimot', 'wiith', 'wiitop', 'wiko', 'wil', 'wild', 'wildcat', 'wildfir', 'wildflower', 'wildlif', 'wilko', 'will', 'william', 'willow', 'wilton', 'wimate', 'wimberley', 'wimbledon', 'win', 'win10', 'win10h', 'win7', 'win7pro', 'win8', 'win8fong', 'winait', 'winchest', 'wind', 'windbel', 'windbreak', 'windchim', 'winder', 'windforc', 'windi', 'winding', 'windmall', 'windmil', 'window', 'window10', 'windows', 'windows10', 'windows8', 'windproof', 'windscreen', 'windshield', 'windslay', 'windsock', 'windsor', 'windsurf', 'wine', 'winer', 'winered', 'winfast', 'wing', 'wings', 'wink', 'winlin', 'winmax', 'winn', 'winner', 'winni', 'winston', 'winter', 'winterautum', 'wintermelon', 'wintersweet', 'winwar', 'wipe', 'wiper', 'wippett', 'wir', 'wire', 'wirebi', 'wiredearphon', 'wiredraw', 'wireless', 'wirelessconnect', 'wirelessdiv', 'wirelessheadphon', 'wirelesss', 'wirelessstereo', 'wirelesswaterproof', 'wirstband', 'wirstwatch', 'wisdom', 'wisebuy', 'wish', 'wismec', 'wisp', 'wispun', 'wisteria', 'witch', 'wite', 'with', 'with16', 'with36irledshom', 'with8gb', 'withadjust', 'withbag', 'withdatahold', 'withdust', 'withhold', 'within', 'withlid', 'withm', 'withmediumshockproof', 'withmini', 'withmount', 'withnight', 'withnightvisionmot', 'without', 'withremot', 'withremotecontrol', 'withrepairtool', 'withseven', 'withthumblong', 'witth', 'witv', 'wiwo', 'wiz', 'wiztem', 'wizz', 'wj10030', 'wjs30120', 'wka1240', 'wkcg539', 'wkru3525', 'wl0820', 'wl086', 'wl572usb', 'wl592usb', 'wlan', 'wled', 'wlhb1445', 'wlj050', 'wlte06', 'wltoy', 'wlx', 'wm', 'wm126', 'wm18gf', 'wm3320', 'wm8741', 'wm8880', 'wma', 'wmp', 'wmz020', 'wn', 'wn725n', 'wn821n', 'wn822n', 'wn823n', 'woemn', 'wofalo', 'wok', 'wolf', 'woli', 'wollet', 'wolverin', 'womag', 'woman', 'womde', 'wome', 'women', 'womenanti', 'womenear', 'womenfashion', 'womenjewelleri', 'womensd', 'womensunglass', 'womentranspar', 'wonder', 'wonderland', 'wondershop', 'wonderstruck', 'wood', 'woodblock', 'wooden', 'woodwork', 'woody', 'woof', 'woofer', 'wool', 'woolen', 'woot', 'woowof', 'woppk', 'word', 'wordpad', 'work', 'worker', 'workhold', 'workout', 'workshop', 'workstat', 'worktop', 'workwear', 'world', 'worldcup', 'worldwid', 'worm', 'worri', 'worst', 'worth', 'woshijia', 'wostu', 'wotofo', 'wouxun', 'woven', 'wow', 'wp', 'wp0119', 'wp40600', 'wp60807', 'wpider', 'wq062', 'wqb868', 'wqhd', 'wr', 'wr3000', 'wr740n', 'wr841hp', 'wr886n', 'wrangler', 'wrap', 'wraparound', 'wrapper', 'wreath', 'wreckless', 'wrench', 'wrinkl', 'wrinkles', 'wrist', 'wristband', 'wristlet', 'wriststrap', 'wristwatch', 'wristwatchblack', 'wristwatches', 'wristwatchquartz', 'wristwatchsupport', 'write', 'writebest', 'writer', 'ws0300va', 'ws220', 'ws71', 'wsken', 'wsn022b', 'wsp', 'wsq', 'wst', 'wsvga', 'wt', 'wt0490', 'wt3020f', 'wt3110a', 'wt4146t', 'wt4498t', 'wt7014', 'wtc06', 'wtch', 'wtih', 'wu', 'wu8', 'wuhup', 'wuj0118', 'wunder2', 'wunderbrow', 'wusthof', 'wuxiang', 'wuzeyu', 'ww', 'ww10k6410', 'wwa1280', 'wwii', 'wwl493lwla', 'wwl493scea', 'wwl493urwa', 'wwoor', 'wwt', 'wx', 'wx005t', 'wx017h', 'wx057t', 'wx114t', 'wx147t', 'wx154t', 'wx155t', 'wx200', 'wx324t', 'wx361t', 'wx362t', 'wx500', 'wxga', 'wxy', 'wxz030', 'wxz032', 'wyeth', 'wymakeitph', 'wynn', 'wzk', 'x009', 'x055', 'x1', 'x10', 'x100', 'x100e', 'x100ft', 'x100yd', 'x10pc', 'x110', 'x11c', 'x120', 'x120e', 'x131e', 'x140cm', 'x15', 'x16', 'x17', 'x1808', 'x2', 'x20', 'x201', 'x201e', 'x202', 'x202e', 'x21', 'x220', 'x220i', 'x220t', 'x240', 'x25', 'x250', 'x3', 'x30', 'x300', 'x3000', 'x3002', 'x302lj', 'x30f', 'x30m', 'x31', 'x312', 'x315', 'x34', 'x35', 'x360', 'x3850', 'x3l', 'x4', 'x401u', 'x44', 'x441sa', 'x45', 'x450', 'x450l', 'x452', 'x453', 'x453s', 'x453sa', 'x455la', 'x455lf', 'x455lj', 'x456uf', 'x456uq', 'x45a', 'x483', 'x5', 'x50', 'x500', 'x501', 'x502', 'x510t', 'x510w', 'x51l', 'x53sj', 'x53sm', 'x53sv', 'x53u', 'x55', 'x550v', 'x550vc', 'x550x550c', 'x552c', 'x552ep', 'x552vl', 'x554l', 'x556ub', 'x55a', 'x55v', 'x59', 'x5c', 'x5hc', 'x5hw', 'x5l', 'x5pro', 'x5sc', 'x5sw', 'x5uc', 'x5uw', 'x6', 'x620', 'x6200w', 'x6p', 'x6u', 'x7', 'x70', 'x70ad', 'x75', 'x750', 'x75vb', 'x75vc', 'x7u', 'x8', 'x80', 'x800', 'x820', 'x821', 'x849', 'x86', 'x89', 'x8g', 'x8w', 'x9', 'x90', 'x900', 'x9007', 'x9076', 'x9077', 'x91f', 'x92', 'x920d', 'x93', 'x94', 'x96', 'x9d', 'xa', 'xa1', 'xa2', 'xa3', 'xa831h', 'xai', 'xaken', 'xaqiw', 'xb', 'xb30ex', 'xb400', 'xb450', 'xb450ap', 'xb668', 'xb80b', 'xba', 'xbee', 'xbmc', 'xbox', 'xbox360', 'xboxone', 'xc', 'xc070', 'xc16', 'xc213', 'xc780', 'xcc', 'xcellent', 'xcover', 'xcs', 'xcsoruc', 'xcsourc', 'xd', 'xd4', 'xdesign', 'xduoo', 'xe', 'xe1', 'xe2half', 'xenon', 'xenyx', 'xerox', 'xf', 'xf1454', 'xf300', 'xf305', 'xf702', 'xfacio', 'xfjkj', 'xfsmi', 'xfx', 'xg', 'xg1206', 'xg2401', 'xga', 'xhilar', 'xi', 'xiami', 'xiangzhi', 'xiao', 'xiaomi', 'xiaomi4', 'xiaomi4a', 'xiaomixiaoyi', 'xiaomiyisjcam', 'xiaoyi', 'xiberia', 'xied', 'ximu', 'xinew', 'xinfu', 'xinggang', 'xingtu', 'xingyu', 'xinji', 'xinjia', 'xinzhao', 'xioami', 'xisida', 'xiu', 'xiui', 'xiujinfushimaoyi', 'xiuya', 'xiv', 'xiyoyo', 'xj', 'xjfo', 'xkd12', 'xkkx', 'xl', 'xl39h', 'xl402', 'xl408', 'xlarg', 'xle', 'xlj', 'xlr', 'xlr8', 'xm', 'xm1', 'xm50h', 'xm6bt', 'xm6pf', 'xma', 'xmp', 'xmpcl9', 'xms002', 'xn2501', 'xn920c', 'xnude', 'xo', 'xo020t', 'xo172', 'xo5754', 'xo9051', 'xon', 'xoom', 'xoomz', 'xoxo', 'xp', 'xp18000a', 'xp941', 'xpe', 'xperia', 'xplay', 'xplay5', 'xplay5a', 'xplode', 'xplosiv', 'xpower', 'xqxa', 'xr', 'xr1', 'xr1310', 'xr1561', 'xr168c', 'xr2', 'xr999', 'xrg6u128', 'xs', 'xs801', 'xshot', 'xsi', 'xsixti', 'xt', 'xt1', 'xt1028', 'xt1031', 'xt1032', 'xt1034', 'xt1092', 'xt1095', 'xt1540', 'xt1541', 'xt1548', 'xt1550', 'xt1552', 'xt2with', 'xt60', 'xt626', 'xt680', 'xt681', 'xt890', 'xt919', 'xtar', 'xtc647', 'xtd', 'xtend', 'xtracar', 'xtreme', 'xubi', 'xudzh', 'xundd', 'xupei', 'xuuyuu', 'xwd', 'xx', 'xx210h', 'xxiv', 'xxl', 'xxxl', 'xxxxl', 'xxxxxl', 'xz', 'xzi', 'xzn', 'xzy', 'y02', 'y05', 'y10', 'y1000', 'y11', 'y1104', 'y126', 'y130', 'y16011c5', 'y2000', 'y21', 'y210', 'y21s1e', 'y22', 'y23', 'y28', 'y3', 'y300', 'y31', 'y320', 'y325', 'y33', 'y330', 'y3319', 'y336', 'y35', 'y360', 'y38', 'y3c', 'y3ii', 'y409', 'y410p', 'y430', 'y450', 'y450a', 'y450g', 'y5', 'y51', 'y510p', 'y516', 'y520', 'y523', 'y53', 'y530', 'y541', 'y55', 'y550', 'y550a', 'y550g', 'y550p', 'y55a', 'y560', 'y581', 'y581c', 'y582', 'y5c', 'y5ii', 'y6', 'y600', 'y613', 'y6142', 'y625', 'y635', 'y67', 'y6ii', 'y700', 'ya', 'yabyab', 'yacgroup', 'yacon', 'yacun', 'yadan', 'yaer', 'yagi', 'yaki', 'yakult', 'yakushido', 'yale', 'yam', 'yamaha', 'yamamoto', 'yamato', 'yamazaki', 'yan', 'yanagiya', 'yanasen', 'yang', 'yanhe', 'yanke', 'yao', 'yaobang', 'yaqin', 'yara', 'yard', 'yardley', 'yarn', 'yasheng', 'yashica', 'yasi', 'yasui', 'yay', 'yayifuzhanggongsi', 'yazhang', 'yazilind', 'yazol', 'yb', 'yb1', 'yb108', 'yb143', 'ybc', 'yc', 'yc121', 'yctri', 'yd', 'ydsw0002', 'ye', 'year', 'years', 'yeast', 'yedatun', 'yedi', 'yeelit', 'yeezi', 'yeezu', 'yeh', 'yelangu', 'yellow', 'yellowfre', 'yellowgreen', 'yellowish', 'yelow', 'yen', 'yeng', 'yeon', 'yeopor', 'yes', 'yesefu', 'yeti', 'yezhicong', 'yfwood', 'yg', 'yg016', 'yg026', 'yg037', 'yg3', 'yg300', 'ygh6008b', 'ygm', 'yh', 'yh8141', 'yi', 'yiactioncamera', 'yidabo', 'yidafuzhuang', 'yield', 'yika', 'yilia', 'yin', 'ying', 'yinggelai', 'yinglit', 'yinglunqishi', 'yingmei', 'yingwei', 'yiokmti', 'yishion', 'yitscas', 'yiuhua', 'yiwang', 'yiwumal', 'yixiaoyi', 'yizhun', 'yj310', 'yjb', 'yjc', 'yjh', 'yjjzb', 'yjmh012', 'yjmh017', 'yjmh018', 'yjmh028', 'yjmh030', 'yjmh043', 'yjmh045', 'yjmh069', 'yk', 'ykl', 'ykstb', 'yl', 'ylang', 'yld', 'ylg0105a', 'ylw', 'ym1053blue', 'yn', 'yn35mm', 'yn360', 'yn560', 'yn568ex', 'yn600ex', 'yns8841', 'ynynxy112', 'yo', 'yocho', 'yodo', 'yoga', 'yoga11', 'yoga3', 'yoga910', 'yoggu', 'yogon', 'yogurt', 'yohmo', 'yoin', 'yoko', 'yokomo', 'yolk', 'yollow', 'yolo', 'yomband', 'yomeishu', 'yona', 'yonc', 'yong', 'yongcai', 'yongcaiyiwu', 'yongnuo', 'yoo', 'yoobao', 'yooc', 'yoouino', 'yooyvso', 'york', 'yosemit', 'yoshino', 'yoto', 'you', 'youjin', 'young', 'youniq', 'youoklight', 'youporn', 'your', 'yourheart', 'yourself', 'yoursf', 'yout', 'youth', 'youthmud', 'youtub', 'youzpin', 'yoyo', 'yozoh', 'ypbpr', 'yr', 'yrs', 'ys', 'ys001', 'ysel', 'ysf', 'yshon', 'ysl3f10', 'ysq10', 'yss', 'yt', 'ytj0146whbu', 'yu', 'yuan', 'yueyin', 'yufenra', 'yuhai', 'yuji', 'yujin', 'yuki', 'yukufu', 'yunnuo', 'yunteng', 'yuppi', 'yurt', 'yusong', 'yuv', 'yuwen', 'yve', 'ywm3f10', 'ywq_d01', 'ywz', 'yx203', 'yy025', 'yy037', 'yy180', 'yybj', 'yydsop', 'yyi', 'yyp25', 'yzl324h', 'yzl325h', 'z00600', 'z01066', 'z02', 'z037', 'z039', 'z042', 'z07', 'z0rg1ll', 'z1', 'z10', 'z120', 'z130h', 'z1602', 'z170c', 'z170cg', 'z187', 'z1c', 'z2', 'z22', 'z240i', 'z2a', 'z3', 'z313', 'z323', 'z370', 'z370c', 'z370cg', 'z3735f', 'z3735g', 'z3745', 'z3775', 'z380kl', 'z3v', 'z4', 'z40', 'z400', 'z460', 'z4636', 'z465', 'z46vrn', 'z470', 'z4g', 'z5', 'z50', 'z506', 'z523', 'z525', 'z528', 'z560', 'z575', 'z580c', 'z580ca', 'z5c', 'z60', 'z600', 'z623', 'z699c', 'z7', 'z707', 'z715e', 'z7c', 'z8', 'z83', 'z8300', 'z830064', 'z8350', 'z8550fhd4gbram', 'z888', 'z9', 'z90', 'z906', 'z981', 'za', 'za002_pi', 'zaful', 'zakka', 'zaldi', 'zanity', 'zanussi', 'zanz', 'zanzea', 'zapatilla', 'zapato', 'zapper', 'zara', 'zariya', 'zashion', 'zaunti', 'zawara', 'zayn', 'zazaremot', 'zb', 'zb3003', 'zb3107', 'zb452kg', 'zb500kl', 'zb551kl', 'zbb1427', 'zbox', 'zc', 'zc255b', 'zc451cg', 'zc451tg', 'zc500tg', 'zc520tl', 'zc550kl', 'zc551kl', 'zc553kl', 'zct1h', 'zd', 'zd000008', 'zd000024', 'zd551kl', 'zd8000', 'zdiaue', 'zdisc', 'zdml', 'ze500cl', 'ze500kl', 'ze520kl', 'ze550kl', 'ze550ml', 'ze551ml', 'ze552kl', 'ze601kl', 'zeagoo', 'zealand', 'zealot', 'zeawhc', 'zeblaz', 'zebra', 'zed', 'zedl', 'zee', 'zefit2', 'zeiss', 'zel', 'zelda', 'zelot', 'zen', 'zenbook', 'zenbook3', 'zener', 'zenflash', 'zenfon', 'zenfone3', 'zengear', 'zenhon', 'zenol', 'zenpad', 'zenwatch', 'zenzi', 'zenzia', 'zephon', 'zerah', 'zero', 'zerolemon', 'zerotech', 'zest', 'zester', 'zesters', 'zestril', 'zeta', 'zf', 'zg306', 'zg521', 'zg6', 'zgc', 'zh', 'zh9', 'zhaizubuluo', 'zhangkongzh', 'zhe', 'zhen', 'zhengqi', 'zhengshan', 'zhha', 'zhishunjia', 'zhiyun', 'zhkzj2', 'zhongsheng', 'zhouda', 'zht961k', 'zhuoda', 'zi', 'zic', 'zicron', 'zidoo', 'zigbe', 'zigzag', 'zigzagzong', 'zikrak', 'zilch', 'zinc', 'zine', 'zing', 'zinger', 'zink', 'zip', 'zipper', 'zircom', 'zircon', 'zirconia', 'zisur', 'zit', 'zj', 'zj0074', 'zj0081', 'zjuxin', 'zk', 'zkz', 'zl', 'zl2', 'zl205', 'zl62', 'zm99', 'zmax', 'zmdah', 'znpnxn', 'zodiac', 'zoeirc', 'zoeva', 'zoey', 'zofea', 'zojirushi', 'zombi', 'zomei', 'zon', 'zone', 'zonzon', 'zoo', 'zoodl', 'zookeeper2', 'zoom', 'zoomabl', 'zoomnikkor', 'zoowjopn', 'zoowop', 'zooyoo', 'zooyoo8278', 'zooyoo8308', 'zopo', 'zoqi', 'zoqw', 'zoreya', 'zotac', 'zowi', 'zp', 'zp520', 'zr', 'zr15795', 'zr3500', 'zr5000', 'zrong', 'zs', 'zs550kl', 'zs570kl', 'zst', 'zstx', 'zsuo', 'zt', 'zte', 'ztg718x', 'zu', 'zu680kl', 'zucchini', 'zuigeili', 'zuii', 'zuiko', 'zuk', 'zukz1', 'zumqa', 'zuncl', 'zuxu', 'zw', 'zw004', 'zwiesel', 'zwill', 'zwipe', 'zx', 'zx100', 'zx300', 'zx310', 'zx326', 'zx550', 'zx551ml', 'zxsj', 'zxtl', 'zy1499', 'zy4224', 'zye1', 'zyliss', 'zyxel', 'zz', 'züni', '²skit', 'éclat', 'ï¼ˆblackï¼', 'ï¼ˆgold', 'ø13cm', 'ø24cm', 'ø7', 'φ50', '假发架', '养命酒', '冠脉宁', '发网', '套装', '文冬姜', '柔顺洗发配套', '治神經衰弱', '甜杏仁油', '石淋通片100', '逍遥丸', '钢丝梳', '雪绒花靓肤水嫩洁面乳', '해외배송']\n"
     ]
    }
   ],
   "source": [
    "vectorizer = TfidfVectorizer()\n",
    "X = vectorizer.fit_transform(corpus)\n",
    "print(vectorizer.get_feature_names())"
   ]
  },
  {
   "cell_type": "code",
   "execution_count": 107,
   "metadata": {},
   "outputs": [
    {
     "output_type": "stream",
     "name": "stdout",
     "text": [
      "31329\n(36283, 31329)\n"
     ]
    }
   ],
   "source": [
    "print(len(vectorizer.get_feature_names()))\n",
    "print(X.shape)"
   ]
  },
  {
   "cell_type": "code",
   "execution_count": 108,
   "metadata": {},
   "outputs": [],
   "source": [
    "analyzer = vectorizer.build_analyzer()"
   ]
  },
  {
   "cell_type": "code",
   "execution_count": 109,
   "metadata": {},
   "outputs": [
    {
     "output_type": "stream",
     "name": "stdout",
     "text": [
      "functools.partial(<function _analyze at 0x7f1cb9c0b820>, ngrams=<bound method _VectorizerMixin._word_ngrams of TfidfVectorizer()>, tokenizer=<built-in method findall of re.Pattern object at 0x7f1cad4e8b90>, preprocessor=functools.partial(<function _preprocess at 0x7f1cb9c0b700>, accent_function=None, lower=True), decoder=<bound method _VectorizerMixin.decode of TfidfVectorizer()>, stop_words=None)\n<class 'functools.partial'>\n['adana', 'galleri', 'suri', 'squar', 'hijab', 'light', 'pink'] ['cuba', 'heartbreak', 'eau', 'de', 'parfum', 'spray', '100ml', '3oz'] ['andoer', '150cm', 'cellphon', 'smartphon', 'mini', 'dual', 'head', 'omni', 'direct', 'mic', 'microphon', 'with', 'collar', 'clip', 'for', 'ipad', 'iphone5', '6s', 'plu', 'smartphon']\n"
     ]
    }
   ],
   "source": [
    "print(analyzer)\n",
    "print(type(analyzer))\n",
    "print(analyzer(corpus[0]), analyzer(corpus[1]), analyzer(corpus[2]))"
   ]
  },
  {
   "cell_type": "code",
   "execution_count": 110,
   "metadata": {},
   "outputs": [],
   "source": [
    "preprocessor = vectorizer.build_preprocessor()"
   ]
  },
  {
   "cell_type": "code",
   "execution_count": 111,
   "metadata": {},
   "outputs": [
    {
     "output_type": "stream",
     "name": "stdout",
     "text": [
      "functools.partial(<function _preprocess at 0x7f1cb9c0b700>, accent_function=None, lower=True)\n<class 'functools.partial'>\n'adana galleri suri squar hijab – light pink ', 'cuba heartbreak eau de parfum spray 100ml/3.3oz ', 'andoer 150cm cellphon smartphon mini dual-head omni-direct mic microphon with collar clip for ipad iphone5 6s 6 plu smartphon '\n"
     ]
    }
   ],
   "source": [
    "print(preprocessor)\n",
    "print(type(preprocessor))\n",
    "print(f'\\'{preprocessor(corpus[0])}\\', \\'{preprocessor(corpus[1])}\\', \\'{preprocessor(corpus[2])}\\'')"
   ]
  },
  {
   "cell_type": "code",
   "execution_count": 112,
   "metadata": {},
   "outputs": [],
   "source": [
    "tokenizer = vectorizer.build_tokenizer()"
   ]
  },
  {
   "cell_type": "code",
   "execution_count": 113,
   "metadata": {},
   "outputs": [
    {
     "output_type": "execute_result",
     "data": {
      "text/plain": [
       "<function Pattern.findall(string, pos=0, endpos=9223372036854775807)>"
      ]
     },
     "metadata": {},
     "execution_count": 113
    }
   ],
   "source": [
    "tokenizer"
   ]
  },
  {
   "source": [
    "### CountVectorizer\n",
    "\n",
    "In order to start using TfidfTransformer you will first have to create a CountVectorizer to count the number of words (term frequency), limit your vocabulary size, apply stop words and etc. The code below does just that."
   ],
   "cell_type": "markdown",
   "metadata": {}
  },
  {
   "cell_type": "code",
   "execution_count": 116,
   "metadata": {},
   "outputs": [],
   "source": [
    "# Instantiate CountVectorizer()\n",
    "cv = CountVectorizer()\n",
    "\n",
    "# This step generates word counts for the words in your docs\n",
    "word_count_vector = cv.fit_transform(corpus)"
   ]
  },
  {
   "source": [
    "We should have the shape (36283, 31329), which means we have 36283 rows (36283 'docs'), and 31329 columns(31329 unique words, minus single character words)"
   ],
   "cell_type": "markdown",
   "metadata": {}
  },
  {
   "cell_type": "code",
   "execution_count": 122,
   "metadata": {},
   "outputs": [
    {
     "output_type": "execute_result",
     "data": {
      "text/plain": [
       "(36283, 31329)"
      ]
     },
     "metadata": {},
     "execution_count": 122
    }
   ],
   "source": [
    "word_count_vector.shape"
   ]
  },
  {
   "cell_type": "code",
   "execution_count": 139,
   "metadata": {},
   "outputs": [
    {
     "output_type": "execute_result",
     "data": {
      "text/plain": [
       "<36283x31329 sparse matrix of type '<class 'numpy.int64'>'\n",
       "\twith 409311 stored elements in Compressed Sparse Row format>"
      ]
     },
     "metadata": {},
     "execution_count": 139
    }
   ],
   "source": [
    "word_count_vector"
   ]
  },
  {
   "source": [
    "Sweet, this is what we want! Now it’s time to compute the IDFs. Note that in this notebook, we are using all the defaults with CountVectorizer. You can actually specify a custom stop word list, enforce minimum word count, etc. See this article on [how to use CountVectorizer](https://kavita-ganesan.com/how-to-use-countvectorizer/).\n",
    "\n",
    "Now we are going to compute the IDF values by calling ```tfidf_transformer.fit(word_count_vector)``` on the word counts we computed earlier."
   ],
   "cell_type": "markdown",
   "metadata": {}
  },
  {
   "cell_type": "code",
   "execution_count": 141,
   "metadata": {},
   "outputs": [
    {
     "output_type": "execute_result",
     "data": {
      "text/plain": [
       "TfidfTransformer()"
      ]
     },
     "metadata": {},
     "execution_count": 141
    }
   ],
   "source": [
    "# Extracing the transformer\n",
    "tfidf_transformer = TfidfTransformer(smooth_idf = True, use_idf = True)\n",
    "\n",
    "# Fitting to the transformer\n",
    "tfidf_transformer.fit(word_count_vector)"
   ]
  },
  {
   "source": [
    "To get a glimpse of how the IDF values look, we are going to print it by placing the IDF values in a python DataFrame. The values will be sorted in ascending order."
   ],
   "cell_type": "markdown",
   "metadata": {}
  },
  {
   "cell_type": "code",
   "execution_count": 121,
   "metadata": {},
   "outputs": [
    {
     "output_type": "execute_result",
     "data": {
      "text/plain": [
       "           idf_weights\n",
       "for           2.293402\n",
       "black         2.896863\n",
       "intl          2.956466\n",
       "case          3.045092\n",
       "with          3.282234\n",
       "...                ...\n",
       "frick        10.805985\n",
       "18000        10.805985\n",
       "freshmint    10.805985\n",
       "frangranc    10.805985\n",
       "herald       10.805985\n",
       "\n",
       "[31329 rows x 1 columns]"
      ],
      "text/html": "<div>\n<style scoped>\n    .dataframe tbody tr th:only-of-type {\n        vertical-align: middle;\n    }\n\n    .dataframe tbody tr th {\n        vertical-align: top;\n    }\n\n    .dataframe thead th {\n        text-align: right;\n    }\n</style>\n<table border=\"1\" class=\"dataframe\">\n  <thead>\n    <tr style=\"text-align: right;\">\n      <th></th>\n      <th>idf_weights</th>\n    </tr>\n  </thead>\n  <tbody>\n    <tr>\n      <th>for</th>\n      <td>2.293402</td>\n    </tr>\n    <tr>\n      <th>black</th>\n      <td>2.896863</td>\n    </tr>\n    <tr>\n      <th>intl</th>\n      <td>2.956466</td>\n    </tr>\n    <tr>\n      <th>case</th>\n      <td>3.045092</td>\n    </tr>\n    <tr>\n      <th>with</th>\n      <td>3.282234</td>\n    </tr>\n    <tr>\n      <th>...</th>\n      <td>...</td>\n    </tr>\n    <tr>\n      <th>frick</th>\n      <td>10.805985</td>\n    </tr>\n    <tr>\n      <th>18000</th>\n      <td>10.805985</td>\n    </tr>\n    <tr>\n      <th>freshmint</th>\n      <td>10.805985</td>\n    </tr>\n    <tr>\n      <th>frangranc</th>\n      <td>10.805985</td>\n    </tr>\n    <tr>\n      <th>herald</th>\n      <td>10.805985</td>\n    </tr>\n  </tbody>\n</table>\n<p>31329 rows × 1 columns</p>\n</div>"
     },
     "metadata": {},
     "execution_count": 121
    }
   ],
   "source": [
    "# print idf values \n",
    "df_idf = pd.DataFrame(tfidf_transformer.idf_, index=cv.get_feature_names(),columns=[\"idf_weights\"]) \n",
    " \n",
    "# sort ascending \n",
    "df_idf.sort_values(by=['idf_weights'])"
   ]
  },
  {
   "source": [
    "Notice that the words '*herald*' and '*frangranc*' have the lowest IDF values. This is expected as these words appear in each and every document in our collection. The lower the IDF value of a word, the less unique it is to any particular document.\n",
    "\n",
    "Once you have the IDF values, you can now compute the tf-idf scores for any document or set of documents. Let’s compute tf-idf scores for the 36283 documents in our collection."
   ],
   "cell_type": "markdown",
   "metadata": {}
  },
  {
   "cell_type": "code",
   "execution_count": 142,
   "metadata": {},
   "outputs": [],
   "source": [
    "# count matrix \n",
    "count_vector = cv.transform(corpus) \n",
    " \n",
    "# tf-idf scores \n",
    "tf_idf_vector = tfidf_transformer.transform(count_vector)"
   ]
  },
  {
   "source": [
    "The first line above, gets the word counts for the documents in a sparse matrix form. We could have actually used word_count_vector from above. However, in practice, you may be computing tf-idf scores on a set of new unseen documents. When you do that, you will first have to do cv.transform(your_new_docs) to generate the matrix of word counts.\n",
    "\n",
    "Then, by invoking tfidf_transformer.transform(count_vector) you will finally be computing the tf-idf scores for your docs. Internally this is computing the tf * idf  multiplication where your term frequency is weighted by its IDF values.\n"
   ],
   "cell_type": "markdown",
   "metadata": {}
  },
  {
   "cell_type": "code",
   "execution_count": 143,
   "metadata": {},
   "outputs": [
    {
     "output_type": "execute_result",
     "data": {
      "text/plain": [
       "<36283x31329 sparse matrix of type '<class 'numpy.float64'>'\n",
       "\twith 409311 stored elements in Compressed Sparse Row format>"
      ]
     },
     "metadata": {},
     "execution_count": 143
    }
   ],
   "source": [
    "tf_idf_vector"
   ]
  },
  {
   "source": [
    "Now, let’s print the tf-idf values of the first document to see if it makes sense. What we are doing below is, placing the tf-idf scores from the first document into a pandas data frame and sorting it in descending order of scores."
   ],
   "cell_type": "markdown",
   "metadata": {}
  },
  {
   "cell_type": "code",
   "execution_count": 144,
   "metadata": {},
   "outputs": [
    {
     "output_type": "execute_result",
     "data": {
      "text/plain": [
       "            tfidf\n",
       "adana    0.494075\n",
       "suri     0.494075\n",
       "galleri  0.452180\n",
       "hijab    0.375074\n",
       "squar    0.284908\n",
       "...           ...\n",
       "cr2450   0.000000\n",
       "cr2032   0.000000\n",
       "cr2025   0.000000\n",
       "cr2016   0.000000\n",
       "해외배송     0.000000\n",
       "\n",
       "[31329 rows x 1 columns]"
      ],
      "text/html": "<div>\n<style scoped>\n    .dataframe tbody tr th:only-of-type {\n        vertical-align: middle;\n    }\n\n    .dataframe tbody tr th {\n        vertical-align: top;\n    }\n\n    .dataframe thead th {\n        text-align: right;\n    }\n</style>\n<table border=\"1\" class=\"dataframe\">\n  <thead>\n    <tr style=\"text-align: right;\">\n      <th></th>\n      <th>tfidf</th>\n    </tr>\n  </thead>\n  <tbody>\n    <tr>\n      <th>adana</th>\n      <td>0.494075</td>\n    </tr>\n    <tr>\n      <th>suri</th>\n      <td>0.494075</td>\n    </tr>\n    <tr>\n      <th>galleri</th>\n      <td>0.452180</td>\n    </tr>\n    <tr>\n      <th>hijab</th>\n      <td>0.375074</td>\n    </tr>\n    <tr>\n      <th>squar</th>\n      <td>0.284908</td>\n    </tr>\n    <tr>\n      <th>...</th>\n      <td>...</td>\n    </tr>\n    <tr>\n      <th>cr2450</th>\n      <td>0.000000</td>\n    </tr>\n    <tr>\n      <th>cr2032</th>\n      <td>0.000000</td>\n    </tr>\n    <tr>\n      <th>cr2025</th>\n      <td>0.000000</td>\n    </tr>\n    <tr>\n      <th>cr2016</th>\n      <td>0.000000</td>\n    </tr>\n    <tr>\n      <th>해외배송</th>\n      <td>0.000000</td>\n    </tr>\n  </tbody>\n</table>\n<p>31329 rows × 1 columns</p>\n</div>"
     },
     "metadata": {},
     "execution_count": 144
    }
   ],
   "source": [
    "feature_names = cv.get_feature_names() \n",
    " \n",
    "#get tfidf vector for first document \n",
    "first_document_vector = tf_idf_vector[0] \n",
    " \n",
    "#print the scores \n",
    "df = pd.DataFrame(first_document_vector.T.todense(), index = feature_names, columns = [\"tfidf\"]) \n",
    "df.sort_values(by = [\"tfidf\"], ascending = False)"
   ]
  },
  {
   "source": [
    "Notice that only certain words have scores. This is because our first document is “the house had a tiny little mouse”  all the words in this document have a tf-idf score and everything else show up as zeroes. Notice that the word “a” is missing from this list. This is possibly due to internal pre-processing of CountVectorizer where it removes single characters.\n",
    "\n",
    "The scores above make sense. The more common the word across documents, the lower its score and the more unique a word is to our first document (e.g. ‘had’ and ‘tiny’) the higher the score. So it’s working as expected except for the mysterious a that was chopped off.\n",
    "\n",
    "Now, we are going to use the same 36283 documents from above to do the same thing as we did for Tfidftransformer – which is to get the tf-idf scores of a set of documents. But, notice how this is much shorter.\n",
    "\n",
    "With Tfidfvectorizer you compute the word counts, idf and tf-idf values all at once. It’s really simple."
   ],
   "cell_type": "markdown",
   "metadata": {}
  },
  {
   "cell_type": "code",
   "execution_count": 145,
   "metadata": {},
   "outputs": [],
   "source": [
    "# settings that you use for count vectorizer will go here \n",
    "tfidf_vectorizer=TfidfVectorizer(use_idf=True) \n",
    " \n",
    "# just send in all your docs here \n",
    "tfidf_vectorizer_vectors=tfidf_vectorizer.fit_transform(corpus)"
   ]
  },
  {
   "source": [
    "Now let’s print the tfidf values for the first document from our collection. Notice that these values are identical to the ones from Tfidftransformer, only thing is that it’s done in just two steps."
   ],
   "cell_type": "markdown",
   "metadata": {}
  },
  {
   "cell_type": "code",
   "execution_count": 174,
   "metadata": {},
   "outputs": [
    {
     "output_type": "execute_result",
     "data": {
      "text/plain": [
       "         index     tfidf\n",
       "0        adana  0.494075\n",
       "1         suri  0.494075\n",
       "2      galleri  0.452180\n",
       "3        hijab  0.375074\n",
       "4        squar  0.284908\n",
       "...        ...       ...\n",
       "31324   cr2450  0.000000\n",
       "31325   cr2032  0.000000\n",
       "31326   cr2025  0.000000\n",
       "31327   cr2016  0.000000\n",
       "31328     해외배송  0.000000\n",
       "\n",
       "[31329 rows x 2 columns]"
      ],
      "text/html": "<div>\n<style scoped>\n    .dataframe tbody tr th:only-of-type {\n        vertical-align: middle;\n    }\n\n    .dataframe tbody tr th {\n        vertical-align: top;\n    }\n\n    .dataframe thead th {\n        text-align: right;\n    }\n</style>\n<table border=\"1\" class=\"dataframe\">\n  <thead>\n    <tr style=\"text-align: right;\">\n      <th></th>\n      <th>index</th>\n      <th>tfidf</th>\n    </tr>\n  </thead>\n  <tbody>\n    <tr>\n      <th>0</th>\n      <td>adana</td>\n      <td>0.494075</td>\n    </tr>\n    <tr>\n      <th>1</th>\n      <td>suri</td>\n      <td>0.494075</td>\n    </tr>\n    <tr>\n      <th>2</th>\n      <td>galleri</td>\n      <td>0.452180</td>\n    </tr>\n    <tr>\n      <th>3</th>\n      <td>hijab</td>\n      <td>0.375074</td>\n    </tr>\n    <tr>\n      <th>4</th>\n      <td>squar</td>\n      <td>0.284908</td>\n    </tr>\n    <tr>\n      <th>...</th>\n      <td>...</td>\n      <td>...</td>\n    </tr>\n    <tr>\n      <th>31324</th>\n      <td>cr2450</td>\n      <td>0.000000</td>\n    </tr>\n    <tr>\n      <th>31325</th>\n      <td>cr2032</td>\n      <td>0.000000</td>\n    </tr>\n    <tr>\n      <th>31326</th>\n      <td>cr2025</td>\n      <td>0.000000</td>\n    </tr>\n    <tr>\n      <th>31327</th>\n      <td>cr2016</td>\n      <td>0.000000</td>\n    </tr>\n    <tr>\n      <th>31328</th>\n      <td>해외배송</td>\n      <td>0.000000</td>\n    </tr>\n  </tbody>\n</table>\n<p>31329 rows × 2 columns</p>\n</div>"
     },
     "metadata": {},
     "execution_count": 174
    }
   ],
   "source": [
    "# get the first vector out (for the first document) \n",
    "first_vector_tfidfvectorizer=tfidf_vectorizer_vectors[0] \n",
    " \n",
    "# place tf-idf values in a pandas data frame \n",
    "df = pd.DataFrame(first_vector_tfidfvectorizer.T.todense(), index = tfidf_vectorizer.get_feature_names(), columns = [\"tfidf\"])\n",
    "df = df.sort_values(by = [\"tfidf\"],ascending = False)\n",
    "df = df.reset_index()\n",
    "df"
   ]
  },
  {
   "source": [
    "Here’s another way to do it by calling fit and transform separately and you’ll end up with the same results."
   ],
   "cell_type": "markdown",
   "metadata": {}
  },
  {
   "cell_type": "code",
   "execution_count": 175,
   "metadata": {},
   "outputs": [],
   "source": [
    "tfidf_vectorizer=TfidfVectorizer(use_idf=True)\n",
    " \n",
    "# just send in all your docs here\n",
    "fitted_vectorizer = tfidf_vectorizer.fit(corpus)\n",
    "tfidf_vectorizer_vectors = fitted_vectorizer.transform(corpus)"
   ]
  },
  {
   "cell_type": "code",
   "execution_count": 176,
   "metadata": {},
   "outputs": [
    {
     "output_type": "execute_result",
     "data": {
      "text/plain": [
       "<36283x31329 sparse matrix of type '<class 'numpy.float64'>'\n",
       "\twith 409311 stored elements in Compressed Sparse Row format>"
      ]
     },
     "metadata": {},
     "execution_count": 176
    }
   ],
   "source": [
    "tfidf_vectorizer_vectors"
   ]
  },
  {
   "source": [
    "First converting the ```df``` to a dictionary\n"
   ],
   "cell_type": "markdown",
   "metadata": {}
  },
  {
   "cell_type": "code",
   "execution_count": 230,
   "metadata": {},
   "outputs": [],
   "source": [
    "df_dict = {}\n",
    "\n",
    "# It's better to store items in a dict\n",
    "# Else pandas will scan row wise every single time a boolean expression\n",
    "# for retrieving a slice of the DF is sent\n",
    "# So each time I want to go ahead to access a token\n",
    "# It takes on average 0.05s\n",
    "for i in range(0, len(df)):\n",
    "    df_dict[df.loc[i, 'index']] = df.loc[i, 'tfidf']"
   ]
  },
  {
   "cell_type": "code",
   "execution_count": 231,
   "metadata": {},
   "outputs": [
    {
     "output_type": "stream",
     "name": "stdout",
     "text": [
      "0.006095834999996441\n0.005238699000074121\n0.0051164179999432235\n0.004500680000091961\n0.005190459999994346\n0.004506232999574422\n0.004576442000143288\n0.003223989000161964\n0.0038107439995656023\n0.0031954760002008697\n0.003048350999961258\n0.0031794480000826297\n0.0032274479999614414\n0.005365385000004608\n0.003753484999833745\n0.002964141000120435\n0.0025006420000863727\n0.0026692980000007083\n0.0029419720003716066\n0.005486139999902662\n"
     ]
    }
   ],
   "source": [
    "# With a df, it takes...\n",
    "for i in range(0, 20):\n",
    "    start = time.process_time()\n",
    "    df[df['index'] == 'adana']\n",
    "    print(time.process_time() - start)"
   ]
  },
  {
   "cell_type": "code",
   "execution_count": 232,
   "metadata": {},
   "outputs": [
    {
     "output_type": "stream",
     "name": "stdout",
     "text": [
      "3.4949998735100962e-06\n2.9409998205665033e-06\n1.0600001587590668e-06\n7.620001269970089e-07\n8.100000741251279e-07\n2.3359998522209935e-06\n2.3780003175488673e-06\n4.072000137966825e-06\n8.619999789516442e-07\n9.020000106829684e-07\n7.789999472151976e-07\n7.639996510988567e-07\n7.280000318132807e-07\n7.749999895168003e-07\n7.160001587180886e-07\n7.429998731822707e-07\n7.220000952656846e-07\n8.319998414663132e-07\n7.610001375724096e-07\n7.20000116416486e-07\n"
     ]
    }
   ],
   "source": [
    "# And with a dict, it takes...\n",
    "for i in range(0, 20):\n",
    "    start = time.process_time()\n",
    "    df_dict['adana']\n",
    "    print(time.process_time() - start)"
   ]
  },
  {
   "cell_type": "code",
   "execution_count": 233,
   "metadata": {},
   "outputs": [
    {
     "output_type": "execute_result",
     "data": {
      "text/plain": [
       "[('adana', 0.4940750238335588),\n",
       " ('suri', 0.4940750238335588),\n",
       " ('galleri', 0.45218005855303883),\n",
       " ('hijab', 0.3750739358441241),\n",
       " ('squar', 0.2849084886435737)]"
      ]
     },
     "metadata": {},
     "execution_count": 233
    }
   ],
   "source": [
    "from itertools import islice\n",
    "\n",
    "def take(n, iterable):\n",
    "    \"Return first n items of the iterable as a list\"\n",
    "    return list(islice(iterable, n))\n",
    "\n",
    "n_items = take(5, df_dict.items())\n",
    "\n",
    "n_items"
   ]
  },
  {
   "cell_type": "code",
   "execution_count": 234,
   "metadata": {},
   "outputs": [],
   "source": [
    "import time\n",
    "\n",
    "def ConvertLineToScore(line):\n",
    "    \n",
    "    finalResult = 0.0\n",
    "\n",
    "    line_split = line.split(' ')\n",
    "    \n",
    "    for token in line_split:\n",
    "\n",
    "        if token in df_dict:\n",
    "            \n",
    "            finalResult += float(df_dict[token])\n",
    "\n",
    "    return finalResult"
   ]
  },
  {
   "cell_type": "code",
   "execution_count": 235,
   "metadata": {
    "tags": []
   },
   "outputs": [],
   "source": [
    "training_data['title_tfidf_scores'] = training_data.apply(lambda row: ConvertLineToScore(row['title']), axis=1)"
   ]
  },
  {
   "cell_type": "code",
   "execution_count": 236,
   "metadata": {},
   "outputs": [
    {
     "output_type": "execute_result",
     "data": {
      "text/plain": [
       "                    sku_id country  \\\n",
       "0         AD674FAASTLXANMY      my   \n",
       "34432   UN308HLAA50AL9ANPH      ph   \n",
       "10459   LE311HLAA9FQ2RANMY      my   \n",
       "28708  OE702ELAA6FHBRSGAMZ      sg   \n",
       "31161  OE702HLAA59O6YSGAMZ      sg   \n",
       "...                    ...     ...   \n",
       "12349   UN308HBAA4FG8GANPH      ph   \n",
       "12348   UN308FAAA4K950ANPH      ph   \n",
       "12347   UN308FAAA40DX5ANPH      ph   \n",
       "12346   UN308ELAA1G7A9ANPH      ph   \n",
       "36282  ZO445ELAA848V9SGAMZ      sg   \n",
       "\n",
       "                                                   title  \\\n",
       "0           adana galleri suri squar hijab – light pink    \n",
       "34432  100 led string light solar christma light 8 mo...   \n",
       "10459  leegoal solar deck light wall mount waterproof...   \n",
       "28708  mini portabl photographi studio light tent fol...   \n",
       "31161  starri night light lamp,color led moon ski sta...   \n",
       "...                                                  ...   \n",
       "12349  calvin klein ck one eau de toilett for unisex ...   \n",
       "12348                        bob marley t-shirt (black)    \n",
       "12347  pair of men' fashion flat heel slip on drive c...   \n",
       "12346  silicon keyboard cover skin for appl macbook p...   \n",
       "36282  new smart wristband d21 smart bracelet heart r...   \n",
       "\n",
       "                                         new_description    price  \\\n",
       "0      materi non sheer shimmer chiffon size 52x52 in...    49.00   \n",
       "34432  waterproof suitabl for indoor and outdoor use/...   902.70   \n",
       "10459  solar power solar panel can faster absorb sun ...    49.90   \n",
       "28708  materi pp light room + eva backdrop light room...    12.00   \n",
       "31161  newest generation--- there are 4 pc led bead o...    18.77   \n",
       "...                                                  ...      ...   \n",
       "12349  eau de toilett share fragranc for men and wome...  1099.00   \n",
       "12348  brand new never been worn merchandis 100% cott...   630.00   \n",
       "12347  leather pu leather soft and suppl pu leather r...  2275.89   \n",
       "12346  100% brand new and high quality/ type keyboard...   289.00   \n",
       "36282  compat requir android 4/3 or abov io 7/0 or ab...    31.00   \n",
       "\n",
       "        product_type                         category_lvl_1  \\\n",
       "0              local                                Fashion   \n",
       "34432          local                          Home & Living   \n",
       "10459  international                          Home & Living   \n",
       "28708  international                                Cameras   \n",
       "31161  international                          Home & Living   \n",
       "...              ...                                    ...   \n",
       "12349          local                        Health & Beauty   \n",
       "12348          local                                Fashion   \n",
       "12347  international                                Fashion   \n",
       "12346          local                    Computers & Laptops   \n",
       "36282  international  TV, Audio / Video, Gaming & Wearables   \n",
       "\n",
       "             category_lvl_2  \\\n",
       "0                     Women   \n",
       "34432              Lighting   \n",
       "10459              Lighting   \n",
       "28708    Camera Accessories   \n",
       "31161              Lighting   \n",
       "...                     ...   \n",
       "12349            Fragrances   \n",
       "12348                   Men   \n",
       "12347                   Men   \n",
       "12346  Computer Accessories   \n",
       "36282   Wearable Technology   \n",
       "\n",
       "                                          category_lvl_3  clarity  \\\n",
       "0                                          Fashion Women        1   \n",
       "34432                             Home & Living Lighting        1   \n",
       "10459                             Home & Living Lighting        1   \n",
       "28708                         Cameras Camera Accessories        1   \n",
       "31161                             Home & Living Lighting        1   \n",
       "...                                                  ...      ...   \n",
       "12349                         Health & Beauty Fragrances        1   \n",
       "12348                                        Fashion Men        1   \n",
       "12347                                        Fashion Men        1   \n",
       "12346           Computers & Laptops Computer Accessories        1   \n",
       "36282  TV, Audio / Video, Gaming & Wearables Wearable...        1   \n",
       "\n",
       "       conciseness  title_tfidf_scores  \n",
       "0                1            2.513704  \n",
       "34432            0            0.837171  \n",
       "10459            0            0.837171  \n",
       "28708            0            0.837171  \n",
       "31161            0            0.831977  \n",
       "...            ...                 ...  \n",
       "12349            1            0.000000  \n",
       "12348            1            0.000000  \n",
       "12347            0            0.000000  \n",
       "12346            1            0.000000  \n",
       "36282            0            0.000000  \n",
       "\n",
       "[36283 rows x 12 columns]"
      ],
      "text/html": "<div>\n<style scoped>\n    .dataframe tbody tr th:only-of-type {\n        vertical-align: middle;\n    }\n\n    .dataframe tbody tr th {\n        vertical-align: top;\n    }\n\n    .dataframe thead th {\n        text-align: right;\n    }\n</style>\n<table border=\"1\" class=\"dataframe\">\n  <thead>\n    <tr style=\"text-align: right;\">\n      <th></th>\n      <th>sku_id</th>\n      <th>country</th>\n      <th>title</th>\n      <th>new_description</th>\n      <th>price</th>\n      <th>product_type</th>\n      <th>category_lvl_1</th>\n      <th>category_lvl_2</th>\n      <th>category_lvl_3</th>\n      <th>clarity</th>\n      <th>conciseness</th>\n      <th>title_tfidf_scores</th>\n    </tr>\n  </thead>\n  <tbody>\n    <tr>\n      <th>0</th>\n      <td>AD674FAASTLXANMY</td>\n      <td>my</td>\n      <td>adana galleri suri squar hijab – light pink</td>\n      <td>materi non sheer shimmer chiffon size 52x52 in...</td>\n      <td>49.00</td>\n      <td>local</td>\n      <td>Fashion</td>\n      <td>Women</td>\n      <td>Fashion Women</td>\n      <td>1</td>\n      <td>1</td>\n      <td>2.513704</td>\n    </tr>\n    <tr>\n      <th>34432</th>\n      <td>UN308HLAA50AL9ANPH</td>\n      <td>ph</td>\n      <td>100 led string light solar christma light 8 mo...</td>\n      <td>waterproof suitabl for indoor and outdoor use/...</td>\n      <td>902.70</td>\n      <td>local</td>\n      <td>Home &amp; Living</td>\n      <td>Lighting</td>\n      <td>Home &amp; Living Lighting</td>\n      <td>1</td>\n      <td>0</td>\n      <td>0.837171</td>\n    </tr>\n    <tr>\n      <th>10459</th>\n      <td>LE311HLAA9FQ2RANMY</td>\n      <td>my</td>\n      <td>leegoal solar deck light wall mount waterproof...</td>\n      <td>solar power solar panel can faster absorb sun ...</td>\n      <td>49.90</td>\n      <td>international</td>\n      <td>Home &amp; Living</td>\n      <td>Lighting</td>\n      <td>Home &amp; Living Lighting</td>\n      <td>1</td>\n      <td>0</td>\n      <td>0.837171</td>\n    </tr>\n    <tr>\n      <th>28708</th>\n      <td>OE702ELAA6FHBRSGAMZ</td>\n      <td>sg</td>\n      <td>mini portabl photographi studio light tent fol...</td>\n      <td>materi pp light room + eva backdrop light room...</td>\n      <td>12.00</td>\n      <td>international</td>\n      <td>Cameras</td>\n      <td>Camera Accessories</td>\n      <td>Cameras Camera Accessories</td>\n      <td>1</td>\n      <td>0</td>\n      <td>0.837171</td>\n    </tr>\n    <tr>\n      <th>31161</th>\n      <td>OE702HLAA59O6YSGAMZ</td>\n      <td>sg</td>\n      <td>starri night light lamp,color led moon ski sta...</td>\n      <td>newest generation--- there are 4 pc led bead o...</td>\n      <td>18.77</td>\n      <td>international</td>\n      <td>Home &amp; Living</td>\n      <td>Lighting</td>\n      <td>Home &amp; Living Lighting</td>\n      <td>1</td>\n      <td>0</td>\n      <td>0.831977</td>\n    </tr>\n    <tr>\n      <th>...</th>\n      <td>...</td>\n      <td>...</td>\n      <td>...</td>\n      <td>...</td>\n      <td>...</td>\n      <td>...</td>\n      <td>...</td>\n      <td>...</td>\n      <td>...</td>\n      <td>...</td>\n      <td>...</td>\n      <td>...</td>\n    </tr>\n    <tr>\n      <th>12349</th>\n      <td>UN308HBAA4FG8GANPH</td>\n      <td>ph</td>\n      <td>calvin klein ck one eau de toilett for unisex ...</td>\n      <td>eau de toilett share fragranc for men and wome...</td>\n      <td>1099.00</td>\n      <td>local</td>\n      <td>Health &amp; Beauty</td>\n      <td>Fragrances</td>\n      <td>Health &amp; Beauty Fragrances</td>\n      <td>1</td>\n      <td>1</td>\n      <td>0.000000</td>\n    </tr>\n    <tr>\n      <th>12348</th>\n      <td>UN308FAAA4K950ANPH</td>\n      <td>ph</td>\n      <td>bob marley t-shirt (black)</td>\n      <td>brand new never been worn merchandis 100% cott...</td>\n      <td>630.00</td>\n      <td>local</td>\n      <td>Fashion</td>\n      <td>Men</td>\n      <td>Fashion Men</td>\n      <td>1</td>\n      <td>1</td>\n      <td>0.000000</td>\n    </tr>\n    <tr>\n      <th>12347</th>\n      <td>UN308FAAA40DX5ANPH</td>\n      <td>ph</td>\n      <td>pair of men' fashion flat heel slip on drive c...</td>\n      <td>leather pu leather soft and suppl pu leather r...</td>\n      <td>2275.89</td>\n      <td>international</td>\n      <td>Fashion</td>\n      <td>Men</td>\n      <td>Fashion Men</td>\n      <td>1</td>\n      <td>0</td>\n      <td>0.000000</td>\n    </tr>\n    <tr>\n      <th>12346</th>\n      <td>UN308ELAA1G7A9ANPH</td>\n      <td>ph</td>\n      <td>silicon keyboard cover skin for appl macbook p...</td>\n      <td>100% brand new and high quality/ type keyboard...</td>\n      <td>289.00</td>\n      <td>local</td>\n      <td>Computers &amp; Laptops</td>\n      <td>Computer Accessories</td>\n      <td>Computers &amp; Laptops Computer Accessories</td>\n      <td>1</td>\n      <td>1</td>\n      <td>0.000000</td>\n    </tr>\n    <tr>\n      <th>36282</th>\n      <td>ZO445ELAA848V9SGAMZ</td>\n      <td>sg</td>\n      <td>new smart wristband d21 smart bracelet heart r...</td>\n      <td>compat requir android 4/3 or abov io 7/0 or ab...</td>\n      <td>31.00</td>\n      <td>international</td>\n      <td>TV, Audio / Video, Gaming &amp; Wearables</td>\n      <td>Wearable Technology</td>\n      <td>TV, Audio / Video, Gaming &amp; Wearables Wearable...</td>\n      <td>1</td>\n      <td>0</td>\n      <td>0.000000</td>\n    </tr>\n  </tbody>\n</table>\n<p>36283 rows × 12 columns</p>\n</div>"
     },
     "metadata": {},
     "execution_count": 236
    }
   ],
   "source": [
    "training_data.sort_values(by = [\"title_tfidf_scores\"], ascending = False)"
   ]
  },
  {
   "source": [
    "## Bigrams"
   ],
   "cell_type": "markdown",
   "metadata": {}
  },
  {
   "source": [
    "Stackoverflow zindabad, [Forming Bigrams of words in list of sentences with Python](https://stackoverflow.com/questions/21844546/forming-bigrams-of-words-in-list-of-sentences-with-python)"
   ],
   "cell_type": "markdown",
   "metadata": {}
  },
  {
   "cell_type": "code",
   "execution_count": null,
   "metadata": {},
   "outputs": [],
   "source": [
    ">>> text = [\"this is a sentence\", \"so is this one\"]\n",
    ">>> bigrams = [b for l in text for b in zip(l.split(\" \")[:-1], l.split(\" \")[1:])]\n",
    ">>> print(bigrams)"
   ]
  },
  {
   "source": [
    "## Label Encoding"
   ],
   "cell_type": "markdown",
   "metadata": {}
  },
  {
   "cell_type": "code",
   "execution_count": 237,
   "metadata": {},
   "outputs": [],
   "source": [
    "le = LabelEncoder()\n",
    "\n",
    "for column in ['sku_id', 'country', 'category_lvl_1', 'category_lvl_2', 'category_lvl_3', 'product_type']:\n",
    "    le.fit(training_data[column])\n",
    "    training_data[column + '_encoded'] = le.transform(training_data[column])\n"
   ]
  },
  {
   "cell_type": "code",
   "execution_count": 238,
   "metadata": {},
   "outputs": [],
   "source": [
    "column_names = ['sku_id', 'country', 'title', 'new_description', 'price', 'product_type', 'category_lvl_1', 'category_lvl_2', 'category_lvl_3', 'sku_id_encoded', 'country_encoded', 'category_lvl_1_encoded', 'category_lvl_2_encoded', 'category_lvl_3_encoded', 'product_type_encoded', 'clarity', 'conciseness']\n",
    "\n",
    "training_data = training_data.reindex(columns=column_names)"
   ]
  },
  {
   "cell_type": "code",
   "execution_count": 239,
   "metadata": {},
   "outputs": [
    {
     "output_type": "execute_result",
     "data": {
      "text/plain": [
       "                    sku_id country  \\\n",
       "0         AD674FAASTLXANMY      my   \n",
       "1       AE068HBAA3RPRDANMY      my   \n",
       "2       AN680ELAA9VN57ANMY      my   \n",
       "3       AN957HBAAAHDF4ANMY      my   \n",
       "4         AR511HBAXNWAANMY      my   \n",
       "...                    ...     ...   \n",
       "36278  SA584ELAA4G4W0SGAMZ      sg   \n",
       "36279  SO499HAAA4CCLASGAMZ      sg   \n",
       "36280  TI990ELAA5ZV1JSGAMZ      sg   \n",
       "36281  WO203HLAA3KFPCSGAMZ      sg   \n",
       "36282  ZO445ELAA848V9SGAMZ      sg   \n",
       "\n",
       "                                                   title  \\\n",
       "0           adana galleri suri squar hijab – light pink    \n",
       "1       cuba heartbreak eau de parfum spray 100ml/3.3oz    \n",
       "2      andoer 150cm cellphon smartphon mini dual-head...   \n",
       "3      anmyna complaint silki set 柔顺洗发配套 (shampoo 520...   \n",
       "4      argit argiltubo green clay for face and bodi 2...   \n",
       "...                                                  ...   \n",
       "36278  sade k10 led backlit wire usb mechan game keyb...   \n",
       "36279                     sona 20l electr oven seo 2220    \n",
       "36280  op1001 portabl wireless bluetooth 2.1 speaker ...   \n",
       "36281            woot-woot tictacto pillow case (white)    \n",
       "36282  new smart wristband d21 smart bracelet heart r...   \n",
       "\n",
       "                                         new_description   price  \\\n",
       "0      materi non sheer shimmer chiffon size 52x52 in...   49.00   \n",
       "1      formul with oil-fre hydrat botan remark improv...  128.00   \n",
       "2      150cm mini microphon compat for iphon variou s...   25.07   \n",
       "3      anmyna complaint silki set (shampoo 520ml + co...  118.00   \n",
       "4      100% authent rrefresh and brighten skin anti-w...  114.80   \n",
       "...                                                  ...     ...   \n",
       "36278  no driver needed/blu switch is the core of the...   67.09   \n",
       "36279  2 year warranti thermal fuse safeti protect 6 ...   69.00   \n",
       "36280  with color light on the button light up your m...   35.00   \n",
       "36281  100% cotton safe for sensit skin cool and comf...   23.00   \n",
       "36282  compat requir android 4/3 or abov io 7/0 or ab...   31.00   \n",
       "\n",
       "        product_type                         category_lvl_1  \\\n",
       "0              local                                Fashion   \n",
       "1      international                        Health & Beauty   \n",
       "2      international  TV, Audio / Video, Gaming & Wearables   \n",
       "3              local                        Health & Beauty   \n",
       "4      international                        Health & Beauty   \n",
       "...              ...                                    ...   \n",
       "36278  international                    Computers & Laptops   \n",
       "36279          local                        Home Appliances   \n",
       "36280  international                    Computers & Laptops   \n",
       "36281          local                          Home & Living   \n",
       "36282  international  TV, Audio / Video, Gaming & Wearables   \n",
       "\n",
       "             category_lvl_2  \\\n",
       "0                     Women   \n",
       "1               Bath & Body   \n",
       "2                     Audio   \n",
       "3                 Hair Care   \n",
       "4                Men's Care   \n",
       "...                     ...   \n",
       "36278  Computer Accessories   \n",
       "36279      Large Appliances   \n",
       "36280  Computer Accessories   \n",
       "36281               Bedding   \n",
       "36282   Wearable Technology   \n",
       "\n",
       "                                          category_lvl_3  sku_id_encoded  \\\n",
       "0                                          Fashion Women             338   \n",
       "1                            Health & Beauty Bath & Body             350   \n",
       "2            TV, Audio / Video, Gaming & Wearables Audio             661   \n",
       "3                              Health & Beauty Hair Care             684   \n",
       "4                             Health & Beauty Men's Care             883   \n",
       "...                                                  ...             ...   \n",
       "36278           Computers & Laptops Computer Accessories           30801   \n",
       "36279                   Home Appliances Large Appliances           31916   \n",
       "36280           Computers & Laptops Computer Accessories           32710   \n",
       "36281                              Home & Living Bedding           35365   \n",
       "36282  TV, Audio / Video, Gaming & Wearables Wearable...           36203   \n",
       "\n",
       "       country_encoded  category_lvl_1_encoded  category_lvl_2_encoded  \\\n",
       "0                    0                       2                      56   \n",
       "1                    0                       3                       3   \n",
       "2                    0                       7                       1   \n",
       "3                    0                       3                      23   \n",
       "4                    0                       3                      36   \n",
       "...                ...                     ...                     ...   \n",
       "36278                2                       1                       8   \n",
       "36279                2                       5                      30   \n",
       "36280                2                       1                       8   \n",
       "36281                2                       4                       5   \n",
       "36282                2                       7                      55   \n",
       "\n",
       "       category_lvl_3_encoded  product_type_encoded  clarity  conciseness  \n",
       "0                          18                     1        1            1  \n",
       "1                          19                     0        1            1  \n",
       "2                          47                     0        1            0  \n",
       "3                          23                     1        1            1  \n",
       "4                          26                     0        1            1  \n",
       "...                       ...                   ...      ...          ...  \n",
       "36278                       8                     0        1            1  \n",
       "36279                      42                     1        1            1  \n",
       "36280                       8                     0        1            0  \n",
       "36281                      30                     1        1            1  \n",
       "36282                      53                     0        1            0  \n",
       "\n",
       "[36283 rows x 17 columns]"
      ],
      "text/html": "<div>\n<style scoped>\n    .dataframe tbody tr th:only-of-type {\n        vertical-align: middle;\n    }\n\n    .dataframe tbody tr th {\n        vertical-align: top;\n    }\n\n    .dataframe thead th {\n        text-align: right;\n    }\n</style>\n<table border=\"1\" class=\"dataframe\">\n  <thead>\n    <tr style=\"text-align: right;\">\n      <th></th>\n      <th>sku_id</th>\n      <th>country</th>\n      <th>title</th>\n      <th>new_description</th>\n      <th>price</th>\n      <th>product_type</th>\n      <th>category_lvl_1</th>\n      <th>category_lvl_2</th>\n      <th>category_lvl_3</th>\n      <th>sku_id_encoded</th>\n      <th>country_encoded</th>\n      <th>category_lvl_1_encoded</th>\n      <th>category_lvl_2_encoded</th>\n      <th>category_lvl_3_encoded</th>\n      <th>product_type_encoded</th>\n      <th>clarity</th>\n      <th>conciseness</th>\n    </tr>\n  </thead>\n  <tbody>\n    <tr>\n      <th>0</th>\n      <td>AD674FAASTLXANMY</td>\n      <td>my</td>\n      <td>adana galleri suri squar hijab – light pink</td>\n      <td>materi non sheer shimmer chiffon size 52x52 in...</td>\n      <td>49.00</td>\n      <td>local</td>\n      <td>Fashion</td>\n      <td>Women</td>\n      <td>Fashion Women</td>\n      <td>338</td>\n      <td>0</td>\n      <td>2</td>\n      <td>56</td>\n      <td>18</td>\n      <td>1</td>\n      <td>1</td>\n      <td>1</td>\n    </tr>\n    <tr>\n      <th>1</th>\n      <td>AE068HBAA3RPRDANMY</td>\n      <td>my</td>\n      <td>cuba heartbreak eau de parfum spray 100ml/3.3oz</td>\n      <td>formul with oil-fre hydrat botan remark improv...</td>\n      <td>128.00</td>\n      <td>international</td>\n      <td>Health &amp; Beauty</td>\n      <td>Bath &amp; Body</td>\n      <td>Health &amp; Beauty Bath &amp; Body</td>\n      <td>350</td>\n      <td>0</td>\n      <td>3</td>\n      <td>3</td>\n      <td>19</td>\n      <td>0</td>\n      <td>1</td>\n      <td>1</td>\n    </tr>\n    <tr>\n      <th>2</th>\n      <td>AN680ELAA9VN57ANMY</td>\n      <td>my</td>\n      <td>andoer 150cm cellphon smartphon mini dual-head...</td>\n      <td>150cm mini microphon compat for iphon variou s...</td>\n      <td>25.07</td>\n      <td>international</td>\n      <td>TV, Audio / Video, Gaming &amp; Wearables</td>\n      <td>Audio</td>\n      <td>TV, Audio / Video, Gaming &amp; Wearables Audio</td>\n      <td>661</td>\n      <td>0</td>\n      <td>7</td>\n      <td>1</td>\n      <td>47</td>\n      <td>0</td>\n      <td>1</td>\n      <td>0</td>\n    </tr>\n    <tr>\n      <th>3</th>\n      <td>AN957HBAAAHDF4ANMY</td>\n      <td>my</td>\n      <td>anmyna complaint silki set 柔顺洗发配套 (shampoo 520...</td>\n      <td>anmyna complaint silki set (shampoo 520ml + co...</td>\n      <td>118.00</td>\n      <td>local</td>\n      <td>Health &amp; Beauty</td>\n      <td>Hair Care</td>\n      <td>Health &amp; Beauty Hair Care</td>\n      <td>684</td>\n      <td>0</td>\n      <td>3</td>\n      <td>23</td>\n      <td>23</td>\n      <td>1</td>\n      <td>1</td>\n      <td>1</td>\n    </tr>\n    <tr>\n      <th>4</th>\n      <td>AR511HBAXNWAANMY</td>\n      <td>my</td>\n      <td>argit argiltubo green clay for face and bodi 2...</td>\n      <td>100% authent rrefresh and brighten skin anti-w...</td>\n      <td>114.80</td>\n      <td>international</td>\n      <td>Health &amp; Beauty</td>\n      <td>Men's Care</td>\n      <td>Health &amp; Beauty Men's Care</td>\n      <td>883</td>\n      <td>0</td>\n      <td>3</td>\n      <td>36</td>\n      <td>26</td>\n      <td>0</td>\n      <td>1</td>\n      <td>1</td>\n    </tr>\n    <tr>\n      <th>...</th>\n      <td>...</td>\n      <td>...</td>\n      <td>...</td>\n      <td>...</td>\n      <td>...</td>\n      <td>...</td>\n      <td>...</td>\n      <td>...</td>\n      <td>...</td>\n      <td>...</td>\n      <td>...</td>\n      <td>...</td>\n      <td>...</td>\n      <td>...</td>\n      <td>...</td>\n      <td>...</td>\n      <td>...</td>\n    </tr>\n    <tr>\n      <th>36278</th>\n      <td>SA584ELAA4G4W0SGAMZ</td>\n      <td>sg</td>\n      <td>sade k10 led backlit wire usb mechan game keyb...</td>\n      <td>no driver needed/blu switch is the core of the...</td>\n      <td>67.09</td>\n      <td>international</td>\n      <td>Computers &amp; Laptops</td>\n      <td>Computer Accessories</td>\n      <td>Computers &amp; Laptops Computer Accessories</td>\n      <td>30801</td>\n      <td>2</td>\n      <td>1</td>\n      <td>8</td>\n      <td>8</td>\n      <td>0</td>\n      <td>1</td>\n      <td>1</td>\n    </tr>\n    <tr>\n      <th>36279</th>\n      <td>SO499HAAA4CCLASGAMZ</td>\n      <td>sg</td>\n      <td>sona 20l electr oven seo 2220</td>\n      <td>2 year warranti thermal fuse safeti protect 6 ...</td>\n      <td>69.00</td>\n      <td>local</td>\n      <td>Home Appliances</td>\n      <td>Large Appliances</td>\n      <td>Home Appliances Large Appliances</td>\n      <td>31916</td>\n      <td>2</td>\n      <td>5</td>\n      <td>30</td>\n      <td>42</td>\n      <td>1</td>\n      <td>1</td>\n      <td>1</td>\n    </tr>\n    <tr>\n      <th>36280</th>\n      <td>TI990ELAA5ZV1JSGAMZ</td>\n      <td>sg</td>\n      <td>op1001 portabl wireless bluetooth 2.1 speaker ...</td>\n      <td>with color light on the button light up your m...</td>\n      <td>35.00</td>\n      <td>international</td>\n      <td>Computers &amp; Laptops</td>\n      <td>Computer Accessories</td>\n      <td>Computers &amp; Laptops Computer Accessories</td>\n      <td>32710</td>\n      <td>2</td>\n      <td>1</td>\n      <td>8</td>\n      <td>8</td>\n      <td>0</td>\n      <td>1</td>\n      <td>0</td>\n    </tr>\n    <tr>\n      <th>36281</th>\n      <td>WO203HLAA3KFPCSGAMZ</td>\n      <td>sg</td>\n      <td>woot-woot tictacto pillow case (white)</td>\n      <td>100% cotton safe for sensit skin cool and comf...</td>\n      <td>23.00</td>\n      <td>local</td>\n      <td>Home &amp; Living</td>\n      <td>Bedding</td>\n      <td>Home &amp; Living Bedding</td>\n      <td>35365</td>\n      <td>2</td>\n      <td>4</td>\n      <td>5</td>\n      <td>30</td>\n      <td>1</td>\n      <td>1</td>\n      <td>1</td>\n    </tr>\n    <tr>\n      <th>36282</th>\n      <td>ZO445ELAA848V9SGAMZ</td>\n      <td>sg</td>\n      <td>new smart wristband d21 smart bracelet heart r...</td>\n      <td>compat requir android 4/3 or abov io 7/0 or ab...</td>\n      <td>31.00</td>\n      <td>international</td>\n      <td>TV, Audio / Video, Gaming &amp; Wearables</td>\n      <td>Wearable Technology</td>\n      <td>TV, Audio / Video, Gaming &amp; Wearables Wearable...</td>\n      <td>36203</td>\n      <td>2</td>\n      <td>7</td>\n      <td>55</td>\n      <td>53</td>\n      <td>0</td>\n      <td>1</td>\n      <td>0</td>\n    </tr>\n  </tbody>\n</table>\n<p>36283 rows × 17 columns</p>\n</div>"
     },
     "metadata": {},
     "execution_count": 239
    }
   ],
   "source": [
    "training_data"
   ]
  },
  {
   "source": [
    "# Data Exploration "
   ],
   "cell_type": "markdown",
   "metadata": {}
  },
  {
   "cell_type": "code",
   "execution_count": 240,
   "metadata": {
    "tags": []
   },
   "outputs": [
    {
     "output_type": "stream",
     "name": "stdout",
     "text": [
      "sku_id 36283\ncountry 3\ntitle 36283\nnew_description 29900\nprice 10108\nproduct_type 3\ncategory_lvl_1 9\ncategory_lvl_2 57\ncategory_lvl_3 57\nsku_id_encoded 36283\ncountry_encoded 3\ncategory_lvl_1_encoded 9\ncategory_lvl_2_encoded 57\ncategory_lvl_3_encoded 57\nproduct_type_encoded 3\nclarity 2\nconciseness 2\n"
     ]
    }
   ],
   "source": [
    "printColumnWithUnique(training_data)"
   ]
  },
  {
   "cell_type": "code",
   "execution_count": 241,
   "metadata": {},
   "outputs": [
    {
     "output_type": "execute_result",
     "data": {
      "text/plain": [
       "                           price  sku_id_encoded  country_encoded  \\\n",
       "price                   1.000000        0.003075        -0.001822   \n",
       "sku_id_encoded          0.003075        1.000000         0.042360   \n",
       "country_encoded        -0.001822        0.042360         1.000000   \n",
       "category_lvl_1_encoded -0.001612        0.019771        -0.011026   \n",
       "category_lvl_2_encoded  0.008654       -0.013524         0.037945   \n",
       "category_lvl_3_encoded -0.000720        0.023094        -0.008208   \n",
       "product_type_encoded    0.004448       -0.037144        -0.023860   \n",
       "clarity                 0.003322       -0.020436         0.007224   \n",
       "conciseness             0.009616       -0.055981         0.018295   \n",
       "\n",
       "                        category_lvl_1_encoded  category_lvl_2_encoded  \\\n",
       "price                                -0.001612                0.008654   \n",
       "sku_id_encoded                        0.019771               -0.013524   \n",
       "country_encoded                      -0.011026                0.037945   \n",
       "category_lvl_1_encoded                1.000000               -0.182661   \n",
       "category_lvl_2_encoded               -0.182661                1.000000   \n",
       "category_lvl_3_encoded                0.988070               -0.117067   \n",
       "product_type_encoded                 -0.059205               -0.029992   \n",
       "clarity                               0.051223               -0.190944   \n",
       "conciseness                          -0.013226               -0.200248   \n",
       "\n",
       "                        category_lvl_3_encoded  product_type_encoded  \\\n",
       "price                                -0.000720              0.004448   \n",
       "sku_id_encoded                        0.023094             -0.037144   \n",
       "country_encoded                      -0.008208             -0.023860   \n",
       "category_lvl_1_encoded                0.988070             -0.059205   \n",
       "category_lvl_2_encoded               -0.117067             -0.029992   \n",
       "category_lvl_3_encoded                1.000000             -0.054029   \n",
       "product_type_encoded                 -0.054029              1.000000   \n",
       "clarity                               0.053964              0.093544   \n",
       "conciseness                          -0.011615              0.277961   \n",
       "\n",
       "                         clarity  conciseness  \n",
       "price                   0.003322     0.009616  \n",
       "sku_id_encoded         -0.020436    -0.055981  \n",
       "country_encoded         0.007224     0.018295  \n",
       "category_lvl_1_encoded  0.051223    -0.013226  \n",
       "category_lvl_2_encoded -0.190944    -0.200248  \n",
       "category_lvl_3_encoded  0.053964    -0.011615  \n",
       "product_type_encoded    0.093544     0.277961  \n",
       "clarity                 1.000000     0.361611  \n",
       "conciseness             0.361611     1.000000  "
      ],
      "text/html": "<div>\n<style scoped>\n    .dataframe tbody tr th:only-of-type {\n        vertical-align: middle;\n    }\n\n    .dataframe tbody tr th {\n        vertical-align: top;\n    }\n\n    .dataframe thead th {\n        text-align: right;\n    }\n</style>\n<table border=\"1\" class=\"dataframe\">\n  <thead>\n    <tr style=\"text-align: right;\">\n      <th></th>\n      <th>price</th>\n      <th>sku_id_encoded</th>\n      <th>country_encoded</th>\n      <th>category_lvl_1_encoded</th>\n      <th>category_lvl_2_encoded</th>\n      <th>category_lvl_3_encoded</th>\n      <th>product_type_encoded</th>\n      <th>clarity</th>\n      <th>conciseness</th>\n    </tr>\n  </thead>\n  <tbody>\n    <tr>\n      <th>price</th>\n      <td>1.000000</td>\n      <td>0.003075</td>\n      <td>-0.001822</td>\n      <td>-0.001612</td>\n      <td>0.008654</td>\n      <td>-0.000720</td>\n      <td>0.004448</td>\n      <td>0.003322</td>\n      <td>0.009616</td>\n    </tr>\n    <tr>\n      <th>sku_id_encoded</th>\n      <td>0.003075</td>\n      <td>1.000000</td>\n      <td>0.042360</td>\n      <td>0.019771</td>\n      <td>-0.013524</td>\n      <td>0.023094</td>\n      <td>-0.037144</td>\n      <td>-0.020436</td>\n      <td>-0.055981</td>\n    </tr>\n    <tr>\n      <th>country_encoded</th>\n      <td>-0.001822</td>\n      <td>0.042360</td>\n      <td>1.000000</td>\n      <td>-0.011026</td>\n      <td>0.037945</td>\n      <td>-0.008208</td>\n      <td>-0.023860</td>\n      <td>0.007224</td>\n      <td>0.018295</td>\n    </tr>\n    <tr>\n      <th>category_lvl_1_encoded</th>\n      <td>-0.001612</td>\n      <td>0.019771</td>\n      <td>-0.011026</td>\n      <td>1.000000</td>\n      <td>-0.182661</td>\n      <td>0.988070</td>\n      <td>-0.059205</td>\n      <td>0.051223</td>\n      <td>-0.013226</td>\n    </tr>\n    <tr>\n      <th>category_lvl_2_encoded</th>\n      <td>0.008654</td>\n      <td>-0.013524</td>\n      <td>0.037945</td>\n      <td>-0.182661</td>\n      <td>1.000000</td>\n      <td>-0.117067</td>\n      <td>-0.029992</td>\n      <td>-0.190944</td>\n      <td>-0.200248</td>\n    </tr>\n    <tr>\n      <th>category_lvl_3_encoded</th>\n      <td>-0.000720</td>\n      <td>0.023094</td>\n      <td>-0.008208</td>\n      <td>0.988070</td>\n      <td>-0.117067</td>\n      <td>1.000000</td>\n      <td>-0.054029</td>\n      <td>0.053964</td>\n      <td>-0.011615</td>\n    </tr>\n    <tr>\n      <th>product_type_encoded</th>\n      <td>0.004448</td>\n      <td>-0.037144</td>\n      <td>-0.023860</td>\n      <td>-0.059205</td>\n      <td>-0.029992</td>\n      <td>-0.054029</td>\n      <td>1.000000</td>\n      <td>0.093544</td>\n      <td>0.277961</td>\n    </tr>\n    <tr>\n      <th>clarity</th>\n      <td>0.003322</td>\n      <td>-0.020436</td>\n      <td>0.007224</td>\n      <td>0.051223</td>\n      <td>-0.190944</td>\n      <td>0.053964</td>\n      <td>0.093544</td>\n      <td>1.000000</td>\n      <td>0.361611</td>\n    </tr>\n    <tr>\n      <th>conciseness</th>\n      <td>0.009616</td>\n      <td>-0.055981</td>\n      <td>0.018295</td>\n      <td>-0.013226</td>\n      <td>-0.200248</td>\n      <td>-0.011615</td>\n      <td>0.277961</td>\n      <td>0.361611</td>\n      <td>1.000000</td>\n    </tr>\n  </tbody>\n</table>\n</div>"
     },
     "metadata": {},
     "execution_count": 241
    }
   ],
   "source": [
    "training_data.corr()"
   ]
  },
  {
   "cell_type": "code",
   "execution_count": 242,
   "metadata": {},
   "outputs": [],
   "source": [
    "corr_data = training_data[['country_encoded', 'category_lvl_1_encoded', 'category_lvl_2_encoded', 'category_lvl_3_encoded', 'product_type_encoded', 'clarity', 'conciseness']]"
   ]
  },
  {
   "cell_type": "code",
   "execution_count": 243,
   "metadata": {},
   "outputs": [
    {
     "output_type": "execute_result",
     "data": {
      "text/plain": [
       "       country_encoded  category_lvl_1_encoded  category_lvl_2_encoded  \\\n",
       "0                    0                       2                      56   \n",
       "1                    0                       3                       3   \n",
       "2                    0                       7                       1   \n",
       "3                    0                       3                      23   \n",
       "4                    0                       3                      36   \n",
       "...                ...                     ...                     ...   \n",
       "36278                2                       1                       8   \n",
       "36279                2                       5                      30   \n",
       "36280                2                       1                       8   \n",
       "36281                2                       4                       5   \n",
       "36282                2                       7                      55   \n",
       "\n",
       "       category_lvl_3_encoded  product_type_encoded  clarity  conciseness  \n",
       "0                          18                     1        1            1  \n",
       "1                          19                     0        1            1  \n",
       "2                          47                     0        1            0  \n",
       "3                          23                     1        1            1  \n",
       "4                          26                     0        1            1  \n",
       "...                       ...                   ...      ...          ...  \n",
       "36278                       8                     0        1            1  \n",
       "36279                      42                     1        1            1  \n",
       "36280                       8                     0        1            0  \n",
       "36281                      30                     1        1            1  \n",
       "36282                      53                     0        1            0  \n",
       "\n",
       "[36283 rows x 7 columns]"
      ],
      "text/html": "<div>\n<style scoped>\n    .dataframe tbody tr th:only-of-type {\n        vertical-align: middle;\n    }\n\n    .dataframe tbody tr th {\n        vertical-align: top;\n    }\n\n    .dataframe thead th {\n        text-align: right;\n    }\n</style>\n<table border=\"1\" class=\"dataframe\">\n  <thead>\n    <tr style=\"text-align: right;\">\n      <th></th>\n      <th>country_encoded</th>\n      <th>category_lvl_1_encoded</th>\n      <th>category_lvl_2_encoded</th>\n      <th>category_lvl_3_encoded</th>\n      <th>product_type_encoded</th>\n      <th>clarity</th>\n      <th>conciseness</th>\n    </tr>\n  </thead>\n  <tbody>\n    <tr>\n      <th>0</th>\n      <td>0</td>\n      <td>2</td>\n      <td>56</td>\n      <td>18</td>\n      <td>1</td>\n      <td>1</td>\n      <td>1</td>\n    </tr>\n    <tr>\n      <th>1</th>\n      <td>0</td>\n      <td>3</td>\n      <td>3</td>\n      <td>19</td>\n      <td>0</td>\n      <td>1</td>\n      <td>1</td>\n    </tr>\n    <tr>\n      <th>2</th>\n      <td>0</td>\n      <td>7</td>\n      <td>1</td>\n      <td>47</td>\n      <td>0</td>\n      <td>1</td>\n      <td>0</td>\n    </tr>\n    <tr>\n      <th>3</th>\n      <td>0</td>\n      <td>3</td>\n      <td>23</td>\n      <td>23</td>\n      <td>1</td>\n      <td>1</td>\n      <td>1</td>\n    </tr>\n    <tr>\n      <th>4</th>\n      <td>0</td>\n      <td>3</td>\n      <td>36</td>\n      <td>26</td>\n      <td>0</td>\n      <td>1</td>\n      <td>1</td>\n    </tr>\n    <tr>\n      <th>...</th>\n      <td>...</td>\n      <td>...</td>\n      <td>...</td>\n      <td>...</td>\n      <td>...</td>\n      <td>...</td>\n      <td>...</td>\n    </tr>\n    <tr>\n      <th>36278</th>\n      <td>2</td>\n      <td>1</td>\n      <td>8</td>\n      <td>8</td>\n      <td>0</td>\n      <td>1</td>\n      <td>1</td>\n    </tr>\n    <tr>\n      <th>36279</th>\n      <td>2</td>\n      <td>5</td>\n      <td>30</td>\n      <td>42</td>\n      <td>1</td>\n      <td>1</td>\n      <td>1</td>\n    </tr>\n    <tr>\n      <th>36280</th>\n      <td>2</td>\n      <td>1</td>\n      <td>8</td>\n      <td>8</td>\n      <td>0</td>\n      <td>1</td>\n      <td>0</td>\n    </tr>\n    <tr>\n      <th>36281</th>\n      <td>2</td>\n      <td>4</td>\n      <td>5</td>\n      <td>30</td>\n      <td>1</td>\n      <td>1</td>\n      <td>1</td>\n    </tr>\n    <tr>\n      <th>36282</th>\n      <td>2</td>\n      <td>7</td>\n      <td>55</td>\n      <td>53</td>\n      <td>0</td>\n      <td>1</td>\n      <td>0</td>\n    </tr>\n  </tbody>\n</table>\n<p>36283 rows × 7 columns</p>\n</div>"
     },
     "metadata": {},
     "execution_count": 243
    }
   ],
   "source": [
    "corr_data"
   ]
  },
  {
   "source": [
    "## Correlation Matrix"
   ],
   "cell_type": "markdown",
   "metadata": {}
  },
  {
   "cell_type": "code",
   "execution_count": 244,
   "metadata": {},
   "outputs": [],
   "source": [
    "corr_matrix = []\n",
    "\n",
    "for idx in range(0, len(corr_data)):\n",
    "    corr_matrix.append(corr_data.loc[idx].tolist())"
   ]
  },
  {
   "cell_type": "code",
   "execution_count": 245,
   "metadata": {},
   "outputs": [
    {
     "output_type": "execute_result",
     "data": {
      "text/plain": [
       "<AxesSubplot:>"
      ]
     },
     "metadata": {},
     "execution_count": 245
    },
    {
     "output_type": "display_data",
     "data": {
      "text/plain": "<Figure size 792x648 with 2 Axes>",
      "image/png": "[encoded data removed]"
     },
     "metadata": {}
    }
   ],
   "source": [
    "sns.set_theme(style=\"white\")\n",
    "\n",
    "# Compute the correlation matrix\n",
    "corr = corr_data.corr()\n",
    "\n",
    "# Generate a mask for the upper triangle\n",
    "mask = np.triu(np.ones_like(corr, dtype=bool))\n",
    "\n",
    "# Set up the matplotlib figure\n",
    "f, ax = plt.subplots(figsize=(11, 9))\n",
    "\n",
    "# Generate a custom diverging colormap\n",
    "cmap = sns.diverging_palette(230, 20, as_cmap=True)\n",
    "\n",
    "# Draw the heatmap with the mask and correct aspect ratio\n",
    "sns.heatmap(corr, mask=mask, cmap=cmap, vmax=.3, center=0,\n",
    "            square=True, linewidths=.5, cbar_kws={\"shrink\": .5})"
   ]
  },
  {
   "source": [
    "## Distributions"
   ],
   "cell_type": "markdown",
   "metadata": {}
  },
  {
   "cell_type": "code",
   "execution_count": 246,
   "metadata": {},
   "outputs": [
    {
     "output_type": "display_data",
     "data": {
      "text/plain": "<Figure size 432x288 with 1 Axes>",
      "image/png": "[encoded data removed]"
     },
     "metadata": {}
    }
   ],
   "source": [
    "fig, ax = plt.subplots()\n",
    "\n",
    "unique_array = training_data['product_type_encoded'].value_counts().array\n",
    "international = unique_array[0]\n",
    "NaN_region = unique_array[2]\n",
    "local = unique_array[1]\n",
    "\n",
    "ax.pie((local, international, NaN_region), labels=['Local', 'International', 'NaN'], autopct='%1.1f%%',\n",
    "        shadow=True, startangle=90)\n",
    "ax.axis('equal')  # Equal aspect ratio ensures that pie is drawn as a circle.\n",
    "\n",
    "plt.show()"
   ]
  },
  {
   "cell_type": "code",
   "execution_count": 247,
   "metadata": {},
   "outputs": [
    {
     "output_type": "display_data",
     "data": {
      "text/plain": "<Figure size 432x288 with 1 Axes>",
      "image/png": "[encoded data removed]"
     },
     "metadata": {}
    }
   ],
   "source": [
    "category_index = training_data['category_lvl_1'].value_counts().reset_index()\n",
    "\n",
    "fig, ax = plt.subplots()\n",
    "\n",
    "labels = []\n",
    "count_for_labels = []\n",
    "\n",
    "for i in range(0, len(category_index)):\n",
    "    labels.append(category_index.iloc[i][0])\n",
    "    count_for_labels.append(category_index.iloc[i][1])\n",
    "\n",
    "ax.pie(count_for_labels, labels=labels, autopct='%1.1f%%',\n",
    "        shadow=True, startangle=90)\n",
    "\n",
    "ax.axis('equal')  # Equal aspect ratio ensures that pie is drawn as a circle.\n",
    "\n",
    "plt.show()\n",
    "\n"
   ]
  },
  {
   "cell_type": "code",
   "execution_count": 248,
   "metadata": {},
   "outputs": [
    {
     "output_type": "display_data",
     "data": {
      "text/plain": "<Figure size 432x288 with 1 Axes>",
      "image/png": "[encoded data removed]"
     },
     "metadata": {}
    }
   ],
   "source": [
    "category_index = training_data['category_lvl_2'].value_counts().reset_index()\n",
    "\n",
    "fig, ax = plt.subplots()\n",
    "\n",
    "labels = []\n",
    "count_for_labels = []\n",
    "\n",
    "for i in range(0, len(category_index)):\n",
    "    labels.append(category_index.iloc[i][0])\n",
    "    count_for_labels.append(category_index.iloc[i][1])\n",
    "\n",
    "ax.pie(count_for_labels, labels=labels, autopct='%1.1f%%',\n",
    "        shadow=True, startangle=90)\n",
    "\n",
    "ax.axis('equal')  # Equal aspect ratio ensures that pie is drawn as a circle.\n",
    "\n",
    "plt.show()\n",
    "\n"
   ]
  },
  {
   "source": [
    "## Outliers"
   ],
   "cell_type": "markdown",
   "metadata": {}
  },
  {
   "cell_type": "code",
   "execution_count": 249,
   "metadata": {},
   "outputs": [
    {
     "output_type": "execute_result",
     "data": {
      "text/plain": [
       "<AxesSubplot:>"
      ]
     },
     "metadata": {},
     "execution_count": 249
    },
    {
     "output_type": "display_data",
     "data": {
      "text/plain": "<Figure size 432x288 with 1 Axes>",
      "image/png": "[encoded data removed]"
     },
     "metadata": {}
    }
   ],
   "source": [
    "training_data['price'].plot()"
   ]
  },
  {
   "cell_type": "code",
   "execution_count": 250,
   "metadata": {},
   "outputs": [
    {
     "output_type": "execute_result",
     "data": {
      "text/plain": [
       "<AxesSubplot:>"
      ]
     },
     "metadata": {},
     "execution_count": 250
    },
    {
     "output_type": "display_data",
     "data": {
      "text/plain": "<Figure size 432x288 with 1 Axes>",
      "image/png": "[encoded data removed]"
     },
     "metadata": {}
    }
   ],
   "source": [
    "training_data[training_data['price'].mean() + 200 >= training_data['price']]['price'].plot()"
   ]
  },
  {
   "source": [
    "## Similarity"
   ],
   "cell_type": "markdown",
   "metadata": {}
  },
  {
   "cell_type": "code",
   "execution_count": null,
   "metadata": {},
   "outputs": [],
   "source": []
  },
  {
   "source": [
    "## Brand Names And SKU ID"
   ],
   "cell_type": "markdown",
   "metadata": {}
  },
  {
   "cell_type": "code",
   "execution_count": null,
   "metadata": {},
   "outputs": [],
   "source": []
  },
  {
   "source": [
    "## Clarity Vs Conciseness "
   ],
   "cell_type": "markdown",
   "metadata": {}
  },
  {
   "cell_type": "code",
   "execution_count": null,
   "metadata": {},
   "outputs": [],
   "source": []
  },
  {
   "source": [
    "# Feature Engineering \n",
    "\n",
    "Before extracting features, we preprocess the data by removingHTML tags, removing special characters, and replacing missingvalues\n",
    "\n",
    "![Table 3 - All features set](assets/img/3.png)\n",
    "![Table 2 - All features set](assets/img/4.png)"
   ],
   "cell_type": "markdown",
   "metadata": {}
  },
  {
   "cell_type": "code",
   "execution_count": null,
   "metadata": {},
   "outputs": [],
   "source": []
  },
  {
   "source": [
    "# Modelling "
   ],
   "cell_type": "markdown",
   "metadata": {}
  },
  {
   "cell_type": "code",
   "execution_count": null,
   "metadata": {},
   "outputs": [],
   "source": []
  }
 ]
}