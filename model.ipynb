{
 "metadata": {
  "language_info": {
   "codemirror_mode": {
    "name": "ipython",
    "version": 3
   },
   "file_extension": ".py",
   "mimetype": "text/x-python",
   "name": "python",
   "nbconvert_exporter": "python",
   "pygments_lexer": "ipython3",
   "version": "3.9.4"
  },
  "orig_nbformat": 2,
  "kernelspec": {
   "name": "python394jvsc74a57bd0e636835de041e8eb54f53ce635f43f3394409a2877f9076e2ef55a9fb0ce79b3",
   "display_name": "Python 3.9.4 64-bit ('ir': conda)"
  },
  "metadata": {
   "interpreter": {
    "hash": "e636835de041e8eb54f53ce635f43f3394409a2877f9076e2ef55a9fb0ce79b3"
   }
  }
 },
 "nbformat": 4,
 "nbformat_minor": 2,
 "cells": [
  {
   "source": [
    "# Imports"
   ],
   "cell_type": "markdown",
   "metadata": {}
  },
  {
   "cell_type": "code",
   "execution_count": 514,
   "metadata": {},
   "outputs": [],
   "source": [
    "from sklearn.preprocessing import OneHotEncoder, LabelEncoder\n",
    "import matplotlib.pyplot as plt\n",
    "from bs4 import BeautifulSoup\n",
    "import pandas as pd\n",
    "import numpy as np\n",
    "import math\n",
    "\n",
    "import os"
   ]
  },
  {
   "source": [
    "# Dataset"
   ],
   "cell_type": "markdown",
   "metadata": {}
  },
  {
   "source": [
    "## Training Data"
   ],
   "cell_type": "markdown",
   "metadata": {}
  },
  {
   "cell_type": "code",
   "execution_count": 517,
   "metadata": {},
   "outputs": [],
   "source": [
    "init_training_data = pd.read_csv('data/training/data_train.csv', sep=',', names=['country', 'sku_id', 'title', 'category_lvl_1', 'category_lvl_2', 'category_lvl_3', 'short_description', 'price', 'product_type'])\n",
    "clarity_training_data = pd.read_csv('data/training/clarity_train.csv', sep=',', names=['clarity',''], usecols=['clarity'])\n",
    "conciseness_training_data = pd.read_csv('data/training/conciseness_train.csv', sep=',', names=['conciseness',''], usecols=['conciseness'])\n",
    "\n",
    "# Separately storing the data\n",
    "training_data = init_training_data.copy()\n",
    "training_data['clarity'] = clarity_training_data['clarity']\n",
    "training_data['conciseness'] = conciseness_training_data['conciseness']"
   ]
  },
  {
   "source": [
    "## Validation Data"
   ],
   "cell_type": "markdown",
   "metadata": {}
  },
  {
   "cell_type": "code",
   "execution_count": 518,
   "metadata": {},
   "outputs": [],
   "source": [
    "validation_data = pd.read_csv('data/validation/data_valid.csv', sep=',', names = ['country', 'sku_id', 'title', 'category_lvl_1', 'category_lvl_2', 'category_lvl_3', 'short_description', 'price', 'product_type'])\n",
    "clarity_validation_data = pd.read_csv('data/validation/clarity_valid.csv', sep=',', names=['clarity',''], usecols=['clarity'])\n",
    "conciseness_validation_data = pd.read_csv('data/validation/conciseness_valid.csv', sep=',', names=['conciseness',''], usecols=['conciseness'])"
   ]
  },
  {
   "source": [
    "## Testing Data"
   ],
   "cell_type": "markdown",
   "metadata": {}
  },
  {
   "cell_type": "code",
   "execution_count": 519,
   "metadata": {},
   "outputs": [],
   "source": [
    "testing_data = pd.read_csv('data/testing/data_test.csv', sep=',', names = ['country', 'sku_id', 'title', 'category_lvl_1', 'category_lvl_2', 'category_lvl_3', 'short_description', 'price', 'product_type'])\n",
    "clarity_testing_data = pd.read_csv('data/testing/clarity_test.csv', sep=',', names=['clarity',''], usecols=['clarity'])\n",
    "conciseness_testing_data = pd.read_csv('data/testing/conciseness_test.csv', sep=',', names=['conciseness',''], usecols=['conciseness'])"
   ]
  },
  {
   "source": [
    "There are a lot of fields which depend on the string values. These all have to be preprocessed accordingly and made into newer features before we move on to exploring what these features contain. Accordingly, finding the correlation of these features also does not give anything of value."
   ],
   "cell_type": "markdown",
   "metadata": {}
  },
  {
   "cell_type": "code",
   "execution_count": 520,
   "metadata": {},
   "outputs": [
    {
     "output_type": "execute_result",
     "data": {
      "text/plain": [
       "                price   clarity  conciseness\n",
       "price        1.000000  0.003322     0.009616\n",
       "clarity      0.003322  1.000000     0.361611\n",
       "conciseness  0.009616  0.361611     1.000000"
      ],
      "text/html": "<div>\n<style scoped>\n    .dataframe tbody tr th:only-of-type {\n        vertical-align: middle;\n    }\n\n    .dataframe tbody tr th {\n        vertical-align: top;\n    }\n\n    .dataframe thead th {\n        text-align: right;\n    }\n</style>\n<table border=\"1\" class=\"dataframe\">\n  <thead>\n    <tr style=\"text-align: right;\">\n      <th></th>\n      <th>price</th>\n      <th>clarity</th>\n      <th>conciseness</th>\n    </tr>\n  </thead>\n  <tbody>\n    <tr>\n      <th>price</th>\n      <td>1.000000</td>\n      <td>0.003322</td>\n      <td>0.009616</td>\n    </tr>\n    <tr>\n      <th>clarity</th>\n      <td>0.003322</td>\n      <td>1.000000</td>\n      <td>0.361611</td>\n    </tr>\n    <tr>\n      <th>conciseness</th>\n      <td>0.009616</td>\n      <td>0.361611</td>\n      <td>1.000000</td>\n    </tr>\n  </tbody>\n</table>\n</div>"
     },
     "metadata": {},
     "execution_count": 520
    }
   ],
   "source": [
    "training_data.corr()"
   ]
  },
  {
   "source": [
    "# Preprocessing"
   ],
   "cell_type": "markdown",
   "metadata": {}
  },
  {
   "source": [
    "## Missing Values - Imputation"
   ],
   "cell_type": "markdown",
   "metadata": {}
  },
  {
   "source": [
    "### Column - Category_Lvl_3"
   ],
   "cell_type": "markdown",
   "metadata": {}
  },
  {
   "cell_type": "code",
   "execution_count": 521,
   "metadata": {},
   "outputs": [],
   "source": [
    "def printColumnWithNA(data):\n",
    "    for column in data.columns:\n",
    "        print(column, data[column].isnull().sum())"
   ]
  },
  {
   "cell_type": "code",
   "execution_count": 522,
   "metadata": {
    "tags": []
   },
   "outputs": [
    {
     "output_type": "stream",
     "name": "stdout",
     "text": [
      "country 0\nsku_id 0\ntitle 0\ncategory_lvl_1 0\ncategory_lvl_2 0\ncategory_lvl_3 2135\nshort_description 33\nprice 0\nproduct_type 277\nclarity 0\nconciseness 0\n"
     ]
    }
   ],
   "source": [
    "printColumnWithNA(training_data)"
   ]
  },
  {
   "cell_type": "code",
   "execution_count": 523,
   "metadata": {},
   "outputs": [],
   "source": [
    "for idx in range(0 , len(training_data)):\n",
    "    training_data.loc[idx, 'category_lvl_3'] = training_data.loc[idx]['category_lvl_1'] + \" \" + training_data.loc[idx]['category_lvl_2']"
   ]
  },
  {
   "cell_type": "code",
   "execution_count": 524,
   "metadata": {},
   "outputs": [
    {
     "output_type": "execute_result",
     "data": {
      "text/plain": [
       "   country              sku_id  \\\n",
       "4       my    AR511HBAXNWAANMY   \n",
       "5       my    AS575ELCMZ4WANMY   \n",
       "6       my  AS727ELAA9LLV1ANMY   \n",
       "7       my  BU512HBAA4WUVTANMY   \n",
       "8       my    CL787ELAW29LANMY   \n",
       "9       my  CO633HLAABREKOANMY   \n",
       "10      my  EL802HLAA51ZZVANMY   \n",
       "11      my  EM688OTAA9H8S8ANMY   \n",
       "12      my  FE090OTAAAPW6VANMY   \n",
       "13      my  FI087ELAA7Z6D7ANMY   \n",
       "14      my    FO862HBAZ6LWANMY   \n",
       "15      my  HA543FAAAA8IHWANMY   \n",
       "16      my  JI013OTAA5FMEDANMY   \n",
       "17      my  JI733ELAA3XWA1ANMY   \n",
       "18      my  JO156ELAA6CO0MANMY   \n",
       "19      my  JO511HBAA7CGMGANMY   \n",
       "20      my    JU816FAAPKMIANMY   \n",
       "21      my  KD209HAAAA8EEEANMY   \n",
       "22      my  KE294HLAA8EBUZANMY   \n",
       "23      my  KO422HBAA8WEQ8ANMY   \n",
       "24      my    LE106ELAVO5SANMY   \n",
       "25      my  LU316ELAA8O9BQANMY   \n",
       "26      my    LY834FABEWC9ANMY   \n",
       "27      my  MO158HAAA30BBCANMY   \n",
       "28      my    MO554ELBMC5YANMY   \n",
       "29      my    MO554ELCHBVMANMY   \n",
       "\n",
       "                                                title  \\\n",
       "4   Argital Argiltubo Green Clay For Face and Body...   \n",
       "5   Asus TP300LJ-DW004H Transformer Book Flip 4GB ...   \n",
       "6   NG-40C Ring-Shaped 40W 3166lm 5400K Macro Phot...   \n",
       "7             Buytra Exfoliating Peel Foot Mask 1Pair   \n",
       "8   CLiPtec OCC121 Slim Flat USB 3.0 Extension Cab...   \n",
       "9   McDonald's Coke Can Glass Limited Edition 12oz...   \n",
       "10  ELENXS Stainless Steel Tea Ball Strainer Mesh ...   \n",
       "11       7mm Natural Prehnite Crystal Bracelet(Green)   \n",
       "12  Feelontop Punk Rock Rhinestone Star Shape Long...   \n",
       "13  Fitbit Charge Wireless Activity Wristband, Blu...   \n",
       "14            Foltene Eyelash &amp; Eyebrow Treatment   \n",
       "15  Hanyu Men PU Leather Lace Up Cap-Toe Business ...   \n",
       "16  JinGle Winner Mens women Skeleton Rose Gold St...   \n",
       "17  JIANSE Cranes Sky Flight Couple Cloud Hard Bac...   \n",
       "18  joyliveCY Universal Lazy Android Mobile Phone ...   \n",
       "19  Joop Le Bain Soft Moments Eau De Parfum Spray ...   \n",
       "20     Juju Milky Emerald Eye Rhinestone Cheetah Stud   \n",
       "21  Kdk 16\" Wall Fan (Remote) &nbsp;Oscillation Co...   \n",
       "22  DIY Marble Contact Paper PVC Removable Wallpap...   \n",
       "23  5 units of Korea Soothing &amp; Moisture 99% A...   \n",
       "24                       Lenovo Battery BL203 1500mAH   \n",
       "25  LUOWAN Galaxy S7 Edge Case - Silicone Soft TPU...   \n",
       "26  Prado2u LYY Korean Canvas Crossbody Bag FLISH ...   \n",
       "27          Morgan Garment Steamer MSI-GA220B (1500w)   \n",
       "28  Moonmini Case for iPhone 5 5S (Hot Pink + Blue...   \n",
       "29  Moonmini Case for Apple iPhone 6 Plus 5.5 inch...   \n",
       "\n",
       "                           category_lvl_1       category_lvl_2  \\\n",
       "4                         Health & Beauty           Men's Care   \n",
       "5                     Computers & Laptops              Laptops   \n",
       "6                                 Cameras   Camera Accessories   \n",
       "7                         Health & Beauty          Bath & Body   \n",
       "8                     Computers & Laptops              Laptops   \n",
       "9                           Home & Living     Kitchen & Dining   \n",
       "10                          Home & Living     Kitchen & Dining   \n",
       "11           Watches Sunglasses Jewellery            Jewellery   \n",
       "12           Watches Sunglasses Jewellery            Jewellery   \n",
       "13  TV, Audio / Video, Gaming & Wearables  Wearable Technology   \n",
       "14                        Health & Beauty               Makeup   \n",
       "15                                Fashion                  Men   \n",
       "16           Watches Sunglasses Jewellery              Watches   \n",
       "17                      Mobiles & Tablets          Accessories   \n",
       "18                      Mobiles & Tablets          Accessories   \n",
       "19                        Health & Beauty           Fragrances   \n",
       "20           Watches Sunglasses Jewellery            Jewellery   \n",
       "21                        Home Appliances    Cooling & Heating   \n",
       "22                          Home & Living           Home Décor   \n",
       "23                        Health & Beauty            Skin Care   \n",
       "24                      Mobiles & Tablets          Accessories   \n",
       "25                      Mobiles & Tablets          Accessories   \n",
       "26                                Fashion                  Men   \n",
       "27                        Home Appliances         Garment Care   \n",
       "28                      Mobiles & Tablets          Accessories   \n",
       "29                      Mobiles & Tablets          Accessories   \n",
       "\n",
       "                                       category_lvl_3  \\\n",
       "4                          Health & Beauty Men's Care   \n",
       "5                         Computers & Laptops Laptops   \n",
       "6                          Cameras Camera Accessories   \n",
       "7                         Health & Beauty Bath & Body   \n",
       "8                         Computers & Laptops Laptops   \n",
       "9                      Home & Living Kitchen & Dining   \n",
       "10                     Home & Living Kitchen & Dining   \n",
       "11             Watches Sunglasses Jewellery Jewellery   \n",
       "12             Watches Sunglasses Jewellery Jewellery   \n",
       "13  TV, Audio / Video, Gaming & Wearables Wearable...   \n",
       "14                             Health & Beauty Makeup   \n",
       "15                                        Fashion Men   \n",
       "16               Watches Sunglasses Jewellery Watches   \n",
       "17                      Mobiles & Tablets Accessories   \n",
       "18                      Mobiles & Tablets Accessories   \n",
       "19                         Health & Beauty Fragrances   \n",
       "20             Watches Sunglasses Jewellery Jewellery   \n",
       "21                  Home Appliances Cooling & Heating   \n",
       "22                           Home & Living Home Décor   \n",
       "23                          Health & Beauty Skin Care   \n",
       "24                      Mobiles & Tablets Accessories   \n",
       "25                      Mobiles & Tablets Accessories   \n",
       "26                                        Fashion Men   \n",
       "27                       Home Appliances Garment Care   \n",
       "28                      Mobiles & Tablets Accessories   \n",
       "29                      Mobiles & Tablets Accessories   \n",
       "\n",
       "                                    short_description    price   product_type  \\\n",
       "4   <ul> <li>100% Authentic</li> <li>Rrefresh and ...   114.80  international   \n",
       "5   <div class=\"prod_content\"> <div class=\"prod_de...  2599.00          local   \n",
       "6   <ul> <li>1. Color Temperature: 5400K</li> <li>...   388.99  international   \n",
       "7   <ul> <li>Reviving like a new born baby.</li> <...    10.40  international   \n",
       "8   <ul style= \"padding: 0px; margin: 20px 0px 0px...    29.00          local   \n",
       "9   <ul> <li>Genuine issued McDonald's Coca Cola m...    25.00          local   \n",
       "10  <ul> <li>Stainless Steel Filter</li> <li>Stain...     9.48  international   \n",
       "11  <ul> <li>Material: Genuine Prehnite Crystal Be...    78.00          local   \n",
       "12  <ul> <li>Lead and Nickle Free</li> <li>Good Qu...    15.55  international   \n",
       "13  <ul> <li>Accurately track all-day stats like s...   499.00  international   \n",
       "14  <ul> <li>Apply morning and evening&nbsp;</li> ...   120.00          local   \n",
       "15  <ul style=\"list-style-type:disc\"> <li>100% Bra...    56.18  international   \n",
       "16  <div> <ul> <li>Gender Men's</li> <li>Movement ...    84.60  international   \n",
       "17  <ul> <li>Print on all sides, glossy finish</li...    30.00  international   \n",
       "18  <ul> <li>Item Type:Phone Holder</li> <li>Size:...    16.66  international   \n",
       "19  <ul> <li>100% Genuine and Authentic products</...   170.00  international   \n",
       "20  <ul><li>Size : 9.5cm length x 1.5cm width&nbsp...    19.00          local   \n",
       "21  <ul> <li>1,3,6 Hours Timer</li> <li>3 Speed Co...   278.00          local   \n",
       "22  <div> <ul> <li>size: 5meter x 60cm</li> <li>wi...    75.00          local   \n",
       "23  <ul> <li>The most popular and best aloe Vera s...    59.00          local   \n",
       "24  <ul> <li> &nbsp;Ideal replacement or spare bat...    32.80          local   \n",
       "25  <ul> <li>DESIGN: The Luowan Samsung Galaxy S7 ...    18.00  international   \n",
       "26  <ul style= \"font-style: normal; font-variant: ...    42.00          local   \n",
       "27  <ul> <li>Power Rating : 1500 W</li> <li>See Th...   159.00          local   \n",
       "28  Opening to all connections and controls - Anti...    19.99  international   \n",
       "29  <ul><li>Premium look and feel</li> <li>Perfect...    29.99  international   \n",
       "\n",
       "    clarity  conciseness  \n",
       "4         1            1  \n",
       "5         1            1  \n",
       "6         1            1  \n",
       "7         1            1  \n",
       "8         1            1  \n",
       "9         1            1  \n",
       "10        1            1  \n",
       "11        1            1  \n",
       "12        1            1  \n",
       "13        1            1  \n",
       "14        1            1  \n",
       "15        1            1  \n",
       "16        1            1  \n",
       "17        1            1  \n",
       "18        0            0  \n",
       "19        1            1  \n",
       "20        1            1  \n",
       "21        1            1  \n",
       "22        1            1  \n",
       "23        0            0  \n",
       "24        1            1  \n",
       "25        1            1  \n",
       "26        1            1  \n",
       "27        1            1  \n",
       "28        1            1  \n",
       "29        1            1  "
      ],
      "text/html": "<div>\n<style scoped>\n    .dataframe tbody tr th:only-of-type {\n        vertical-align: middle;\n    }\n\n    .dataframe tbody tr th {\n        vertical-align: top;\n    }\n\n    .dataframe thead th {\n        text-align: right;\n    }\n</style>\n<table border=\"1\" class=\"dataframe\">\n  <thead>\n    <tr style=\"text-align: right;\">\n      <th></th>\n      <th>country</th>\n      <th>sku_id</th>\n      <th>title</th>\n      <th>category_lvl_1</th>\n      <th>category_lvl_2</th>\n      <th>category_lvl_3</th>\n      <th>short_description</th>\n      <th>price</th>\n      <th>product_type</th>\n      <th>clarity</th>\n      <th>conciseness</th>\n    </tr>\n  </thead>\n  <tbody>\n    <tr>\n      <th>4</th>\n      <td>my</td>\n      <td>AR511HBAXNWAANMY</td>\n      <td>Argital Argiltubo Green Clay For Face and Body...</td>\n      <td>Health &amp; Beauty</td>\n      <td>Men's Care</td>\n      <td>Health &amp; Beauty Men's Care</td>\n      <td>&lt;ul&gt; &lt;li&gt;100% Authentic&lt;/li&gt; &lt;li&gt;Rrefresh and ...</td>\n      <td>114.80</td>\n      <td>international</td>\n      <td>1</td>\n      <td>1</td>\n    </tr>\n    <tr>\n      <th>5</th>\n      <td>my</td>\n      <td>AS575ELCMZ4WANMY</td>\n      <td>Asus TP300LJ-DW004H Transformer Book Flip 4GB ...</td>\n      <td>Computers &amp; Laptops</td>\n      <td>Laptops</td>\n      <td>Computers &amp; Laptops Laptops</td>\n      <td>&lt;div class=\"prod_content\"&gt; &lt;div class=\"prod_de...</td>\n      <td>2599.00</td>\n      <td>local</td>\n      <td>1</td>\n      <td>1</td>\n    </tr>\n    <tr>\n      <th>6</th>\n      <td>my</td>\n      <td>AS727ELAA9LLV1ANMY</td>\n      <td>NG-40C Ring-Shaped 40W 3166lm 5400K Macro Phot...</td>\n      <td>Cameras</td>\n      <td>Camera Accessories</td>\n      <td>Cameras Camera Accessories</td>\n      <td>&lt;ul&gt; &lt;li&gt;1. Color Temperature: 5400K&lt;/li&gt; &lt;li&gt;...</td>\n      <td>388.99</td>\n      <td>international</td>\n      <td>1</td>\n      <td>1</td>\n    </tr>\n    <tr>\n      <th>7</th>\n      <td>my</td>\n      <td>BU512HBAA4WUVTANMY</td>\n      <td>Buytra Exfoliating Peel Foot Mask 1Pair</td>\n      <td>Health &amp; Beauty</td>\n      <td>Bath &amp; Body</td>\n      <td>Health &amp; Beauty Bath &amp; Body</td>\n      <td>&lt;ul&gt; &lt;li&gt;Reviving like a new born baby.&lt;/li&gt; &lt;...</td>\n      <td>10.40</td>\n      <td>international</td>\n      <td>1</td>\n      <td>1</td>\n    </tr>\n    <tr>\n      <th>8</th>\n      <td>my</td>\n      <td>CL787ELAW29LANMY</td>\n      <td>CLiPtec OCC121 Slim Flat USB 3.0 Extension Cab...</td>\n      <td>Computers &amp; Laptops</td>\n      <td>Laptops</td>\n      <td>Computers &amp; Laptops Laptops</td>\n      <td>&lt;ul style= \"padding: 0px; margin: 20px 0px 0px...</td>\n      <td>29.00</td>\n      <td>local</td>\n      <td>1</td>\n      <td>1</td>\n    </tr>\n    <tr>\n      <th>9</th>\n      <td>my</td>\n      <td>CO633HLAABREKOANMY</td>\n      <td>McDonald's Coke Can Glass Limited Edition 12oz...</td>\n      <td>Home &amp; Living</td>\n      <td>Kitchen &amp; Dining</td>\n      <td>Home &amp; Living Kitchen &amp; Dining</td>\n      <td>&lt;ul&gt; &lt;li&gt;Genuine issued McDonald's Coca Cola m...</td>\n      <td>25.00</td>\n      <td>local</td>\n      <td>1</td>\n      <td>1</td>\n    </tr>\n    <tr>\n      <th>10</th>\n      <td>my</td>\n      <td>EL802HLAA51ZZVANMY</td>\n      <td>ELENXS Stainless Steel Tea Ball Strainer Mesh ...</td>\n      <td>Home &amp; Living</td>\n      <td>Kitchen &amp; Dining</td>\n      <td>Home &amp; Living Kitchen &amp; Dining</td>\n      <td>&lt;ul&gt; &lt;li&gt;Stainless Steel Filter&lt;/li&gt; &lt;li&gt;Stain...</td>\n      <td>9.48</td>\n      <td>international</td>\n      <td>1</td>\n      <td>1</td>\n    </tr>\n    <tr>\n      <th>11</th>\n      <td>my</td>\n      <td>EM688OTAA9H8S8ANMY</td>\n      <td>7mm Natural Prehnite Crystal Bracelet(Green)</td>\n      <td>Watches Sunglasses Jewellery</td>\n      <td>Jewellery</td>\n      <td>Watches Sunglasses Jewellery Jewellery</td>\n      <td>&lt;ul&gt; &lt;li&gt;Material: Genuine Prehnite Crystal Be...</td>\n      <td>78.00</td>\n      <td>local</td>\n      <td>1</td>\n      <td>1</td>\n    </tr>\n    <tr>\n      <th>12</th>\n      <td>my</td>\n      <td>FE090OTAAAPW6VANMY</td>\n      <td>Feelontop Punk Rock Rhinestone Star Shape Long...</td>\n      <td>Watches Sunglasses Jewellery</td>\n      <td>Jewellery</td>\n      <td>Watches Sunglasses Jewellery Jewellery</td>\n      <td>&lt;ul&gt; &lt;li&gt;Lead and Nickle Free&lt;/li&gt; &lt;li&gt;Good Qu...</td>\n      <td>15.55</td>\n      <td>international</td>\n      <td>1</td>\n      <td>1</td>\n    </tr>\n    <tr>\n      <th>13</th>\n      <td>my</td>\n      <td>FI087ELAA7Z6D7ANMY</td>\n      <td>Fitbit Charge Wireless Activity Wristband, Blu...</td>\n      <td>TV, Audio / Video, Gaming &amp; Wearables</td>\n      <td>Wearable Technology</td>\n      <td>TV, Audio / Video, Gaming &amp; Wearables Wearable...</td>\n      <td>&lt;ul&gt; &lt;li&gt;Accurately track all-day stats like s...</td>\n      <td>499.00</td>\n      <td>international</td>\n      <td>1</td>\n      <td>1</td>\n    </tr>\n    <tr>\n      <th>14</th>\n      <td>my</td>\n      <td>FO862HBAZ6LWANMY</td>\n      <td>Foltene Eyelash &amp;amp; Eyebrow Treatment</td>\n      <td>Health &amp; Beauty</td>\n      <td>Makeup</td>\n      <td>Health &amp; Beauty Makeup</td>\n      <td>&lt;ul&gt; &lt;li&gt;Apply morning and evening&amp;nbsp;&lt;/li&gt; ...</td>\n      <td>120.00</td>\n      <td>local</td>\n      <td>1</td>\n      <td>1</td>\n    </tr>\n    <tr>\n      <th>15</th>\n      <td>my</td>\n      <td>HA543FAAAA8IHWANMY</td>\n      <td>Hanyu Men PU Leather Lace Up Cap-Toe Business ...</td>\n      <td>Fashion</td>\n      <td>Men</td>\n      <td>Fashion Men</td>\n      <td>&lt;ul style=\"list-style-type:disc\"&gt; &lt;li&gt;100% Bra...</td>\n      <td>56.18</td>\n      <td>international</td>\n      <td>1</td>\n      <td>1</td>\n    </tr>\n    <tr>\n      <th>16</th>\n      <td>my</td>\n      <td>JI013OTAA5FMEDANMY</td>\n      <td>JinGle Winner Mens women Skeleton Rose Gold St...</td>\n      <td>Watches Sunglasses Jewellery</td>\n      <td>Watches</td>\n      <td>Watches Sunglasses Jewellery Watches</td>\n      <td>&lt;div&gt; &lt;ul&gt; &lt;li&gt;Gender Men's&lt;/li&gt; &lt;li&gt;Movement ...</td>\n      <td>84.60</td>\n      <td>international</td>\n      <td>1</td>\n      <td>1</td>\n    </tr>\n    <tr>\n      <th>17</th>\n      <td>my</td>\n      <td>JI733ELAA3XWA1ANMY</td>\n      <td>JIANSE Cranes Sky Flight Couple Cloud Hard Bac...</td>\n      <td>Mobiles &amp; Tablets</td>\n      <td>Accessories</td>\n      <td>Mobiles &amp; Tablets Accessories</td>\n      <td>&lt;ul&gt; &lt;li&gt;Print on all sides, glossy finish&lt;/li...</td>\n      <td>30.00</td>\n      <td>international</td>\n      <td>1</td>\n      <td>1</td>\n    </tr>\n    <tr>\n      <th>18</th>\n      <td>my</td>\n      <td>JO156ELAA6CO0MANMY</td>\n      <td>joyliveCY Universal Lazy Android Mobile Phone ...</td>\n      <td>Mobiles &amp; Tablets</td>\n      <td>Accessories</td>\n      <td>Mobiles &amp; Tablets Accessories</td>\n      <td>&lt;ul&gt; &lt;li&gt;Item Type:Phone Holder&lt;/li&gt; &lt;li&gt;Size:...</td>\n      <td>16.66</td>\n      <td>international</td>\n      <td>0</td>\n      <td>0</td>\n    </tr>\n    <tr>\n      <th>19</th>\n      <td>my</td>\n      <td>JO511HBAA7CGMGANMY</td>\n      <td>Joop Le Bain Soft Moments Eau De Parfum Spray ...</td>\n      <td>Health &amp; Beauty</td>\n      <td>Fragrances</td>\n      <td>Health &amp; Beauty Fragrances</td>\n      <td>&lt;ul&gt; &lt;li&gt;100% Genuine and Authentic products&lt;/...</td>\n      <td>170.00</td>\n      <td>international</td>\n      <td>1</td>\n      <td>1</td>\n    </tr>\n    <tr>\n      <th>20</th>\n      <td>my</td>\n      <td>JU816FAAPKMIANMY</td>\n      <td>Juju Milky Emerald Eye Rhinestone Cheetah Stud</td>\n      <td>Watches Sunglasses Jewellery</td>\n      <td>Jewellery</td>\n      <td>Watches Sunglasses Jewellery Jewellery</td>\n      <td>&lt;ul&gt;&lt;li&gt;Size : 9.5cm length x 1.5cm width&amp;nbsp...</td>\n      <td>19.00</td>\n      <td>local</td>\n      <td>1</td>\n      <td>1</td>\n    </tr>\n    <tr>\n      <th>21</th>\n      <td>my</td>\n      <td>KD209HAAAA8EEEANMY</td>\n      <td>Kdk 16\" Wall Fan (Remote) &amp;nbsp;Oscillation Co...</td>\n      <td>Home Appliances</td>\n      <td>Cooling &amp; Heating</td>\n      <td>Home Appliances Cooling &amp; Heating</td>\n      <td>&lt;ul&gt; &lt;li&gt;1,3,6 Hours Timer&lt;/li&gt; &lt;li&gt;3 Speed Co...</td>\n      <td>278.00</td>\n      <td>local</td>\n      <td>1</td>\n      <td>1</td>\n    </tr>\n    <tr>\n      <th>22</th>\n      <td>my</td>\n      <td>KE294HLAA8EBUZANMY</td>\n      <td>DIY Marble Contact Paper PVC Removable Wallpap...</td>\n      <td>Home &amp; Living</td>\n      <td>Home Décor</td>\n      <td>Home &amp; Living Home Décor</td>\n      <td>&lt;div&gt; &lt;ul&gt; &lt;li&gt;size: 5meter x 60cm&lt;/li&gt; &lt;li&gt;wi...</td>\n      <td>75.00</td>\n      <td>local</td>\n      <td>1</td>\n      <td>1</td>\n    </tr>\n    <tr>\n      <th>23</th>\n      <td>my</td>\n      <td>KO422HBAA8WEQ8ANMY</td>\n      <td>5 units of Korea Soothing &amp;amp; Moisture 99% A...</td>\n      <td>Health &amp; Beauty</td>\n      <td>Skin Care</td>\n      <td>Health &amp; Beauty Skin Care</td>\n      <td>&lt;ul&gt; &lt;li&gt;The most popular and best aloe Vera s...</td>\n      <td>59.00</td>\n      <td>local</td>\n      <td>0</td>\n      <td>0</td>\n    </tr>\n    <tr>\n      <th>24</th>\n      <td>my</td>\n      <td>LE106ELAVO5SANMY</td>\n      <td>Lenovo Battery BL203 1500mAH</td>\n      <td>Mobiles &amp; Tablets</td>\n      <td>Accessories</td>\n      <td>Mobiles &amp; Tablets Accessories</td>\n      <td>&lt;ul&gt; &lt;li&gt; &amp;nbsp;Ideal replacement or spare bat...</td>\n      <td>32.80</td>\n      <td>local</td>\n      <td>1</td>\n      <td>1</td>\n    </tr>\n    <tr>\n      <th>25</th>\n      <td>my</td>\n      <td>LU316ELAA8O9BQANMY</td>\n      <td>LUOWAN Galaxy S7 Edge Case - Silicone Soft TPU...</td>\n      <td>Mobiles &amp; Tablets</td>\n      <td>Accessories</td>\n      <td>Mobiles &amp; Tablets Accessories</td>\n      <td>&lt;ul&gt; &lt;li&gt;DESIGN: The Luowan Samsung Galaxy S7 ...</td>\n      <td>18.00</td>\n      <td>international</td>\n      <td>1</td>\n      <td>1</td>\n    </tr>\n    <tr>\n      <th>26</th>\n      <td>my</td>\n      <td>LY834FABEWC9ANMY</td>\n      <td>Prado2u LYY Korean Canvas Crossbody Bag FLISH ...</td>\n      <td>Fashion</td>\n      <td>Men</td>\n      <td>Fashion Men</td>\n      <td>&lt;ul style= \"font-style: normal; font-variant: ...</td>\n      <td>42.00</td>\n      <td>local</td>\n      <td>1</td>\n      <td>1</td>\n    </tr>\n    <tr>\n      <th>27</th>\n      <td>my</td>\n      <td>MO158HAAA30BBCANMY</td>\n      <td>Morgan Garment Steamer MSI-GA220B (1500w)</td>\n      <td>Home Appliances</td>\n      <td>Garment Care</td>\n      <td>Home Appliances Garment Care</td>\n      <td>&lt;ul&gt; &lt;li&gt;Power Rating : 1500 W&lt;/li&gt; &lt;li&gt;See Th...</td>\n      <td>159.00</td>\n      <td>local</td>\n      <td>1</td>\n      <td>1</td>\n    </tr>\n    <tr>\n      <th>28</th>\n      <td>my</td>\n      <td>MO554ELBMC5YANMY</td>\n      <td>Moonmini Case for iPhone 5 5S (Hot Pink + Blue...</td>\n      <td>Mobiles &amp; Tablets</td>\n      <td>Accessories</td>\n      <td>Mobiles &amp; Tablets Accessories</td>\n      <td>Opening to all connections and controls - Anti...</td>\n      <td>19.99</td>\n      <td>international</td>\n      <td>1</td>\n      <td>1</td>\n    </tr>\n    <tr>\n      <th>29</th>\n      <td>my</td>\n      <td>MO554ELCHBVMANMY</td>\n      <td>Moonmini Case for Apple iPhone 6 Plus 5.5 inch...</td>\n      <td>Mobiles &amp; Tablets</td>\n      <td>Accessories</td>\n      <td>Mobiles &amp; Tablets Accessories</td>\n      <td>&lt;ul&gt;&lt;li&gt;Premium look and feel&lt;/li&gt; &lt;li&gt;Perfect...</td>\n      <td>29.99</td>\n      <td>international</td>\n      <td>1</td>\n      <td>1</td>\n    </tr>\n  </tbody>\n</table>\n</div>"
     },
     "metadata": {},
     "execution_count": 524
    }
   ],
   "source": [
    "training_data[4:30]"
   ]
  },
  {
   "cell_type": "code",
   "execution_count": 525,
   "metadata": {},
   "outputs": [
    {
     "output_type": "stream",
     "name": "stdout",
     "text": [
      "country 0\nsku_id 0\ntitle 0\ncategory_lvl_1 0\ncategory_lvl_2 0\ncategory_lvl_3 0\nshort_description 33\nprice 0\nproduct_type 277\nclarity 0\nconciseness 0\n"
     ]
    }
   ],
   "source": [
    "printColumnWithNA(training_data)"
   ]
  },
  {
   "source": [
    "### Column - Short Description"
   ],
   "cell_type": "markdown",
   "metadata": {}
  },
  {
   "cell_type": "code",
   "execution_count": 526,
   "metadata": {},
   "outputs": [
    {
     "output_type": "execute_result",
     "data": {
      "text/plain": [
       "     country              sku_id  \\\n",
       "924       my    BG674ELALY2IANMY   \n",
       "1381      ph  AS595ELAA1FGGPANPH   \n",
       "2797      ph    BE718HLAX94DANPH   \n",
       "4463      ph    OR212HBABMTYANPH   \n",
       "5349      ph  OL364HBAA3LYPLANPH   \n",
       "\n",
       "                                                  title  \\\n",
       "924   EGO-LT-6 Aluminum Alloy Electronic Cigarette w...   \n",
       "1381  $Asus Fonepad 7\" Android 4.1 WiFi/3G ME371MG-7...   \n",
       "2797     Klestar Pinoy Fan 10\" stand fan KSF-10 (blue)#   \n",
       "4463  Ogx Renewing Moroccan Argan Oil 3-piece Starte...   \n",
       "5349  Olay Regenerist Micro-Sculpting Cream Moisturi...   \n",
       "\n",
       "                             category_lvl_1     category_lvl_2  \\\n",
       "924   TV, Audio / Video, Gaming & Wearables            Gadgets   \n",
       "1381                      Mobiles & Tablets            Tablets   \n",
       "2797                        Home Appliances  Cooling & Heating   \n",
       "4463                        Health & Beauty          Hair Care   \n",
       "5349                        Health & Beauty          Skin Care   \n",
       "\n",
       "                                     category_lvl_3 short_description  \\\n",
       "924   TV, Audio / Video, Gaming & Wearables Gadgets               NaN   \n",
       "1381                      Mobiles & Tablets Tablets               NaN   \n",
       "2797              Home Appliances Cooling & Heating               NaN   \n",
       "4463                      Health & Beauty Hair Care               NaN   \n",
       "5349                      Health & Beauty Skin Care               NaN   \n",
       "\n",
       "        price   product_type  clarity  conciseness  \n",
       "924      94.0  international        1            1  \n",
       "1381  25700.0            NaN        1            1  \n",
       "2797   1400.0            NaN        1            1  \n",
       "4463    699.0            NaN        1            1  \n",
       "5349    999.0            NaN        1            1  "
      ],
      "text/html": "<div>\n<style scoped>\n    .dataframe tbody tr th:only-of-type {\n        vertical-align: middle;\n    }\n\n    .dataframe tbody tr th {\n        vertical-align: top;\n    }\n\n    .dataframe thead th {\n        text-align: right;\n    }\n</style>\n<table border=\"1\" class=\"dataframe\">\n  <thead>\n    <tr style=\"text-align: right;\">\n      <th></th>\n      <th>country</th>\n      <th>sku_id</th>\n      <th>title</th>\n      <th>category_lvl_1</th>\n      <th>category_lvl_2</th>\n      <th>category_lvl_3</th>\n      <th>short_description</th>\n      <th>price</th>\n      <th>product_type</th>\n      <th>clarity</th>\n      <th>conciseness</th>\n    </tr>\n  </thead>\n  <tbody>\n    <tr>\n      <th>924</th>\n      <td>my</td>\n      <td>BG674ELALY2IANMY</td>\n      <td>EGO-LT-6 Aluminum Alloy Electronic Cigarette w...</td>\n      <td>TV, Audio / Video, Gaming &amp; Wearables</td>\n      <td>Gadgets</td>\n      <td>TV, Audio / Video, Gaming &amp; Wearables Gadgets</td>\n      <td>NaN</td>\n      <td>94.0</td>\n      <td>international</td>\n      <td>1</td>\n      <td>1</td>\n    </tr>\n    <tr>\n      <th>1381</th>\n      <td>ph</td>\n      <td>AS595ELAA1FGGPANPH</td>\n      <td>$Asus Fonepad 7\" Android 4.1 WiFi/3G ME371MG-7...</td>\n      <td>Mobiles &amp; Tablets</td>\n      <td>Tablets</td>\n      <td>Mobiles &amp; Tablets Tablets</td>\n      <td>NaN</td>\n      <td>25700.0</td>\n      <td>NaN</td>\n      <td>1</td>\n      <td>1</td>\n    </tr>\n    <tr>\n      <th>2797</th>\n      <td>ph</td>\n      <td>BE718HLAX94DANPH</td>\n      <td>Klestar Pinoy Fan 10\" stand fan KSF-10 (blue)#</td>\n      <td>Home Appliances</td>\n      <td>Cooling &amp; Heating</td>\n      <td>Home Appliances Cooling &amp; Heating</td>\n      <td>NaN</td>\n      <td>1400.0</td>\n      <td>NaN</td>\n      <td>1</td>\n      <td>1</td>\n    </tr>\n    <tr>\n      <th>4463</th>\n      <td>ph</td>\n      <td>OR212HBABMTYANPH</td>\n      <td>Ogx Renewing Moroccan Argan Oil 3-piece Starte...</td>\n      <td>Health &amp; Beauty</td>\n      <td>Hair Care</td>\n      <td>Health &amp; Beauty Hair Care</td>\n      <td>NaN</td>\n      <td>699.0</td>\n      <td>NaN</td>\n      <td>1</td>\n      <td>1</td>\n    </tr>\n    <tr>\n      <th>5349</th>\n      <td>ph</td>\n      <td>OL364HBAA3LYPLANPH</td>\n      <td>Olay Regenerist Micro-Sculpting Cream Moisturi...</td>\n      <td>Health &amp; Beauty</td>\n      <td>Skin Care</td>\n      <td>Health &amp; Beauty Skin Care</td>\n      <td>NaN</td>\n      <td>999.0</td>\n      <td>NaN</td>\n      <td>1</td>\n      <td>1</td>\n    </tr>\n  </tbody>\n</table>\n</div>"
     },
     "metadata": {},
     "execution_count": 526
    }
   ],
   "source": [
    "training_data[training_data['short_description'].isna()][:5]"
   ]
  },
  {
   "cell_type": "code",
   "execution_count": 527,
   "metadata": {},
   "outputs": [
    {
     "output_type": "execute_result",
     "data": {
      "text/plain": [
       "True"
      ]
     },
     "metadata": {},
     "execution_count": 527
    }
   ],
   "source": [
    "# How to check for NaN\n",
    "np.isnan(training_data.loc[924, 'short_description'])"
   ]
  },
  {
   "cell_type": "code",
   "execution_count": 528,
   "metadata": {
    "tags": []
   },
   "outputs": [],
   "source": [
    "training_data['new_description'] = training_data['short_description']\n",
    "\n",
    "for idx in range(0, len(training_data)):\n",
    "    entry = training_data.loc[idx, 'short_description']\n",
    "\n",
    "    if not type(entry) is float:\n",
    "\n",
    "        if '<ul>' not in entry and '<li>' not in entry:\n",
    "            training_data.loc[idx, 'new_description'] = entry\n",
    "        else:\n",
    "            soup = BeautifulSoup(entry)\n",
    "            \n",
    "            soup_li = soup.find_all('li')\n",
    "            new_desc = ''\n",
    "            for soup_len in range(0, len(soup_li)):\n",
    "                new_desc += \"\\n\" + soup_li[soup_len].get_text()\n",
    "\n",
    "            training_data.loc[idx, 'new_description'] = new_desc"
   ]
  },
  {
   "cell_type": "code",
   "execution_count": 529,
   "metadata": {},
   "outputs": [
    {
     "output_type": "execute_result",
     "data": {
      "text/plain": [
       "   country              sku_id  \\\n",
       "50      my  NO037HLAA6KY20ANMY   \n",
       "51      my  NO037OTAA3BK6UANMY   \n",
       "52      my  NO037OTAA4WU6OANMY   \n",
       "53      my  NO177HBAAAL7V7ANMY   \n",
       "54      my  NO990ELAABUH3GANMY   \n",
       "55      my  OE702ELAA5E5OGANMY   \n",
       "56      my  OE702ELAA7KBC2ANMY   \n",
       "57      my  OE702ELAA7LP9KANMY   \n",
       "58      my  OE702ELAA92006ANMY   \n",
       "59      my  OE702ELAA9TA8GANMY   \n",
       "60      my  OE702ELAAA1ISOANMY   \n",
       "61      my  OE702ELAAA4B0VANMY   \n",
       "62      my  OE702ELAAAQJMHANMY   \n",
       "63      my  OE702ELAAAUB29ANMY   \n",
       "64      my  OE702ELAAAV376ANMY   \n",
       "65      my  OE702ELAAB4I5SANMY   \n",
       "66      my    OE702ELCV5XKANMY   \n",
       "67      my  OE702FAAACHFM5ANMY   \n",
       "68      my    OE702FAAY27FANMY   \n",
       "69      my    OE702FAAZI92ANMY   \n",
       "\n",
       "                                                title  \\\n",
       "50  Creative Decoration 50*70cm Prints &amp; Poste...   \n",
       "51     HKS Jin Yuji Austria Crystal Bracelet (Purple)   \n",
       "52  Wholesale Nickle Free Antiallergic 18K Real Go...   \n",
       "53            NoTS Begin 28 Organic Daily Moisturizer   \n",
       "54  Ultrathin i6 Cover For iphone 6 Transparent So...   \n",
       "55  High Speed 4 Port USB 2.0 Multi HUB Splitter E...   \n",
       "56  2 Units Compatible Laser Toner Brother TN-2150...   \n",
       "57  BYT KST Pattern Solid Color Tablet Leather Fli...   \n",
       "58      Laptop Battery For HP Envy 4-1245TU SLEEKBOOK   \n",
       "59  iPad 2/3/4 Kiddie Case - AOOBCC EVA Shock Proo...   \n",
       "60  jaywog Each Professional 3.5mm Stereo Noise Ca...   \n",
       "61  Phone Case for Apple iPhone 6 plus 6s Plus 2 i...   \n",
       "62  For Asus Zenfone Go ZC500TG TPU 3D Painting Co...   \n",
       "63  For Samsung Galaxy S3 / i9300 4.8\" inch Double...   \n",
       "64  [NEW DESIGN]Acer Aspire 2020 series 19v 3.42a ...   \n",
       "65  flash drive1TB memory stick real capacity u di...   \n",
       "66  Battery Wall Charger Adapter Dock US Plug for ...   \n",
       "67        2017 New Men's Stand-up Collar Jacket Green   \n",
       "68  Fancyqube Double Peach Heart Gold-Plated Brace...   \n",
       "69  OEM New Fashion Classic Lady Womens Girl Unise...   \n",
       "\n",
       "                  category_lvl_1          category_lvl_2  \\\n",
       "50                 Home & Living              Home Décor   \n",
       "51  Watches Sunglasses Jewellery               Jewellery   \n",
       "52  Watches Sunglasses Jewellery               Jewellery   \n",
       "53               Health & Beauty               Skin Care   \n",
       "54             Mobiles & Tablets             Accessories   \n",
       "55           Computers & Laptops    Computer Accessories   \n",
       "56           Computers & Laptops  Printers & Accessories   \n",
       "57             Mobiles & Tablets             Accessories   \n",
       "58           Computers & Laptops    Computer Accessories   \n",
       "59             Mobiles & Tablets             Accessories   \n",
       "60           Computers & Laptops    Computer Accessories   \n",
       "61             Mobiles & Tablets             Accessories   \n",
       "62             Mobiles & Tablets             Accessories   \n",
       "63             Mobiles & Tablets             Accessories   \n",
       "64           Computers & Laptops    Computer Accessories   \n",
       "65           Computers & Laptops                 Storage   \n",
       "66             Mobiles & Tablets             Accessories   \n",
       "67                       Fashion                     Men   \n",
       "68  Watches Sunglasses Jewellery               Jewellery   \n",
       "69  Watches Sunglasses Jewellery                 Watches   \n",
       "\n",
       "                                category_lvl_3  \\\n",
       "50                    Home & Living Home Décor   \n",
       "51      Watches Sunglasses Jewellery Jewellery   \n",
       "52      Watches Sunglasses Jewellery Jewellery   \n",
       "53                   Health & Beauty Skin Care   \n",
       "54               Mobiles & Tablets Accessories   \n",
       "55    Computers & Laptops Computer Accessories   \n",
       "56  Computers & Laptops Printers & Accessories   \n",
       "57               Mobiles & Tablets Accessories   \n",
       "58    Computers & Laptops Computer Accessories   \n",
       "59               Mobiles & Tablets Accessories   \n",
       "60    Computers & Laptops Computer Accessories   \n",
       "61               Mobiles & Tablets Accessories   \n",
       "62               Mobiles & Tablets Accessories   \n",
       "63               Mobiles & Tablets Accessories   \n",
       "64    Computers & Laptops Computer Accessories   \n",
       "65                 Computers & Laptops Storage   \n",
       "66               Mobiles & Tablets Accessories   \n",
       "67                                 Fashion Men   \n",
       "68      Watches Sunglasses Jewellery Jewellery   \n",
       "69        Watches Sunglasses Jewellery Watches   \n",
       "\n",
       "                                    short_description   price   product_type  \\\n",
       "50  <ul> <li>Fine Workmanship</li> <li>Quality Fab...  122.00  international   \n",
       "51  Color : PurpleJewelry Type : BraceletMaterial ...   83.00  international   \n",
       "52  <ul> <li>Model Number:N922-A N922-B N922-C N92...   31.40  international   \n",
       "53  <ul> <li>Skin Care</li> <li>Skin Essence</li> ...  135.00  international   \n",
       "54  CompatibleiPhoneModel: iPhone6 / CompatibleBra...   22.00  international   \n",
       "55  <ul> <li>Country/Region of Manufacture:China</...   13.70  international   \n",
       "56  <div> <ol style=\"list-style-type: decimal;\"> <...   71.00          local   \n",
       "57  <ul> <li>Ultra Slim Design and Stylish</li> <l...   31.70  international   \n",
       "58  <ul> <li>Brand New Replacement Product</li> <l...  300.00          local   \n",
       "59  <div> <ul> <li>Designed for Apple iPad 2,3,4</...   55.92  international   \n",
       "60  <ul> <li>Material:plastic'Cable length:2.2m/7....  129.60  international   \n",
       "61  <ul> <li>Top quality Hard PC &nbsp;material .<...   29.00  international   \n",
       "62  <div> <ul> <li>Flexible, Elastic, and Durable ...   27.50  international   \n",
       "63  <ul> <li>High quality PU faux leather with Win...   39.00  international   \n",
       "64  <ul> <li>100-240V AC input Voltage</li> <li>In...   59.00          local   \n",
       "65  <ul> <li>USB connection,support Hot plug &amp;...   40.99  international   \n",
       "66  <ul> <li>100% Brand new and high quality.&nbsp...   20.90  international   \n",
       "67  <ul> <li>Slim</li> <li>Bomber Jackets</li> <li...   79.90  international   \n",
       "68  <ul> <li>Fine or Fashion:Fashion</li> <li>Item...    8.00  international   \n",
       "69  <ul> <li>Round watch dial with roman hour inde...   17.40  international   \n",
       "\n",
       "    clarity  conciseness                                    new_description  \n",
       "50        1            1  \\nFine Workmanship\\nQuality Fabrics\\nExquisite...  \n",
       "51        1            1  Color : PurpleJewelry Type : BraceletMaterial ...  \n",
       "52        1            0  \\nModel Number:N922-A N922-B N922-C N922-D\\nMa...  \n",
       "53        1            1         \\nSkin Care\\nSkin Essence\\nMoisture effect  \n",
       "54        1            0  CompatibleiPhoneModel: iPhone6 / CompatibleBra...  \n",
       "55        1            1  \\nCountry/Region of Manufacture:China\\nConnect...  \n",
       "56        1            0  <div> <ol style=\"list-style-type: decimal;\"> <...  \n",
       "57        1            1  \\nUltra Slim Design and Stylish\\nKST Pattern P...  \n",
       "58        1            1  \\nBrand New Replacement Product\\nWorks as genu...  \n",
       "59        1            0  \\nDesigned for Apple iPad 2,3,4\\nSuper Light W...  \n",
       "60        1            0  \\nMaterial:plastic'Cable length:2.2m/7.2ft\\nFl...  \n",
       "61        1            0  \\nTop quality Hard PC  material .\\nCompatible ...  \n",
       "62        1            1  \\nFlexible, Elastic, and Durable TPU material ...  \n",
       "63        1            0  \\nHigh quality PU faux leather with Window vie...  \n",
       "64        1            1  \\n100-240V AC input Voltage\\nInsulation Streng...  \n",
       "65        1            0  \\nUSB connection,support Hot plug & Play.\\nNo ...  \n",
       "66        1            1  \\n100% Brand new and high quality. \\nBattery c...  \n",
       "67        1            1  \\nSlim\\nBomber Jackets\\nSuitable for M-4XL\\nZi...  \n",
       "68        1            1  \\nFine or Fashion:Fashion\\nItem Type:Bracelet\\...  \n",
       "69        1            0  \\nRound watch dial with roman hour indexes.\\nH...  "
      ],
      "text/html": "<div>\n<style scoped>\n    .dataframe tbody tr th:only-of-type {\n        vertical-align: middle;\n    }\n\n    .dataframe tbody tr th {\n        vertical-align: top;\n    }\n\n    .dataframe thead th {\n        text-align: right;\n    }\n</style>\n<table border=\"1\" class=\"dataframe\">\n  <thead>\n    <tr style=\"text-align: right;\">\n      <th></th>\n      <th>country</th>\n      <th>sku_id</th>\n      <th>title</th>\n      <th>category_lvl_1</th>\n      <th>category_lvl_2</th>\n      <th>category_lvl_3</th>\n      <th>short_description</th>\n      <th>price</th>\n      <th>product_type</th>\n      <th>clarity</th>\n      <th>conciseness</th>\n      <th>new_description</th>\n    </tr>\n  </thead>\n  <tbody>\n    <tr>\n      <th>50</th>\n      <td>my</td>\n      <td>NO037HLAA6KY20ANMY</td>\n      <td>Creative Decoration 50*70cm Prints &amp;amp; Poste...</td>\n      <td>Home &amp; Living</td>\n      <td>Home Décor</td>\n      <td>Home &amp; Living Home Décor</td>\n      <td>&lt;ul&gt; &lt;li&gt;Fine Workmanship&lt;/li&gt; &lt;li&gt;Quality Fab...</td>\n      <td>122.00</td>\n      <td>international</td>\n      <td>1</td>\n      <td>1</td>\n      <td>\\nFine Workmanship\\nQuality Fabrics\\nExquisite...</td>\n    </tr>\n    <tr>\n      <th>51</th>\n      <td>my</td>\n      <td>NO037OTAA3BK6UANMY</td>\n      <td>HKS Jin Yuji Austria Crystal Bracelet (Purple)</td>\n      <td>Watches Sunglasses Jewellery</td>\n      <td>Jewellery</td>\n      <td>Watches Sunglasses Jewellery Jewellery</td>\n      <td>Color : PurpleJewelry Type : BraceletMaterial ...</td>\n      <td>83.00</td>\n      <td>international</td>\n      <td>1</td>\n      <td>1</td>\n      <td>Color : PurpleJewelry Type : BraceletMaterial ...</td>\n    </tr>\n    <tr>\n      <th>52</th>\n      <td>my</td>\n      <td>NO037OTAA4WU6OANMY</td>\n      <td>Wholesale Nickle Free Antiallergic 18K Real Go...</td>\n      <td>Watches Sunglasses Jewellery</td>\n      <td>Jewellery</td>\n      <td>Watches Sunglasses Jewellery Jewellery</td>\n      <td>&lt;ul&gt; &lt;li&gt;Model Number:N922-A N922-B N922-C N92...</td>\n      <td>31.40</td>\n      <td>international</td>\n      <td>1</td>\n      <td>0</td>\n      <td>\\nModel Number:N922-A N922-B N922-C N922-D\\nMa...</td>\n    </tr>\n    <tr>\n      <th>53</th>\n      <td>my</td>\n      <td>NO177HBAAAL7V7ANMY</td>\n      <td>NoTS Begin 28 Organic Daily Moisturizer</td>\n      <td>Health &amp; Beauty</td>\n      <td>Skin Care</td>\n      <td>Health &amp; Beauty Skin Care</td>\n      <td>&lt;ul&gt; &lt;li&gt;Skin Care&lt;/li&gt; &lt;li&gt;Skin Essence&lt;/li&gt; ...</td>\n      <td>135.00</td>\n      <td>international</td>\n      <td>1</td>\n      <td>1</td>\n      <td>\\nSkin Care\\nSkin Essence\\nMoisture effect</td>\n    </tr>\n    <tr>\n      <th>54</th>\n      <td>my</td>\n      <td>NO990ELAABUH3GANMY</td>\n      <td>Ultrathin i6 Cover For iphone 6 Transparent So...</td>\n      <td>Mobiles &amp; Tablets</td>\n      <td>Accessories</td>\n      <td>Mobiles &amp; Tablets Accessories</td>\n      <td>CompatibleiPhoneModel: iPhone6 / CompatibleBra...</td>\n      <td>22.00</td>\n      <td>international</td>\n      <td>1</td>\n      <td>0</td>\n      <td>CompatibleiPhoneModel: iPhone6 / CompatibleBra...</td>\n    </tr>\n    <tr>\n      <th>55</th>\n      <td>my</td>\n      <td>OE702ELAA5E5OGANMY</td>\n      <td>High Speed 4 Port USB 2.0 Multi HUB Splitter E...</td>\n      <td>Computers &amp; Laptops</td>\n      <td>Computer Accessories</td>\n      <td>Computers &amp; Laptops Computer Accessories</td>\n      <td>&lt;ul&gt; &lt;li&gt;Country/Region of Manufacture:China&lt;/...</td>\n      <td>13.70</td>\n      <td>international</td>\n      <td>1</td>\n      <td>1</td>\n      <td>\\nCountry/Region of Manufacture:China\\nConnect...</td>\n    </tr>\n    <tr>\n      <th>56</th>\n      <td>my</td>\n      <td>OE702ELAA7KBC2ANMY</td>\n      <td>2 Units Compatible Laser Toner Brother TN-2150...</td>\n      <td>Computers &amp; Laptops</td>\n      <td>Printers &amp; Accessories</td>\n      <td>Computers &amp; Laptops Printers &amp; Accessories</td>\n      <td>&lt;div&gt; &lt;ol style=\"list-style-type: decimal;\"&gt; &lt;...</td>\n      <td>71.00</td>\n      <td>local</td>\n      <td>1</td>\n      <td>0</td>\n      <td>&lt;div&gt; &lt;ol style=\"list-style-type: decimal;\"&gt; &lt;...</td>\n    </tr>\n    <tr>\n      <th>57</th>\n      <td>my</td>\n      <td>OE702ELAA7LP9KANMY</td>\n      <td>BYT KST Pattern Solid Color Tablet Leather Fli...</td>\n      <td>Mobiles &amp; Tablets</td>\n      <td>Accessories</td>\n      <td>Mobiles &amp; Tablets Accessories</td>\n      <td>&lt;ul&gt; &lt;li&gt;Ultra Slim Design and Stylish&lt;/li&gt; &lt;l...</td>\n      <td>31.70</td>\n      <td>international</td>\n      <td>1</td>\n      <td>1</td>\n      <td>\\nUltra Slim Design and Stylish\\nKST Pattern P...</td>\n    </tr>\n    <tr>\n      <th>58</th>\n      <td>my</td>\n      <td>OE702ELAA92006ANMY</td>\n      <td>Laptop Battery For HP Envy 4-1245TU SLEEKBOOK</td>\n      <td>Computers &amp; Laptops</td>\n      <td>Computer Accessories</td>\n      <td>Computers &amp; Laptops Computer Accessories</td>\n      <td>&lt;ul&gt; &lt;li&gt;Brand New Replacement Product&lt;/li&gt; &lt;l...</td>\n      <td>300.00</td>\n      <td>local</td>\n      <td>1</td>\n      <td>1</td>\n      <td>\\nBrand New Replacement Product\\nWorks as genu...</td>\n    </tr>\n    <tr>\n      <th>59</th>\n      <td>my</td>\n      <td>OE702ELAA9TA8GANMY</td>\n      <td>iPad 2/3/4 Kiddie Case - AOOBCC EVA Shock Proo...</td>\n      <td>Mobiles &amp; Tablets</td>\n      <td>Accessories</td>\n      <td>Mobiles &amp; Tablets Accessories</td>\n      <td>&lt;div&gt; &lt;ul&gt; &lt;li&gt;Designed for Apple iPad 2,3,4&lt;/...</td>\n      <td>55.92</td>\n      <td>international</td>\n      <td>1</td>\n      <td>0</td>\n      <td>\\nDesigned for Apple iPad 2,3,4\\nSuper Light W...</td>\n    </tr>\n    <tr>\n      <th>60</th>\n      <td>my</td>\n      <td>OE702ELAAA1ISOANMY</td>\n      <td>jaywog Each Professional 3.5mm Stereo Noise Ca...</td>\n      <td>Computers &amp; Laptops</td>\n      <td>Computer Accessories</td>\n      <td>Computers &amp; Laptops Computer Accessories</td>\n      <td>&lt;ul&gt; &lt;li&gt;Material:plastic'Cable length:2.2m/7....</td>\n      <td>129.60</td>\n      <td>international</td>\n      <td>1</td>\n      <td>0</td>\n      <td>\\nMaterial:plastic'Cable length:2.2m/7.2ft\\nFl...</td>\n    </tr>\n    <tr>\n      <th>61</th>\n      <td>my</td>\n      <td>OE702ELAAA4B0VANMY</td>\n      <td>Phone Case for Apple iPhone 6 plus 6s Plus 2 i...</td>\n      <td>Mobiles &amp; Tablets</td>\n      <td>Accessories</td>\n      <td>Mobiles &amp; Tablets Accessories</td>\n      <td>&lt;ul&gt; &lt;li&gt;Top quality Hard PC &amp;nbsp;material .&lt;...</td>\n      <td>29.00</td>\n      <td>international</td>\n      <td>1</td>\n      <td>0</td>\n      <td>\\nTop quality Hard PC  material .\\nCompatible ...</td>\n    </tr>\n    <tr>\n      <th>62</th>\n      <td>my</td>\n      <td>OE702ELAAAQJMHANMY</td>\n      <td>For Asus Zenfone Go ZC500TG TPU 3D Painting Co...</td>\n      <td>Mobiles &amp; Tablets</td>\n      <td>Accessories</td>\n      <td>Mobiles &amp; Tablets Accessories</td>\n      <td>&lt;div&gt; &lt;ul&gt; &lt;li&gt;Flexible, Elastic, and Durable ...</td>\n      <td>27.50</td>\n      <td>international</td>\n      <td>1</td>\n      <td>1</td>\n      <td>\\nFlexible, Elastic, and Durable TPU material ...</td>\n    </tr>\n    <tr>\n      <th>63</th>\n      <td>my</td>\n      <td>OE702ELAAAUB29ANMY</td>\n      <td>For Samsung Galaxy S3 / i9300 4.8\" inch Double...</td>\n      <td>Mobiles &amp; Tablets</td>\n      <td>Accessories</td>\n      <td>Mobiles &amp; Tablets Accessories</td>\n      <td>&lt;ul&gt; &lt;li&gt;High quality PU faux leather with Win...</td>\n      <td>39.00</td>\n      <td>international</td>\n      <td>1</td>\n      <td>0</td>\n      <td>\\nHigh quality PU faux leather with Window vie...</td>\n    </tr>\n    <tr>\n      <th>64</th>\n      <td>my</td>\n      <td>OE702ELAAAV376ANMY</td>\n      <td>[NEW DESIGN]Acer Aspire 2020 series 19v 3.42a ...</td>\n      <td>Computers &amp; Laptops</td>\n      <td>Computer Accessories</td>\n      <td>Computers &amp; Laptops Computer Accessories</td>\n      <td>&lt;ul&gt; &lt;li&gt;100-240V AC input Voltage&lt;/li&gt; &lt;li&gt;In...</td>\n      <td>59.00</td>\n      <td>local</td>\n      <td>1</td>\n      <td>1</td>\n      <td>\\n100-240V AC input Voltage\\nInsulation Streng...</td>\n    </tr>\n    <tr>\n      <th>65</th>\n      <td>my</td>\n      <td>OE702ELAAB4I5SANMY</td>\n      <td>flash drive1TB memory stick real capacity u di...</td>\n      <td>Computers &amp; Laptops</td>\n      <td>Storage</td>\n      <td>Computers &amp; Laptops Storage</td>\n      <td>&lt;ul&gt; &lt;li&gt;USB connection,support Hot plug &amp;amp;...</td>\n      <td>40.99</td>\n      <td>international</td>\n      <td>1</td>\n      <td>0</td>\n      <td>\\nUSB connection,support Hot plug &amp; Play.\\nNo ...</td>\n    </tr>\n    <tr>\n      <th>66</th>\n      <td>my</td>\n      <td>OE702ELCV5XKANMY</td>\n      <td>Battery Wall Charger Adapter Dock US Plug for ...</td>\n      <td>Mobiles &amp; Tablets</td>\n      <td>Accessories</td>\n      <td>Mobiles &amp; Tablets Accessories</td>\n      <td>&lt;ul&gt; &lt;li&gt;100% Brand new and high quality.&amp;nbsp...</td>\n      <td>20.90</td>\n      <td>international</td>\n      <td>1</td>\n      <td>1</td>\n      <td>\\n100% Brand new and high quality. \\nBattery c...</td>\n    </tr>\n    <tr>\n      <th>67</th>\n      <td>my</td>\n      <td>OE702FAAACHFM5ANMY</td>\n      <td>2017 New Men's Stand-up Collar Jacket Green</td>\n      <td>Fashion</td>\n      <td>Men</td>\n      <td>Fashion Men</td>\n      <td>&lt;ul&gt; &lt;li&gt;Slim&lt;/li&gt; &lt;li&gt;Bomber Jackets&lt;/li&gt; &lt;li...</td>\n      <td>79.90</td>\n      <td>international</td>\n      <td>1</td>\n      <td>1</td>\n      <td>\\nSlim\\nBomber Jackets\\nSuitable for M-4XL\\nZi...</td>\n    </tr>\n    <tr>\n      <th>68</th>\n      <td>my</td>\n      <td>OE702FAAY27FANMY</td>\n      <td>Fancyqube Double Peach Heart Gold-Plated Brace...</td>\n      <td>Watches Sunglasses Jewellery</td>\n      <td>Jewellery</td>\n      <td>Watches Sunglasses Jewellery Jewellery</td>\n      <td>&lt;ul&gt; &lt;li&gt;Fine or Fashion:Fashion&lt;/li&gt; &lt;li&gt;Item...</td>\n      <td>8.00</td>\n      <td>international</td>\n      <td>1</td>\n      <td>1</td>\n      <td>\\nFine or Fashion:Fashion\\nItem Type:Bracelet\\...</td>\n    </tr>\n    <tr>\n      <th>69</th>\n      <td>my</td>\n      <td>OE702FAAZI92ANMY</td>\n      <td>OEM New Fashion Classic Lady Womens Girl Unise...</td>\n      <td>Watches Sunglasses Jewellery</td>\n      <td>Watches</td>\n      <td>Watches Sunglasses Jewellery Watches</td>\n      <td>&lt;ul&gt; &lt;li&gt;Round watch dial with roman hour inde...</td>\n      <td>17.40</td>\n      <td>international</td>\n      <td>1</td>\n      <td>0</td>\n      <td>\\nRound watch dial with roman hour indexes.\\nH...</td>\n    </tr>\n  </tbody>\n</table>\n</div>"
     },
     "metadata": {},
     "execution_count": 529
    }
   ],
   "source": [
    "training_data.iloc[50:70]"
   ]
  },
  {
   "cell_type": "code",
   "execution_count": 530,
   "metadata": {},
   "outputs": [
    {
     "output_type": "stream",
     "name": "stdout",
     "text": [
      "country 0\nsku_id 0\ntitle 0\ncategory_lvl_1 0\ncategory_lvl_2 0\ncategory_lvl_3 0\nshort_description 33\nprice 0\nproduct_type 277\nclarity 0\nconciseness 0\nnew_description 33\n"
     ]
    }
   ],
   "source": [
    "printColumnWithNA(training_data)"
   ]
  },
  {
   "cell_type": "code",
   "execution_count": 531,
   "metadata": {},
   "outputs": [],
   "source": [
    "for idx in range(0, len(training_data)):\n",
    "\n",
    "    entry = training_data.loc[idx, 'short_description']\n",
    "\n",
    "    if type(entry) is float:\n",
    "        training_data.loc[idx, 'new_description'] = training_data.loc[idx, 'category_lvl_3']"
   ]
  },
  {
   "cell_type": "code",
   "execution_count": 532,
   "metadata": {},
   "outputs": [
    {
     "output_type": "stream",
     "name": "stdout",
     "text": [
      "country 0\nsku_id 0\ntitle 0\ncategory_lvl_1 0\ncategory_lvl_2 0\ncategory_lvl_3 0\nshort_description 33\nprice 0\nproduct_type 277\nclarity 0\nconciseness 0\nnew_description 0\n"
     ]
    }
   ],
   "source": [
    "printColumnWithNA(training_data)"
   ]
  },
  {
   "cell_type": "code",
   "execution_count": 533,
   "metadata": {},
   "outputs": [],
   "source": [
    "del training_data['short_description']"
   ]
  },
  {
   "source": [
    "### Column - Product Type"
   ],
   "cell_type": "markdown",
   "metadata": {}
  },
  {
   "cell_type": "code",
   "execution_count": 534,
   "metadata": {},
   "outputs": [],
   "source": [
    "international_perc = list(training_data['product_type'].value_counts())[0] / len(training_data)\n",
    "local_perc = list(training_data['product_type'].value_counts())[1] / len(training_data)\n",
    "\n",
    "international_count = 0\n",
    "local_count = 0\n",
    "\n",
    "international_floor_count = math.floor(international_perc * 277)\n",
    "local_floor_count = math.floor(local_perc * 277)\n",
    "\n",
    "for idx in range(0, len(training_data)):\n",
    "\n",
    "    entry = training_data.loc[idx, 'product_type']\n",
    "\n",
    "    if type(entry) is float:\n",
    "\n",
    "        if international_count < international_floor_count:\n",
    "\n",
    "            training_data.loc[idx, 'product_type'] = 'international'\n",
    "            international_count += 1\n",
    "\n",
    "        elif local_count < local_floor_count:\n",
    "\n",
    "            training_data.loc[idx, 'product_type'] = 'local'\n",
    "            local_count +=1"
   ]
  },
  {
   "cell_type": "code",
   "execution_count": 535,
   "metadata": {},
   "outputs": [
    {
     "output_type": "stream",
     "name": "stdout",
     "text": [
      "country 0\nsku_id 0\ntitle 0\ncategory_lvl_1 0\ncategory_lvl_2 0\ncategory_lvl_3 0\nprice 0\nproduct_type 3\nclarity 0\nconciseness 0\nnew_description 0\n"
     ]
    }
   ],
   "source": [
    "printColumnWithNA(training_data)"
   ]
  },
  {
   "source": [
    "### Final Preprocessing Results"
   ],
   "cell_type": "markdown",
   "metadata": {}
  },
  {
   "cell_type": "code",
   "execution_count": 536,
   "metadata": {},
   "outputs": [
    {
     "output_type": "execute_result",
     "data": {
      "text/plain": [
       "Index(['country', 'sku_id', 'title', 'category_lvl_1', 'category_lvl_2',\n",
       "       'category_lvl_3', 'price', 'product_type', 'clarity', 'conciseness',\n",
       "       'new_description'],\n",
       "      dtype='object')"
      ]
     },
     "metadata": {},
     "execution_count": 536
    }
   ],
   "source": [
    "training_data.columns"
   ]
  },
  {
   "cell_type": "code",
   "execution_count": 537,
   "metadata": {},
   "outputs": [],
   "source": [
    "column_names = ['sku_id', 'country', 'title', 'new_description', 'price', 'product_type', 'category_lvl_1', 'category_lvl_2', 'category_lvl_3', 'clarity', 'conciseness']\n",
    "\n",
    "training_data = training_data.reindex(columns=column_names)"
   ]
  },
  {
   "cell_type": "code",
   "execution_count": 538,
   "metadata": {},
   "outputs": [
    {
     "output_type": "execute_result",
     "data": {
      "text/plain": [
       "               sku_id country  \\\n",
       "0    AD674FAASTLXANMY      my   \n",
       "1  AE068HBAA3RPRDANMY      my   \n",
       "2  AN680ELAA9VN57ANMY      my   \n",
       "3  AN957HBAAAHDF4ANMY      my   \n",
       "4    AR511HBAXNWAANMY      my   \n",
       "\n",
       "                                               title  \\\n",
       "0       Adana Gallery Suri Square Hijab – Light Pink   \n",
       "1  Cuba Heartbreaker Eau De Parfum Spray 100ml/3.3oz   \n",
       "2  Andoer 150cm Cellphone Smartphone Mini Dual-He...   \n",
       "3  ANMYNA Complaint Silky Set 柔顺洗发配套 (Shampoo 520...   \n",
       "4  Argital Argiltubo Green Clay For Face and Body...   \n",
       "\n",
       "                                     new_description   price   product_type  \\\n",
       "0  \\nMaterial : Non sheer shimmer chiffon\\nSizes ...   49.00          local   \n",
       "1  Formulated with oil-free hydrating botanicals/...  128.00  international   \n",
       "2  \\n150cm mini microphone compatible for iPhone,...   25.07  international   \n",
       "3  \\nANMYNA Complaint Silky Set (Shampoo 520ml + ...  118.00          local   \n",
       "4  \\n100% Authentic\\nRrefresh and brighten skin\\n...  114.80  international   \n",
       "\n",
       "                          category_lvl_1 category_lvl_2  \\\n",
       "0                                Fashion          Women   \n",
       "1                        Health & Beauty    Bath & Body   \n",
       "2  TV, Audio / Video, Gaming & Wearables          Audio   \n",
       "3                        Health & Beauty      Hair Care   \n",
       "4                        Health & Beauty     Men's Care   \n",
       "\n",
       "                                category_lvl_3  clarity  conciseness  \n",
       "0                                Fashion Women        1            1  \n",
       "1                  Health & Beauty Bath & Body        1            1  \n",
       "2  TV, Audio / Video, Gaming & Wearables Audio        1            0  \n",
       "3                    Health & Beauty Hair Care        1            1  \n",
       "4                   Health & Beauty Men's Care        1            1  "
      ],
      "text/html": "<div>\n<style scoped>\n    .dataframe tbody tr th:only-of-type {\n        vertical-align: middle;\n    }\n\n    .dataframe tbody tr th {\n        vertical-align: top;\n    }\n\n    .dataframe thead th {\n        text-align: right;\n    }\n</style>\n<table border=\"1\" class=\"dataframe\">\n  <thead>\n    <tr style=\"text-align: right;\">\n      <th></th>\n      <th>sku_id</th>\n      <th>country</th>\n      <th>title</th>\n      <th>new_description</th>\n      <th>price</th>\n      <th>product_type</th>\n      <th>category_lvl_1</th>\n      <th>category_lvl_2</th>\n      <th>category_lvl_3</th>\n      <th>clarity</th>\n      <th>conciseness</th>\n    </tr>\n  </thead>\n  <tbody>\n    <tr>\n      <th>0</th>\n      <td>AD674FAASTLXANMY</td>\n      <td>my</td>\n      <td>Adana Gallery Suri Square Hijab – Light Pink</td>\n      <td>\\nMaterial : Non sheer shimmer chiffon\\nSizes ...</td>\n      <td>49.00</td>\n      <td>local</td>\n      <td>Fashion</td>\n      <td>Women</td>\n      <td>Fashion Women</td>\n      <td>1</td>\n      <td>1</td>\n    </tr>\n    <tr>\n      <th>1</th>\n      <td>AE068HBAA3RPRDANMY</td>\n      <td>my</td>\n      <td>Cuba Heartbreaker Eau De Parfum Spray 100ml/3.3oz</td>\n      <td>Formulated with oil-free hydrating botanicals/...</td>\n      <td>128.00</td>\n      <td>international</td>\n      <td>Health &amp; Beauty</td>\n      <td>Bath &amp; Body</td>\n      <td>Health &amp; Beauty Bath &amp; Body</td>\n      <td>1</td>\n      <td>1</td>\n    </tr>\n    <tr>\n      <th>2</th>\n      <td>AN680ELAA9VN57ANMY</td>\n      <td>my</td>\n      <td>Andoer 150cm Cellphone Smartphone Mini Dual-He...</td>\n      <td>\\n150cm mini microphone compatible for iPhone,...</td>\n      <td>25.07</td>\n      <td>international</td>\n      <td>TV, Audio / Video, Gaming &amp; Wearables</td>\n      <td>Audio</td>\n      <td>TV, Audio / Video, Gaming &amp; Wearables Audio</td>\n      <td>1</td>\n      <td>0</td>\n    </tr>\n    <tr>\n      <th>3</th>\n      <td>AN957HBAAAHDF4ANMY</td>\n      <td>my</td>\n      <td>ANMYNA Complaint Silky Set 柔顺洗发配套 (Shampoo 520...</td>\n      <td>\\nANMYNA Complaint Silky Set (Shampoo 520ml + ...</td>\n      <td>118.00</td>\n      <td>local</td>\n      <td>Health &amp; Beauty</td>\n      <td>Hair Care</td>\n      <td>Health &amp; Beauty Hair Care</td>\n      <td>1</td>\n      <td>1</td>\n    </tr>\n    <tr>\n      <th>4</th>\n      <td>AR511HBAXNWAANMY</td>\n      <td>my</td>\n      <td>Argital Argiltubo Green Clay For Face and Body...</td>\n      <td>\\n100% Authentic\\nRrefresh and brighten skin\\n...</td>\n      <td>114.80</td>\n      <td>international</td>\n      <td>Health &amp; Beauty</td>\n      <td>Men's Care</td>\n      <td>Health &amp; Beauty Men's Care</td>\n      <td>1</td>\n      <td>1</td>\n    </tr>\n  </tbody>\n</table>\n</div>"
     },
     "metadata": {},
     "execution_count": 538
    }
   ],
   "source": [
    "training_data.head()"
   ]
  },
  {
   "cell_type": "code",
   "execution_count": 539,
   "metadata": {},
   "outputs": [
    {
     "output_type": "stream",
     "name": "stdout",
     "text": [
      "sku_id 0\ncountry 0\ntitle 0\nnew_description 0\nprice 0\nproduct_type 3\ncategory_lvl_1 0\ncategory_lvl_2 0\ncategory_lvl_3 0\nclarity 0\nconciseness 0\n"
     ]
    }
   ],
   "source": [
    "printColumnWithNA(training_data)"
   ]
  },
  {
   "source": [
    "## Label Encoding"
   ],
   "cell_type": "markdown",
   "metadata": {}
  },
  {
   "cell_type": "code",
   "execution_count": 540,
   "metadata": {},
   "outputs": [],
   "source": [
    "le = LabelEncoder()\n",
    "\n",
    "for column in ['sku_id', 'country', 'category_lvl_1', 'category_lvl_2', 'category_lvl_3', 'product_type']:\n",
    "    le.fit(training_data[column])\n",
    "    training_data[column + '_encoded'] = le.transform(training_data[column])\n"
   ]
  },
  {
   "cell_type": "code",
   "execution_count": 542,
   "metadata": {},
   "outputs": [],
   "source": [
    "column_names = ['sku_id', 'country', 'title', 'new_description', 'price', 'product_type', 'category_lvl_1', 'category_lvl_2', 'category_lvl_3', 'sku_id_encoded', 'country_encoded', 'category_lvl_1_encoded', 'category_lvl_2_encoded', 'category_lvl_3_encoded', 'product_type_encoded', 'clarity', 'conciseness']\n",
    "\n",
    "training_data = training_data.reindex(columns=column_names)"
   ]
  },
  {
   "cell_type": "code",
   "execution_count": 543,
   "metadata": {},
   "outputs": [
    {
     "output_type": "execute_result",
     "data": {
      "text/plain": [
       "                    sku_id country  \\\n",
       "0         AD674FAASTLXANMY      my   \n",
       "1       AE068HBAA3RPRDANMY      my   \n",
       "2       AN680ELAA9VN57ANMY      my   \n",
       "3       AN957HBAAAHDF4ANMY      my   \n",
       "4         AR511HBAXNWAANMY      my   \n",
       "...                    ...     ...   \n",
       "36278  SA584ELAA4G4W0SGAMZ      sg   \n",
       "36279  SO499HAAA4CCLASGAMZ      sg   \n",
       "36280  TI990ELAA5ZV1JSGAMZ      sg   \n",
       "36281  WO203HLAA3KFPCSGAMZ      sg   \n",
       "36282  ZO445ELAA848V9SGAMZ      sg   \n",
       "\n",
       "                                                   title  \\\n",
       "0           Adana Gallery Suri Square Hijab – Light Pink   \n",
       "1      Cuba Heartbreaker Eau De Parfum Spray 100ml/3.3oz   \n",
       "2      Andoer 150cm Cellphone Smartphone Mini Dual-He...   \n",
       "3      ANMYNA Complaint Silky Set 柔顺洗发配套 (Shampoo 520...   \n",
       "4      Argital Argiltubo Green Clay For Face and Body...   \n",
       "...                                                  ...   \n",
       "36278  SADES K10 LED Backlit Wired USB Mechanical Gam...   \n",
       "36279                    SONA 20L Electric Oven SEO 2220   \n",
       "36280  OP1001 Portable Wireless Bluetooth 2.1 Speaker...   \n",
       "36281            Woot-Woot TicTacToe Pillow Case (White)   \n",
       "36282  New Smart Wristband D21 Smart Bracelet Heart R...   \n",
       "\n",
       "                                         new_description   price  \\\n",
       "0      \\nMaterial : Non sheer shimmer chiffon\\nSizes ...   49.00   \n",
       "1      Formulated with oil-free hydrating botanicals/...  128.00   \n",
       "2      \\n150cm mini microphone compatible for iPhone,...   25.07   \n",
       "3      \\nANMYNA Complaint Silky Set (Shampoo 520ml + ...  118.00   \n",
       "4      \\n100% Authentic\\nRrefresh and brighten skin\\n...  114.80   \n",
       "...                                                  ...     ...   \n",
       "36278  \\nNo driver needed.Blue Switches is the core o...   67.09   \n",
       "36279  \\n 2 Years Warranty\\nThermal Fuse Safety Prote...   69.00   \n",
       "36280  \\nWith colorful lights on the button, light up...   35.00   \n",
       "36281  \\n100% Cotton\\nSafe for Sensitive Skin\\nCool a...   23.00   \n",
       "36282  \\nCompatibility: requires android 4.3 or above...   31.00   \n",
       "\n",
       "        product_type                         category_lvl_1  \\\n",
       "0              local                                Fashion   \n",
       "1      international                        Health & Beauty   \n",
       "2      international  TV, Audio / Video, Gaming & Wearables   \n",
       "3              local                        Health & Beauty   \n",
       "4      international                        Health & Beauty   \n",
       "...              ...                                    ...   \n",
       "36278  international                    Computers & Laptops   \n",
       "36279          local                        Home Appliances   \n",
       "36280  international                    Computers & Laptops   \n",
       "36281          local                          Home & Living   \n",
       "36282  international  TV, Audio / Video, Gaming & Wearables   \n",
       "\n",
       "             category_lvl_2  \\\n",
       "0                     Women   \n",
       "1               Bath & Body   \n",
       "2                     Audio   \n",
       "3                 Hair Care   \n",
       "4                Men's Care   \n",
       "...                     ...   \n",
       "36278  Computer Accessories   \n",
       "36279      Large Appliances   \n",
       "36280  Computer Accessories   \n",
       "36281               Bedding   \n",
       "36282   Wearable Technology   \n",
       "\n",
       "                                          category_lvl_3  sku_id_encoded  \\\n",
       "0                                          Fashion Women             338   \n",
       "1                            Health & Beauty Bath & Body             350   \n",
       "2            TV, Audio / Video, Gaming & Wearables Audio             661   \n",
       "3                              Health & Beauty Hair Care             684   \n",
       "4                             Health & Beauty Men's Care             883   \n",
       "...                                                  ...             ...   \n",
       "36278           Computers & Laptops Computer Accessories           30801   \n",
       "36279                   Home Appliances Large Appliances           31916   \n",
       "36280           Computers & Laptops Computer Accessories           32710   \n",
       "36281                              Home & Living Bedding           35365   \n",
       "36282  TV, Audio / Video, Gaming & Wearables Wearable...           36203   \n",
       "\n",
       "       country_encoded  category_lvl_1_encoded  category_lvl_2_encoded  \\\n",
       "0                    0                       2                      56   \n",
       "1                    0                       3                       3   \n",
       "2                    0                       7                       1   \n",
       "3                    0                       3                      23   \n",
       "4                    0                       3                      36   \n",
       "...                ...                     ...                     ...   \n",
       "36278                2                       1                       8   \n",
       "36279                2                       5                      30   \n",
       "36280                2                       1                       8   \n",
       "36281                2                       4                       5   \n",
       "36282                2                       7                      55   \n",
       "\n",
       "       category_lvl_3_encoded  product_type_encoded  clarity  conciseness  \n",
       "0                          18                     1        1            1  \n",
       "1                          19                     0        1            1  \n",
       "2                          47                     0        1            0  \n",
       "3                          23                     1        1            1  \n",
       "4                          26                     0        1            1  \n",
       "...                       ...                   ...      ...          ...  \n",
       "36278                       8                     0        1            1  \n",
       "36279                      42                     1        1            1  \n",
       "36280                       8                     0        1            0  \n",
       "36281                      30                     1        1            1  \n",
       "36282                      53                     0        1            0  \n",
       "\n",
       "[36283 rows x 17 columns]"
      ],
      "text/html": "<div>\n<style scoped>\n    .dataframe tbody tr th:only-of-type {\n        vertical-align: middle;\n    }\n\n    .dataframe tbody tr th {\n        vertical-align: top;\n    }\n\n    .dataframe thead th {\n        text-align: right;\n    }\n</style>\n<table border=\"1\" class=\"dataframe\">\n  <thead>\n    <tr style=\"text-align: right;\">\n      <th></th>\n      <th>sku_id</th>\n      <th>country</th>\n      <th>title</th>\n      <th>new_description</th>\n      <th>price</th>\n      <th>product_type</th>\n      <th>category_lvl_1</th>\n      <th>category_lvl_2</th>\n      <th>category_lvl_3</th>\n      <th>sku_id_encoded</th>\n      <th>country_encoded</th>\n      <th>category_lvl_1_encoded</th>\n      <th>category_lvl_2_encoded</th>\n      <th>category_lvl_3_encoded</th>\n      <th>product_type_encoded</th>\n      <th>clarity</th>\n      <th>conciseness</th>\n    </tr>\n  </thead>\n  <tbody>\n    <tr>\n      <th>0</th>\n      <td>AD674FAASTLXANMY</td>\n      <td>my</td>\n      <td>Adana Gallery Suri Square Hijab – Light Pink</td>\n      <td>\\nMaterial : Non sheer shimmer chiffon\\nSizes ...</td>\n      <td>49.00</td>\n      <td>local</td>\n      <td>Fashion</td>\n      <td>Women</td>\n      <td>Fashion Women</td>\n      <td>338</td>\n      <td>0</td>\n      <td>2</td>\n      <td>56</td>\n      <td>18</td>\n      <td>1</td>\n      <td>1</td>\n      <td>1</td>\n    </tr>\n    <tr>\n      <th>1</th>\n      <td>AE068HBAA3RPRDANMY</td>\n      <td>my</td>\n      <td>Cuba Heartbreaker Eau De Parfum Spray 100ml/3.3oz</td>\n      <td>Formulated with oil-free hydrating botanicals/...</td>\n      <td>128.00</td>\n      <td>international</td>\n      <td>Health &amp; Beauty</td>\n      <td>Bath &amp; Body</td>\n      <td>Health &amp; Beauty Bath &amp; Body</td>\n      <td>350</td>\n      <td>0</td>\n      <td>3</td>\n      <td>3</td>\n      <td>19</td>\n      <td>0</td>\n      <td>1</td>\n      <td>1</td>\n    </tr>\n    <tr>\n      <th>2</th>\n      <td>AN680ELAA9VN57ANMY</td>\n      <td>my</td>\n      <td>Andoer 150cm Cellphone Smartphone Mini Dual-He...</td>\n      <td>\\n150cm mini microphone compatible for iPhone,...</td>\n      <td>25.07</td>\n      <td>international</td>\n      <td>TV, Audio / Video, Gaming &amp; Wearables</td>\n      <td>Audio</td>\n      <td>TV, Audio / Video, Gaming &amp; Wearables Audio</td>\n      <td>661</td>\n      <td>0</td>\n      <td>7</td>\n      <td>1</td>\n      <td>47</td>\n      <td>0</td>\n      <td>1</td>\n      <td>0</td>\n    </tr>\n    <tr>\n      <th>3</th>\n      <td>AN957HBAAAHDF4ANMY</td>\n      <td>my</td>\n      <td>ANMYNA Complaint Silky Set 柔顺洗发配套 (Shampoo 520...</td>\n      <td>\\nANMYNA Complaint Silky Set (Shampoo 520ml + ...</td>\n      <td>118.00</td>\n      <td>local</td>\n      <td>Health &amp; Beauty</td>\n      <td>Hair Care</td>\n      <td>Health &amp; Beauty Hair Care</td>\n      <td>684</td>\n      <td>0</td>\n      <td>3</td>\n      <td>23</td>\n      <td>23</td>\n      <td>1</td>\n      <td>1</td>\n      <td>1</td>\n    </tr>\n    <tr>\n      <th>4</th>\n      <td>AR511HBAXNWAANMY</td>\n      <td>my</td>\n      <td>Argital Argiltubo Green Clay For Face and Body...</td>\n      <td>\\n100% Authentic\\nRrefresh and brighten skin\\n...</td>\n      <td>114.80</td>\n      <td>international</td>\n      <td>Health &amp; Beauty</td>\n      <td>Men's Care</td>\n      <td>Health &amp; Beauty Men's Care</td>\n      <td>883</td>\n      <td>0</td>\n      <td>3</td>\n      <td>36</td>\n      <td>26</td>\n      <td>0</td>\n      <td>1</td>\n      <td>1</td>\n    </tr>\n    <tr>\n      <th>...</th>\n      <td>...</td>\n      <td>...</td>\n      <td>...</td>\n      <td>...</td>\n      <td>...</td>\n      <td>...</td>\n      <td>...</td>\n      <td>...</td>\n      <td>...</td>\n      <td>...</td>\n      <td>...</td>\n      <td>...</td>\n      <td>...</td>\n      <td>...</td>\n      <td>...</td>\n      <td>...</td>\n      <td>...</td>\n    </tr>\n    <tr>\n      <th>36278</th>\n      <td>SA584ELAA4G4W0SGAMZ</td>\n      <td>sg</td>\n      <td>SADES K10 LED Backlit Wired USB Mechanical Gam...</td>\n      <td>\\nNo driver needed.Blue Switches is the core o...</td>\n      <td>67.09</td>\n      <td>international</td>\n      <td>Computers &amp; Laptops</td>\n      <td>Computer Accessories</td>\n      <td>Computers &amp; Laptops Computer Accessories</td>\n      <td>30801</td>\n      <td>2</td>\n      <td>1</td>\n      <td>8</td>\n      <td>8</td>\n      <td>0</td>\n      <td>1</td>\n      <td>1</td>\n    </tr>\n    <tr>\n      <th>36279</th>\n      <td>SO499HAAA4CCLASGAMZ</td>\n      <td>sg</td>\n      <td>SONA 20L Electric Oven SEO 2220</td>\n      <td>\\n 2 Years Warranty\\nThermal Fuse Safety Prote...</td>\n      <td>69.00</td>\n      <td>local</td>\n      <td>Home Appliances</td>\n      <td>Large Appliances</td>\n      <td>Home Appliances Large Appliances</td>\n      <td>31916</td>\n      <td>2</td>\n      <td>5</td>\n      <td>30</td>\n      <td>42</td>\n      <td>1</td>\n      <td>1</td>\n      <td>1</td>\n    </tr>\n    <tr>\n      <th>36280</th>\n      <td>TI990ELAA5ZV1JSGAMZ</td>\n      <td>sg</td>\n      <td>OP1001 Portable Wireless Bluetooth 2.1 Speaker...</td>\n      <td>\\nWith colorful lights on the button, light up...</td>\n      <td>35.00</td>\n      <td>international</td>\n      <td>Computers &amp; Laptops</td>\n      <td>Computer Accessories</td>\n      <td>Computers &amp; Laptops Computer Accessories</td>\n      <td>32710</td>\n      <td>2</td>\n      <td>1</td>\n      <td>8</td>\n      <td>8</td>\n      <td>0</td>\n      <td>1</td>\n      <td>0</td>\n    </tr>\n    <tr>\n      <th>36281</th>\n      <td>WO203HLAA3KFPCSGAMZ</td>\n      <td>sg</td>\n      <td>Woot-Woot TicTacToe Pillow Case (White)</td>\n      <td>\\n100% Cotton\\nSafe for Sensitive Skin\\nCool a...</td>\n      <td>23.00</td>\n      <td>local</td>\n      <td>Home &amp; Living</td>\n      <td>Bedding</td>\n      <td>Home &amp; Living Bedding</td>\n      <td>35365</td>\n      <td>2</td>\n      <td>4</td>\n      <td>5</td>\n      <td>30</td>\n      <td>1</td>\n      <td>1</td>\n      <td>1</td>\n    </tr>\n    <tr>\n      <th>36282</th>\n      <td>ZO445ELAA848V9SGAMZ</td>\n      <td>sg</td>\n      <td>New Smart Wristband D21 Smart Bracelet Heart R...</td>\n      <td>\\nCompatibility: requires android 4.3 or above...</td>\n      <td>31.00</td>\n      <td>international</td>\n      <td>TV, Audio / Video, Gaming &amp; Wearables</td>\n      <td>Wearable Technology</td>\n      <td>TV, Audio / Video, Gaming &amp; Wearables Wearable...</td>\n      <td>36203</td>\n      <td>2</td>\n      <td>7</td>\n      <td>55</td>\n      <td>53</td>\n      <td>0</td>\n      <td>1</td>\n      <td>0</td>\n    </tr>\n  </tbody>\n</table>\n<p>36283 rows × 17 columns</p>\n</div>"
     },
     "metadata": {},
     "execution_count": 543
    }
   ],
   "source": [
    "training_data"
   ]
  },
  {
   "source": [
    "# Data Exploration "
   ],
   "cell_type": "markdown",
   "metadata": {}
  },
  {
   "cell_type": "code",
   "execution_count": 108,
   "metadata": {},
   "outputs": [
    {
     "output_type": "execute_result",
     "data": {
      "text/plain": [
       "      country               sku_id  \\\n",
       "0          my     AD674FAASTLXANMY   \n",
       "1          my   AE068HBAA3RPRDANMY   \n",
       "2          my   AN680ELAA9VN57ANMY   \n",
       "3          my   AN957HBAAAHDF4ANMY   \n",
       "4          my     AR511HBAXNWAANMY   \n",
       "...       ...                  ...   \n",
       "36278      sg  SA584ELAA4G4W0SGAMZ   \n",
       "36279      sg  SO499HAAA4CCLASGAMZ   \n",
       "36280      sg  TI990ELAA5ZV1JSGAMZ   \n",
       "36281      sg  WO203HLAA3KFPCSGAMZ   \n",
       "36282      sg  ZO445ELAA848V9SGAMZ   \n",
       "\n",
       "                                                   title  \\\n",
       "0           Adana Gallery Suri Square Hijab – Light Pink   \n",
       "1      Cuba Heartbreaker Eau De Parfum Spray 100ml/3.3oz   \n",
       "2      Andoer 150cm Cellphone Smartphone Mini Dual-He...   \n",
       "3      ANMYNA Complaint Silky Set 柔顺洗发配套 (Shampoo 520...   \n",
       "4      Argital Argiltubo Green Clay For Face and Body...   \n",
       "...                                                  ...   \n",
       "36278  SADES K10 LED Backlit Wired USB Mechanical Gam...   \n",
       "36279                    SONA 20L Electric Oven SEO 2220   \n",
       "36280  OP1001 Portable Wireless Bluetooth 2.1 Speaker...   \n",
       "36281            Woot-Woot TicTacToe Pillow Case (White)   \n",
       "36282  New Smart Wristband D21 Smart Bracelet Heart R...   \n",
       "\n",
       "                              category_lvl_1        category_lvl_2  \\\n",
       "0                                    Fashion                 Women   \n",
       "1                            Health & Beauty           Bath & Body   \n",
       "2      TV, Audio / Video, Gaming & Wearables                 Audio   \n",
       "3                            Health & Beauty             Hair Care   \n",
       "4                            Health & Beauty            Men's Care   \n",
       "...                                      ...                   ...   \n",
       "36278                    Computers & Laptops  Computer Accessories   \n",
       "36279                        Home Appliances      Large Appliances   \n",
       "36280                    Computers & Laptops  Computer Accessories   \n",
       "36281                          Home & Living               Bedding   \n",
       "36282  TV, Audio / Video, Gaming & Wearables   Wearable Technology   \n",
       "\n",
       "                category_lvl_3  \\\n",
       "0                  Muslim Wear   \n",
       "1             Hand & Foot Care   \n",
       "2           Live Sound & Stage   \n",
       "3      Shampoos & Conditioners   \n",
       "4           Body and Skin Care   \n",
       "...                        ...   \n",
       "36278                Keyboards   \n",
       "36279       Microwaves & Ovens   \n",
       "36280                 Speakers   \n",
       "36281       Pillows & Bolsters   \n",
       "36282        Activity Trackers   \n",
       "\n",
       "                                       short_description   price  \\\n",
       "0      <ul><li>Material : Non sheer shimmer chiffon</...   49.00   \n",
       "1      Formulated with oil-free hydrating botanicals/...  128.00   \n",
       "2      <ul> <li>150cm mini microphone compatible for ...   25.07   \n",
       "3      <ul> <li>ANMYNA Complaint Silky Set (Shampoo 5...  118.00   \n",
       "4      <ul> <li>100% Authentic</li> <li>Rrefresh and ...  114.80   \n",
       "...                                                  ...     ...   \n",
       "36278  <ul> <li>No driver needed.Blue Switches is the...   67.09   \n",
       "36279  <ul> <li>&nbsp;2 Years Warranty<br></li> <li>T...   69.00   \n",
       "36280  <ul> <li>With colorful lights on the button, l...   35.00   \n",
       "36281  <ul> <li>100% Cotton</li> <li>Safe for Sensiti...   23.00   \n",
       "36282  <ul> <li>Compatibility: requires android 4.3 o...   31.00   \n",
       "\n",
       "        product_type  clarity  conciseness  \n",
       "0              local        1            1  \n",
       "1      international        1            1  \n",
       "2      international        1            0  \n",
       "3              local        1            1  \n",
       "4      international        1            1  \n",
       "...              ...      ...          ...  \n",
       "36278  international        1            1  \n",
       "36279          local        1            1  \n",
       "36280  international        1            0  \n",
       "36281          local        1            1  \n",
       "36282  international        1            0  \n",
       "\n",
       "[36283 rows x 11 columns]"
      ],
      "text/html": "<div>\n<style scoped>\n    .dataframe tbody tr th:only-of-type {\n        vertical-align: middle;\n    }\n\n    .dataframe tbody tr th {\n        vertical-align: top;\n    }\n\n    .dataframe thead th {\n        text-align: right;\n    }\n</style>\n<table border=\"1\" class=\"dataframe\">\n  <thead>\n    <tr style=\"text-align: right;\">\n      <th></th>\n      <th>country</th>\n      <th>sku_id</th>\n      <th>title</th>\n      <th>category_lvl_1</th>\n      <th>category_lvl_2</th>\n      <th>category_lvl_3</th>\n      <th>short_description</th>\n      <th>price</th>\n      <th>product_type</th>\n      <th>clarity</th>\n      <th>conciseness</th>\n    </tr>\n  </thead>\n  <tbody>\n    <tr>\n      <th>0</th>\n      <td>my</td>\n      <td>AD674FAASTLXANMY</td>\n      <td>Adana Gallery Suri Square Hijab – Light Pink</td>\n      <td>Fashion</td>\n      <td>Women</td>\n      <td>Muslim Wear</td>\n      <td>&lt;ul&gt;&lt;li&gt;Material : Non sheer shimmer chiffon&lt;/...</td>\n      <td>49.00</td>\n      <td>local</td>\n      <td>1</td>\n      <td>1</td>\n    </tr>\n    <tr>\n      <th>1</th>\n      <td>my</td>\n      <td>AE068HBAA3RPRDANMY</td>\n      <td>Cuba Heartbreaker Eau De Parfum Spray 100ml/3.3oz</td>\n      <td>Health &amp; Beauty</td>\n      <td>Bath &amp; Body</td>\n      <td>Hand &amp; Foot Care</td>\n      <td>Formulated with oil-free hydrating botanicals/...</td>\n      <td>128.00</td>\n      <td>international</td>\n      <td>1</td>\n      <td>1</td>\n    </tr>\n    <tr>\n      <th>2</th>\n      <td>my</td>\n      <td>AN680ELAA9VN57ANMY</td>\n      <td>Andoer 150cm Cellphone Smartphone Mini Dual-He...</td>\n      <td>TV, Audio / Video, Gaming &amp; Wearables</td>\n      <td>Audio</td>\n      <td>Live Sound &amp; Stage</td>\n      <td>&lt;ul&gt; &lt;li&gt;150cm mini microphone compatible for ...</td>\n      <td>25.07</td>\n      <td>international</td>\n      <td>1</td>\n      <td>0</td>\n    </tr>\n    <tr>\n      <th>3</th>\n      <td>my</td>\n      <td>AN957HBAAAHDF4ANMY</td>\n      <td>ANMYNA Complaint Silky Set 柔顺洗发配套 (Shampoo 520...</td>\n      <td>Health &amp; Beauty</td>\n      <td>Hair Care</td>\n      <td>Shampoos &amp; Conditioners</td>\n      <td>&lt;ul&gt; &lt;li&gt;ANMYNA Complaint Silky Set (Shampoo 5...</td>\n      <td>118.00</td>\n      <td>local</td>\n      <td>1</td>\n      <td>1</td>\n    </tr>\n    <tr>\n      <th>4</th>\n      <td>my</td>\n      <td>AR511HBAXNWAANMY</td>\n      <td>Argital Argiltubo Green Clay For Face and Body...</td>\n      <td>Health &amp; Beauty</td>\n      <td>Men's Care</td>\n      <td>Body and Skin Care</td>\n      <td>&lt;ul&gt; &lt;li&gt;100% Authentic&lt;/li&gt; &lt;li&gt;Rrefresh and ...</td>\n      <td>114.80</td>\n      <td>international</td>\n      <td>1</td>\n      <td>1</td>\n    </tr>\n    <tr>\n      <th>...</th>\n      <td>...</td>\n      <td>...</td>\n      <td>...</td>\n      <td>...</td>\n      <td>...</td>\n      <td>...</td>\n      <td>...</td>\n      <td>...</td>\n      <td>...</td>\n      <td>...</td>\n      <td>...</td>\n    </tr>\n    <tr>\n      <th>36278</th>\n      <td>sg</td>\n      <td>SA584ELAA4G4W0SGAMZ</td>\n      <td>SADES K10 LED Backlit Wired USB Mechanical Gam...</td>\n      <td>Computers &amp; Laptops</td>\n      <td>Computer Accessories</td>\n      <td>Keyboards</td>\n      <td>&lt;ul&gt; &lt;li&gt;No driver needed.Blue Switches is the...</td>\n      <td>67.09</td>\n      <td>international</td>\n      <td>1</td>\n      <td>1</td>\n    </tr>\n    <tr>\n      <th>36279</th>\n      <td>sg</td>\n      <td>SO499HAAA4CCLASGAMZ</td>\n      <td>SONA 20L Electric Oven SEO 2220</td>\n      <td>Home Appliances</td>\n      <td>Large Appliances</td>\n      <td>Microwaves &amp; Ovens</td>\n      <td>&lt;ul&gt; &lt;li&gt;&amp;nbsp;2 Years Warranty&lt;br&gt;&lt;/li&gt; &lt;li&gt;T...</td>\n      <td>69.00</td>\n      <td>local</td>\n      <td>1</td>\n      <td>1</td>\n    </tr>\n    <tr>\n      <th>36280</th>\n      <td>sg</td>\n      <td>TI990ELAA5ZV1JSGAMZ</td>\n      <td>OP1001 Portable Wireless Bluetooth 2.1 Speaker...</td>\n      <td>Computers &amp; Laptops</td>\n      <td>Computer Accessories</td>\n      <td>Speakers</td>\n      <td>&lt;ul&gt; &lt;li&gt;With colorful lights on the button, l...</td>\n      <td>35.00</td>\n      <td>international</td>\n      <td>1</td>\n      <td>0</td>\n    </tr>\n    <tr>\n      <th>36281</th>\n      <td>sg</td>\n      <td>WO203HLAA3KFPCSGAMZ</td>\n      <td>Woot-Woot TicTacToe Pillow Case (White)</td>\n      <td>Home &amp; Living</td>\n      <td>Bedding</td>\n      <td>Pillows &amp; Bolsters</td>\n      <td>&lt;ul&gt; &lt;li&gt;100% Cotton&lt;/li&gt; &lt;li&gt;Safe for Sensiti...</td>\n      <td>23.00</td>\n      <td>local</td>\n      <td>1</td>\n      <td>1</td>\n    </tr>\n    <tr>\n      <th>36282</th>\n      <td>sg</td>\n      <td>ZO445ELAA848V9SGAMZ</td>\n      <td>New Smart Wristband D21 Smart Bracelet Heart R...</td>\n      <td>TV, Audio / Video, Gaming &amp; Wearables</td>\n      <td>Wearable Technology</td>\n      <td>Activity Trackers</td>\n      <td>&lt;ul&gt; &lt;li&gt;Compatibility: requires android 4.3 o...</td>\n      <td>31.00</td>\n      <td>international</td>\n      <td>1</td>\n      <td>0</td>\n    </tr>\n  </tbody>\n</table>\n<p>36283 rows × 11 columns</p>\n</div>"
     },
     "metadata": {},
     "execution_count": 108
    }
   ],
   "source": []
  },
  {
   "cell_type": "code",
   "execution_count": 54,
   "metadata": {},
   "outputs": [
    {
     "output_type": "stream",
     "name": "stdout",
     "text": [
      "Index(['country', 'sku_id', 'title', 'category_lvl_1', 'category_lvl_2',\n       'category_lvl_3', 'short_description', 'price', 'product_type'],\n      dtype='object')\n['my' 'ph' 'sg']\n36283\n9\n57\n185\n['local' 'international' nan]\n"
     ]
    }
   ],
   "source": [
    "# All column names\n",
    "print(training_data.columns)\n",
    "\n",
    "# Country uniqueness\n",
    "print(training_data.country.unique()) # [ 'my', 'ph', 'sg' ], 3\n",
    "\n",
    "# Title uniqueness\n",
    "print(len(training_data.title.unique())) # 36283, all unique\n",
    "\n",
    "# Cateogry # 1\n",
    "print(len(training_data.category_lvl_1.unique())) # 9\n",
    "\n",
    "# Category # 2\n",
    "print(len(training_data.category_lvl_2.unique())) # 9\n",
    "\n",
    "# Category # 3\n",
    "print(len(training_data.category_lvl_3.unique())) # 9\n",
    "\n",
    "# Product Types\n",
    "print(training_data.product_type.unique()) # 3, [ 'local', 'international', nan ] \n"
   ]
  },
  {
   "source": [
    "# Feature Engineering "
   ],
   "cell_type": "markdown",
   "metadata": {}
  },
  {
   "cell_type": "code",
   "execution_count": null,
   "metadata": {},
   "outputs": [],
   "source": []
  },
  {
   "cell_type": "code",
   "execution_count": null,
   "metadata": {},
   "outputs": [],
   "source": []
  },
  {
   "source": [
    "# Modelling "
   ],
   "cell_type": "markdown",
   "metadata": {}
  },
  {
   "cell_type": "code",
   "execution_count": null,
   "metadata": {},
   "outputs": [],
   "source": []
  }
 ]
}